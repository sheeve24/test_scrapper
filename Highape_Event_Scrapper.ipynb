{
 "cells": [
  {
   "cell_type": "code",
   "execution_count": 3,
   "id": "cfcadfbf-3d81-4a9d-a4ae-cbf6be1b84d2",
   "metadata": {},
   "outputs": [
    {
     "name": "stdout",
     "output_type": "stream",
     "text": [
      "Requirement already satisfied: pyppeteer in /opt/anaconda3/lib/python3.12/site-packages (2.0.0)\n",
      "Requirement already satisfied: pyppeteer_stealth in /opt/anaconda3/lib/python3.12/site-packages (2.7.4)\n",
      "Requirement already satisfied: pandas in /opt/anaconda3/lib/python3.12/site-packages (2.2.2)\n",
      "Requirement already satisfied: tqdm in /opt/anaconda3/lib/python3.12/site-packages (4.66.4)\n",
      "Requirement already satisfied: nest_asyncio in /opt/anaconda3/lib/python3.12/site-packages (1.6.0)\n",
      "Requirement already satisfied: appdirs<2.0.0,>=1.4.3 in /opt/anaconda3/lib/python3.12/site-packages (from pyppeteer) (1.4.4)\n",
      "Requirement already satisfied: certifi>=2023 in /opt/anaconda3/lib/python3.12/site-packages (from pyppeteer) (2024.8.30)\n",
      "Requirement already satisfied: importlib-metadata>=1.4 in /opt/anaconda3/lib/python3.12/site-packages (from pyppeteer) (7.0.1)\n",
      "Requirement already satisfied: pyee<12.0.0,>=11.0.0 in /opt/anaconda3/lib/python3.12/site-packages (from pyppeteer) (11.1.1)\n",
      "Requirement already satisfied: urllib3<2.0.0,>=1.25.8 in /opt/anaconda3/lib/python3.12/site-packages (from pyppeteer) (1.26.20)\n",
      "Requirement already satisfied: websockets<11.0,>=10.0 in /opt/anaconda3/lib/python3.12/site-packages (from pyppeteer) (10.4)\n",
      "Requirement already satisfied: numpy>=1.26.0 in /opt/anaconda3/lib/python3.12/site-packages (from pandas) (1.26.4)\n",
      "Requirement already satisfied: python-dateutil>=2.8.2 in /opt/anaconda3/lib/python3.12/site-packages (from pandas) (2.9.0.post0)\n",
      "Requirement already satisfied: pytz>=2020.1 in /opt/anaconda3/lib/python3.12/site-packages (from pandas) (2024.1)\n",
      "Requirement already satisfied: tzdata>=2022.7 in /opt/anaconda3/lib/python3.12/site-packages (from pandas) (2023.3)\n",
      "Requirement already satisfied: zipp>=0.5 in /opt/anaconda3/lib/python3.12/site-packages (from importlib-metadata>=1.4->pyppeteer) (3.17.0)\n",
      "Requirement already satisfied: typing-extensions in /opt/anaconda3/lib/python3.12/site-packages (from pyee<12.0.0,>=11.0.0->pyppeteer) (4.11.0)\n",
      "Requirement already satisfied: six>=1.5 in /opt/anaconda3/lib/python3.12/site-packages (from python-dateutil>=2.8.2->pandas) (1.16.0)\n",
      "Note: you may need to restart the kernel to use updated packages.\n"
     ]
    }
   ],
   "source": [
    "pip install pyppeteer pyppeteer_stealth pandas tqdm nest_asyncio"
   ]
  },
  {
   "cell_type": "code",
   "execution_count": 1,
   "id": "27e4f7af-57a6-4f9e-b1e5-ff1a1756e74f",
   "metadata": {},
   "outputs": [
    {
     "name": "stdout",
     "output_type": "stream",
     "text": [
      "📍 Available cities: bangalore, mumbai, hyderabad, ncr, pune, goa\n"
     ]
    },
    {
     "name": "stdin",
     "output_type": "stream",
     "text": [
      "👉 Enter city name(s) (comma-separated) or type 'all':  all\n"
     ]
    },
    {
     "name": "stderr",
     "output_type": "stream",
     "text": [
      "🌆 Scraping Cities:   0%|                                 | 0/6 [00:00<?, ?it/s]"
     ]
    },
    {
     "name": "stdout",
     "output_type": "stream",
     "text": [
      "⚠️ Retry 1/3 for https://highape.com/bangalore/all-events failed: Navigation Timeout Exceeded: 60000 ms exceeded.\n",
      "⚠️ Retry 2/3 for https://highape.com/bangalore/all-events failed: Protocol Error (Page.navigate): Session closed. Most likely the page has been closed.\n",
      "⚠️ Retry 3/3 for https://highape.com/bangalore/all-events failed: Protocol Error (Page.navigate): Session closed. Most likely the page has been closed.\n"
     ]
    },
    {
     "name": "stderr",
     "output_type": "stream",
     "text": [
      "🌆 Scraping Cities:   0%|                                 | 0/6 [01:07<?, ?it/s]"
     ]
    },
    {
     "name": "stdout",
     "output_type": "stream",
     "text": [
      "❌ Failed to load https://highape.com/bangalore/all-events\n"
     ]
    },
    {
     "name": "stderr",
     "output_type": "stream",
     "text": [
      "\n"
     ]
    },
    {
     "ename": "PageError",
     "evalue": "Protocol Error: Connection Closed. Most likely the page has been closed.",
     "output_type": "error",
     "traceback": [
      "\u001b[0;31m---------------------------------------------------------------------------\u001b[0m",
      "\u001b[0;31mPageError\u001b[0m                                 Traceback (most recent call last)",
      "Cell \u001b[0;32mIn[1], line 146\u001b[0m\n\u001b[1;32m    143\u001b[0m     \u001b[38;5;28mprint\u001b[39m(\u001b[38;5;124mf\u001b[39m\u001b[38;5;124m\"\u001b[39m\u001b[38;5;124m📁 Saved to: \u001b[39m\u001b[38;5;132;01m{\u001b[39;00mfilename\u001b[38;5;132;01m}\u001b[39;00m\u001b[38;5;124m\"\u001b[39m)\n\u001b[1;32m    145\u001b[0m \u001b[38;5;28;01mif\u001b[39;00m \u001b[38;5;18m__name__\u001b[39m \u001b[38;5;241m==\u001b[39m \u001b[38;5;124m'\u001b[39m\u001b[38;5;124m__main__\u001b[39m\u001b[38;5;124m'\u001b[39m:\n\u001b[0;32m--> 146\u001b[0m     asyncio\u001b[38;5;241m.\u001b[39mget_event_loop()\u001b[38;5;241m.\u001b[39mrun_until_complete(main())\n",
      "File \u001b[0;32m/opt/anaconda3/lib/python3.12/site-packages/nest_asyncio.py:98\u001b[0m, in \u001b[0;36m_patch_loop.<locals>.run_until_complete\u001b[0;34m(self, future)\u001b[0m\n\u001b[1;32m     95\u001b[0m \u001b[38;5;28;01mif\u001b[39;00m \u001b[38;5;129;01mnot\u001b[39;00m f\u001b[38;5;241m.\u001b[39mdone():\n\u001b[1;32m     96\u001b[0m     \u001b[38;5;28;01mraise\u001b[39;00m \u001b[38;5;167;01mRuntimeError\u001b[39;00m(\n\u001b[1;32m     97\u001b[0m         \u001b[38;5;124m'\u001b[39m\u001b[38;5;124mEvent loop stopped before Future completed.\u001b[39m\u001b[38;5;124m'\u001b[39m)\n\u001b[0;32m---> 98\u001b[0m \u001b[38;5;28;01mreturn\u001b[39;00m f\u001b[38;5;241m.\u001b[39mresult()\n",
      "File \u001b[0;32m/opt/anaconda3/lib/python3.12/asyncio/futures.py:203\u001b[0m, in \u001b[0;36mFuture.result\u001b[0;34m(self)\u001b[0m\n\u001b[1;32m    201\u001b[0m \u001b[38;5;28mself\u001b[39m\u001b[38;5;241m.\u001b[39m__log_traceback \u001b[38;5;241m=\u001b[39m \u001b[38;5;28;01mFalse\u001b[39;00m\n\u001b[1;32m    202\u001b[0m \u001b[38;5;28;01mif\u001b[39;00m \u001b[38;5;28mself\u001b[39m\u001b[38;5;241m.\u001b[39m_exception \u001b[38;5;129;01mis\u001b[39;00m \u001b[38;5;129;01mnot\u001b[39;00m \u001b[38;5;28;01mNone\u001b[39;00m:\n\u001b[0;32m--> 203\u001b[0m     \u001b[38;5;28;01mraise\u001b[39;00m \u001b[38;5;28mself\u001b[39m\u001b[38;5;241m.\u001b[39m_exception\u001b[38;5;241m.\u001b[39mwith_traceback(\u001b[38;5;28mself\u001b[39m\u001b[38;5;241m.\u001b[39m_exception_tb)\n\u001b[1;32m    204\u001b[0m \u001b[38;5;28;01mreturn\u001b[39;00m \u001b[38;5;28mself\u001b[39m\u001b[38;5;241m.\u001b[39m_result\n",
      "File \u001b[0;32m/opt/anaconda3/lib/python3.12/asyncio/tasks.py:314\u001b[0m, in \u001b[0;36mTask.__step_run_and_handle_result\u001b[0;34m(***failed resolving arguments***)\u001b[0m\n\u001b[1;32m    310\u001b[0m \u001b[38;5;28;01mtry\u001b[39;00m:\n\u001b[1;32m    311\u001b[0m     \u001b[38;5;28;01mif\u001b[39;00m exc \u001b[38;5;129;01mis\u001b[39;00m \u001b[38;5;28;01mNone\u001b[39;00m:\n\u001b[1;32m    312\u001b[0m         \u001b[38;5;66;03m# We use the `send` method directly, because coroutines\u001b[39;00m\n\u001b[1;32m    313\u001b[0m         \u001b[38;5;66;03m# don't have `__iter__` and `__next__` methods.\u001b[39;00m\n\u001b[0;32m--> 314\u001b[0m         result \u001b[38;5;241m=\u001b[39m coro\u001b[38;5;241m.\u001b[39msend(\u001b[38;5;28;01mNone\u001b[39;00m)\n\u001b[1;32m    315\u001b[0m     \u001b[38;5;28;01melse\u001b[39;00m:\n\u001b[1;32m    316\u001b[0m         result \u001b[38;5;241m=\u001b[39m coro\u001b[38;5;241m.\u001b[39mthrow(exc)\n",
      "Cell \u001b[0;32mIn[1], line 128\u001b[0m, in \u001b[0;36mmain\u001b[0;34m()\u001b[0m\n\u001b[1;32m    125\u001b[0m all_events \u001b[38;5;241m=\u001b[39m []\n\u001b[1;32m    127\u001b[0m \u001b[38;5;28;01mfor\u001b[39;00m city \u001b[38;5;129;01min\u001b[39;00m tqdm(cities, desc\u001b[38;5;241m=\u001b[39m\u001b[38;5;124m\"\u001b[39m\u001b[38;5;124m🌆 Scraping Cities\u001b[39m\u001b[38;5;124m\"\u001b[39m):\n\u001b[0;32m--> 128\u001b[0m     city_events \u001b[38;5;241m=\u001b[39m \u001b[38;5;28;01mawait\u001b[39;00m get_event_details_from_city(browser, city)\n\u001b[1;32m    129\u001b[0m     all_events\u001b[38;5;241m.\u001b[39mextend(city_events)\n\u001b[1;32m    131\u001b[0m \u001b[38;5;28;01mawait\u001b[39;00m browser\u001b[38;5;241m.\u001b[39mclose()\n",
      "Cell \u001b[0;32mIn[1], line 90\u001b[0m, in \u001b[0;36mget_event_details_from_city\u001b[0;34m(browser, city)\u001b[0m\n\u001b[1;32m     88\u001b[0m loaded \u001b[38;5;241m=\u001b[39m \u001b[38;5;28;01mawait\u001b[39;00m safe_goto(page, city_url)\n\u001b[1;32m     89\u001b[0m \u001b[38;5;28;01mif\u001b[39;00m \u001b[38;5;129;01mnot\u001b[39;00m loaded:\n\u001b[0;32m---> 90\u001b[0m     \u001b[38;5;28;01mawait\u001b[39;00m page\u001b[38;5;241m.\u001b[39mclose()\n\u001b[1;32m     91\u001b[0m     \u001b[38;5;28;01mreturn\u001b[39;00m []\n\u001b[1;32m     93\u001b[0m \u001b[38;5;28;01mawait\u001b[39;00m asyncio\u001b[38;5;241m.\u001b[39msleep(\u001b[38;5;241m6\u001b[39m)\n",
      "File \u001b[0;32m/opt/anaconda3/lib/python3.12/site-packages/pyppeteer/page.py:1432\u001b[0m, in \u001b[0;36mPage.close\u001b[0;34m(self, options, **kwargs)\u001b[0m\n\u001b[1;32m   1430\u001b[0m conn \u001b[38;5;241m=\u001b[39m \u001b[38;5;28mself\u001b[39m\u001b[38;5;241m.\u001b[39m_client\u001b[38;5;241m.\u001b[39m_connection\n\u001b[1;32m   1431\u001b[0m \u001b[38;5;28;01mif\u001b[39;00m conn \u001b[38;5;129;01mis\u001b[39;00m \u001b[38;5;28;01mNone\u001b[39;00m:\n\u001b[0;32m-> 1432\u001b[0m     \u001b[38;5;28;01mraise\u001b[39;00m PageError(\u001b[38;5;124m'\u001b[39m\u001b[38;5;124mProtocol Error: Connection Closed. \u001b[39m\u001b[38;5;124m'\u001b[39m \u001b[38;5;124m'\u001b[39m\u001b[38;5;124mMost likely the page has been closed.\u001b[39m\u001b[38;5;124m'\u001b[39m)\n\u001b[1;32m   1433\u001b[0m runBeforeUnload \u001b[38;5;241m=\u001b[39m \u001b[38;5;28mbool\u001b[39m(options\u001b[38;5;241m.\u001b[39mget(\u001b[38;5;124m'\u001b[39m\u001b[38;5;124mrunBeforeUnload\u001b[39m\u001b[38;5;124m'\u001b[39m))\n\u001b[1;32m   1434\u001b[0m \u001b[38;5;28;01mif\u001b[39;00m runBeforeUnload:\n",
      "\u001b[0;31mPageError\u001b[0m: Protocol Error: Connection Closed. Most likely the page has been closed."
     ]
    }
   ],
   "source": [
    "import pandas as pd\n",
    "import uuid\n",
    "import time\n",
    "from datetime import datetime\n",
    "import asyncio\n",
    "import nest_asyncio\n",
    "from pyppeteer import launch\n",
    "from pyppeteer_stealth import stealth\n",
    "import re\n",
    "import os\n",
    "from tqdm import tqdm\n",
    "\n",
    "nest_asyncio.apply()\n",
    "\n",
    "CITIES_AVAILABLE = ['bangalore', 'mumbai', 'hyderabad', 'ncr', 'pune', 'goa']\n",
    "\n",
    "async def auto_scroll(page):\n",
    "    await page.evaluate(\"\"\"\n",
    "        async function () {\n",
    "            await new Promise((resolve) => {\n",
    "                let totalHeight = 0;\n",
    "                const distance = 500;\n",
    "                const timer = setInterval(() => {\n",
    "                    const scrollHeight = document.body.scrollHeight;\n",
    "                    window.scrollBy(0, distance);\n",
    "                    totalHeight += distance;\n",
    "\n",
    "                    if (totalHeight >= scrollHeight){\n",
    "                        clearInterval(timer);\n",
    "                        resolve();\n",
    "                    }\n",
    "                }, 300);\n",
    "            });\n",
    "        }\n",
    "    \"\"\")\n",
    "\n",
    "async def safe_goto(page, url, retries=3):\n",
    "    for attempt in range(retries):\n",
    "        try:\n",
    "            await page.goto(url, {'waitUntil': 'networkidle2', 'timeout': 60000})\n",
    "            return True\n",
    "        except Exception as e:\n",
    "            print(f\"⚠️ Retry {attempt+1}/{retries} for {url} failed: {e}\")\n",
    "            await asyncio.sleep(2 ** attempt)\n",
    "    print(f\"❌ Failed to load {url}\")\n",
    "    return False\n",
    "\n",
    "async def extract_event_details(card):\n",
    "    try:\n",
    "        href = await card.querySelectorEval('a', 'el => el.href')\n",
    "        name = await card.querySelectorEval('.slider-title', 'el => el.innerText')\n",
    "        image_url = await card.querySelectorEval('img', 'el => el.src')\n",
    "        date = await card.querySelectorEval('.formatted-date-span', 'el => el.innerText')\n",
    "        time_ = await card.querySelectorEval('.formatted-day-span', 'el => el.innerText')\n",
    "        location = await card.querySelectorEval('.slider-location', 'el => el.innerText')\n",
    "        price = await card.querySelectorEval('.money-detail-section span', 'el => el.innerText')\n",
    "\n",
    "        try:\n",
    "            interested = await card.querySelectorEval('.icon-interested', 'el => el.innerText')\n",
    "        except:\n",
    "            interested = ''\n",
    "\n",
    "        categories = await card.querySelectorAllEval('.cats span', 'nodes => nodes.map(n => n.innerText)')\n",
    "\n",
    "        return {\n",
    "            'event_name': name.strip(),\n",
    "            'event_link': href.strip(),\n",
    "            'image_url': image_url.strip(),\n",
    "            'date': date.strip(),\n",
    "            'time': time_.strip(),\n",
    "            'location': location.strip(),\n",
    "            'categories': ', '.join([c.strip() for c in categories]),\n",
    "            'price_range': price.strip(),\n",
    "            'interested_count': interested.strip()\n",
    "        }\n",
    "\n",
    "    except Exception as e:\n",
    "        print(f\"❌ Error extracting event card: {e}\")\n",
    "        return None\n",
    "\n",
    "async def get_event_details_from_city(browser, city):\n",
    "    city_url = f\"https://highape.com/{city}/all-events\"\n",
    "    page = await browser.newPage()\n",
    "\n",
    "    await page.setUserAgent('Mozilla/5.0 (Windows NT 10.0; Win64; x64) AppleWebKit/537.36 (KHTML, like Gecko) Chrome/120.0.0.0 Safari/537.36')\n",
    "    await stealth(page)  # 🕵️ Apply stealth to bypass bot checks\n",
    "\n",
    "    loaded = await safe_goto(page, city_url)\n",
    "    if not loaded:\n",
    "        await page.close()\n",
    "        return []\n",
    "\n",
    "    await asyncio.sleep(6)\n",
    "    await auto_scroll(page)\n",
    "    await asyncio.sleep(6)\n",
    "\n",
    "    print(f\"🔍 Extracting events for {city.title()}...\")\n",
    "    event_cards = await page.querySelectorAll('div.fonts.cards_div')\n",
    "    print(f\"📦 Found {len(event_cards)} event cards in {city.title()}\")\n",
    "\n",
    "    city_events = []\n",
    "    for card in tqdm(event_cards, desc=f\"{city.title()} Events\", leave=False):\n",
    "        event = await extract_event_details(card)\n",
    "        if event:\n",
    "            event['city'] = city.title()\n",
    "            city_events.append(event)\n",
    "\n",
    "    await page.close()\n",
    "    return city_events\n",
    "\n",
    "async def main():\n",
    "    print(\"📍 Available cities:\", \", \".join(CITIES_AVAILABLE))\n",
    "    selected = input(\"👉 Enter city name(s) (comma-separated) or type 'all': \").strip().lower()\n",
    "\n",
    "    if selected == 'all':\n",
    "        cities = CITIES_AVAILABLE\n",
    "    else:\n",
    "        cities = [c.strip() for c in selected.split(',') if c.strip() in CITIES_AVAILABLE]\n",
    "\n",
    "    if not cities:\n",
    "        print(\"❌ No valid cities selected.\")\n",
    "        return\n",
    "\n",
    "    browser = await launch(headless=True, args=['--no-sandbox'])\n",
    "    all_events = []\n",
    "\n",
    "    for city in tqdm(cities, desc=\"🌆 Scraping Cities\"):\n",
    "        city_events = await get_event_details_from_city(browser, city)\n",
    "        all_events.extend(city_events)\n",
    "\n",
    "    await browser.close()\n",
    "\n",
    "    if not all_events:\n",
    "        print(\"⚠️ No events scraped. Exiting.\")\n",
    "        return\n",
    "\n",
    "    timestamp = datetime.now().strftime(\"%Y%m%d_%H%M%S\")\n",
    "    cities_str = \"_\".join(cities)\n",
    "    filename = f\"highape_all_events_{cities_str}_{timestamp}.csv\"\n",
    "    pd.DataFrame(all_events).to_csv(filename, index=False)\n",
    "\n",
    "    print(f\"\\n✅ Scraped {len(all_events)} events from {len(cities)} city(ies).\")\n",
    "    print(f\"📁 Saved to: {filename}\")\n",
    "\n",
    "if __name__ == '__main__':\n",
    "    asyncio.get_event_loop().run_until_complete(main())\n"
   ]
  },
  {
   "cell_type": "code",
   "execution_count": 1,
   "id": "b7811949-9c94-4d8a-806d-7fdab933fd3e",
   "metadata": {},
   "outputs": [
    {
     "name": "stdout",
     "output_type": "stream",
     "text": [
      "📍 Available cities: bangalore, mumbai, hyderabad, ncr, pune, goa\n"
     ]
    },
    {
     "name": "stdin",
     "output_type": "stream",
     "text": [
      "👉 Enter city name(s) (comma-separated) or type 'all':  bangalore\n"
     ]
    },
    {
     "name": "stderr",
     "output_type": "stream",
     "text": [
      "🌆 Scraping Cities:   0%|                                 | 0/1 [00:00<?, ?it/s]"
     ]
    },
    {
     "name": "stdout",
     "output_type": "stream",
     "text": [
      "⚠️ Retry 1/3 for https://highape.com/bangalore/all-events failed: Navigation Timeout Exceeded: 90000 ms exceeded.\n",
      "⚠️ Retry 2/3 for https://highape.com/bangalore/all-events failed: Protocol Error (Page.navigate): Session closed. Most likely the page has been closed.\n",
      "⚠️ Retry 3/3 for https://highape.com/bangalore/all-events failed: Protocol Error (Page.navigate): Session closed. Most likely the page has been closed.\n"
     ]
    },
    {
     "name": "stderr",
     "output_type": "stream",
     "text": [
      "🌆 Scraping Cities: 100%|█████████████████████████| 1/1 [01:37<00:00, 97.03s/it]"
     ]
    },
    {
     "name": "stdout",
     "output_type": "stream",
     "text": [
      "❌ Failed to load https://highape.com/bangalore/all-events\n",
      "⚠️ Could not close page for bangalore: Protocol Error: Connection Closed. Most likely the page has been closed.\n",
      "⚠️ No events scraped. Exiting.\n"
     ]
    },
    {
     "name": "stderr",
     "output_type": "stream",
     "text": [
      "\n"
     ]
    }
   ],
   "source": [
    "import pandas as pd\n",
    "import uuid\n",
    "import time\n",
    "from datetime import datetime\n",
    "import asyncio\n",
    "import nest_asyncio\n",
    "from pyppeteer import launch\n",
    "from pyppeteer_stealth import stealth\n",
    "import re\n",
    "import os\n",
    "from tqdm import tqdm\n",
    "\n",
    "nest_asyncio.apply()\n",
    "\n",
    "CITIES_AVAILABLE = ['bangalore', 'mumbai', 'hyderabad', 'ncr', 'pune', 'goa']\n",
    "USER_AGENT = 'Mozilla/5.0 (Windows NT 10.0; Win64; x64) AppleWebKit/537.36 (KHTML, like Gecko) Chrome/120.0.0.0 Safari/537.36'\n",
    "\n",
    "async def auto_scroll(page):\n",
    "    await page.evaluate(\"\"\"\n",
    "        async function () {\n",
    "            await new Promise((resolve) => {\n",
    "                let totalHeight = 0;\n",
    "                const distance = 500;\n",
    "                const timer = setInterval(() => {\n",
    "                    const scrollHeight = document.body.scrollHeight;\n",
    "                    window.scrollBy(0, distance);\n",
    "                    totalHeight += distance;\n",
    "\n",
    "                    if (totalHeight >= scrollHeight){\n",
    "                        clearInterval(timer);\n",
    "                        resolve();\n",
    "                    }\n",
    "                }, 300);\n",
    "            });\n",
    "        }\n",
    "    \"\"\")\n",
    "\n",
    "async def safe_goto(page, url, retries=3):\n",
    "    for attempt in range(retries):\n",
    "        try:\n",
    "            await page.goto(url, {'waitUntil': 'networkidle2', 'timeout': 90000})\n",
    "            return True\n",
    "        except Exception as e:\n",
    "            print(f\"⚠️ Retry {attempt+1}/{retries} for {url} failed: {e}\")\n",
    "            await asyncio.sleep(2 ** attempt)\n",
    "    print(f\"❌ Failed to load {url}\")\n",
    "    return False\n",
    "\n",
    "async def extract_event_details(card):\n",
    "    try:\n",
    "        href = await card.querySelectorEval('a', 'el => el.href')\n",
    "        name = await card.querySelectorEval('.slider-title', 'el => el.innerText')\n",
    "        image_url = await card.querySelectorEval('img', 'el => el.src')\n",
    "        date = await card.querySelectorEval('.formatted-date-span', 'el => el.innerText')\n",
    "        time_ = await card.querySelectorEval('.formatted-day-span', 'el => el.innerText')\n",
    "        location = await card.querySelectorEval('.slider-location', 'el => el.innerText')\n",
    "        price = await card.querySelectorEval('.money-detail-section span', 'el => el.innerText')\n",
    "        try:\n",
    "            interested = await card.querySelectorEval('.icon-interested', 'el => el.innerText')\n",
    "        except:\n",
    "            interested = ''\n",
    "        categories = await card.querySelectorAllEval('.cats span', 'nodes => nodes.map(n => n.innerText)')\n",
    "        return {\n",
    "            'event_name': name.strip(),\n",
    "            'event_link': href.strip(),\n",
    "            'image_url': image_url.strip(),\n",
    "            'date': date.strip(),\n",
    "            'time': time_.strip(),\n",
    "            'location': location.strip(),\n",
    "            'categories': ', '.join([c.strip() for c in categories]),\n",
    "            'price_range': price.strip(),\n",
    "            'interested_count': interested.strip()\n",
    "        }\n",
    "    except Exception as e:\n",
    "        print(f\"❌ Error extracting event card: {e}\")\n",
    "        return None\n",
    "\n",
    "async def get_event_details_from_city(browser, city):\n",
    "    city_url = f\"https://highape.com/{city}/all-events\"\n",
    "    page = None\n",
    "    try:\n",
    "        page = await browser.newPage()\n",
    "        await page.setUserAgent(USER_AGENT)\n",
    "        await stealth(page)\n",
    "\n",
    "        loaded = await safe_goto(page, city_url)\n",
    "        if not loaded:\n",
    "            # await page.screenshot({'path': f\"{city}_failed_load.png\", 'fullPage': True})  # Optional visual debug\n",
    "            return []\n",
    "\n",
    "        await asyncio.sleep(6)\n",
    "        await auto_scroll(page)\n",
    "        await asyncio.sleep(6)\n",
    "\n",
    "        print(f\"🔍 Extracting events for {city.title()}...\")\n",
    "        event_cards = await page.querySelectorAll('div.fonts.cards_div')\n",
    "        print(f\"📦 Found {len(event_cards)} event cards in {city.title()}\")\n",
    "\n",
    "        city_events = []\n",
    "        for card in tqdm(event_cards, desc=f\"{city.title()} Events\", leave=False):\n",
    "            event = await extract_event_details(card)\n",
    "            if event:\n",
    "                event['city'] = city.title()\n",
    "                city_events.append(event)\n",
    "\n",
    "        return city_events\n",
    "\n",
    "    except Exception as e:\n",
    "        print(f\"❌ Unexpected error in city {city}: {e}\")\n",
    "        return []\n",
    "\n",
    "    finally:\n",
    "        if page:\n",
    "            try:\n",
    "                await page.close()\n",
    "            except Exception as e:\n",
    "                print(f\"⚠️ Could not close page for {city}: {e}\")\n",
    "\n",
    "async def main():\n",
    "    print(\"📍 Available cities:\", \", \".join(CITIES_AVAILABLE))\n",
    "    selected = input(\"👉 Enter city name(s) (comma-separated) or type 'all': \").strip().lower()\n",
    "\n",
    "    if selected == 'all':\n",
    "        cities = CITIES_AVAILABLE\n",
    "    else:\n",
    "        cities = [c.strip() for c in selected.split(',') if c.strip() in CITIES_AVAILABLE]\n",
    "\n",
    "    if not cities:\n",
    "        print(\"❌ No valid cities selected.\")\n",
    "        return\n",
    "\n",
    "    browser = await launch(\n",
    "        headless=True,\n",
    "        args=[\n",
    "            '--no-sandbox',\n",
    "            '--disable-setuid-sandbox',\n",
    "            '--disable-gpu',\n",
    "            '--disable-dev-shm-usage',\n",
    "            '--disable-extensions',\n",
    "            '--start-maximized',\n",
    "            '--single-process',\n",
    "            '--no-zygote'\n",
    "        ]\n",
    "    )\n",
    "\n",
    "    all_events = []\n",
    "    for city in tqdm(cities, desc=\"🌆 Scraping Cities\"):\n",
    "        city_events = await get_event_details_from_city(browser, city)\n",
    "        all_events.extend(city_events)\n",
    "\n",
    "    await browser.close()\n",
    "\n",
    "    if not all_events:\n",
    "        print(\"⚠️ No events scraped. Exiting.\")\n",
    "        return\n",
    "\n",
    "    timestamp = datetime.now().strftime(\"%Y%m%d_%H%M%S\")\n",
    "    cities_str = \"_\".join(cities)\n",
    "    filename = f\"highape_all_events_{cities_str}_{timestamp}.csv\"\n",
    "    pd.DataFrame(all_events).to_csv(filename, index=False)\n",
    "\n",
    "    print(f\"\\n✅ Scraped {len(all_events)} events from {len(cities)} city(ies).\")\n",
    "    print(f\"📁 Saved to: {filename}\")\n",
    "\n",
    "if __name__ == '__main__':\n",
    "    asyncio.get_event_loop().run_until_complete(main())\n"
   ]
  },
  {
   "cell_type": "code",
   "execution_count": 15,
   "id": "a8c470d6-7740-4d95-91ba-110dc130134a",
   "metadata": {},
   "outputs": [
    {
     "name": "stdout",
     "output_type": "stream",
     "text": [
      "📍 Available cities: bangalore, mumbai, hyderabad, ncr, pune, goa\n"
     ]
    },
    {
     "name": "stdin",
     "output_type": "stream",
     "text": [
      "👉 Enter city name(s) (comma-separated) or type 'all':  all\n"
     ]
    },
    {
     "name": "stderr",
     "output_type": "stream",
     "text": [
      "🌆 Scraping Cities:   0%|                                 | 0/6 [00:00<?, ?it/s]"
     ]
    },
    {
     "name": "stdout",
     "output_type": "stream",
     "text": [
      "🔍 Extracting events for Bangalore...\n",
      "📦 Found 296 event cards in Bangalore\n"
     ]
    },
    {
     "name": "stderr",
     "output_type": "stream",
     "text": [
      "\n",
      "Bangalore Events:   0%|                                 | 0/296 [00:00<?, ?it/s]\u001b[A\n",
      "Bangalore Events:   3%|▊                        | 9/296 [00:00<00:03, 83.33it/s]\u001b[A\n",
      "Bangalore Events:   7%|█▌                      | 20/296 [00:00<00:02, 94.29it/s]\u001b[A\n",
      "Bangalore Events:  10%|██▍                    | 31/296 [00:00<00:02, 100.51it/s]\u001b[A\n",
      "Bangalore Events:  14%|███▍                    | 42/296 [00:00<00:02, 92.21it/s]\u001b[A\n",
      "Bangalore Events:  18%|████▎                   | 53/296 [00:00<00:02, 96.95it/s]\u001b[A\n",
      "Bangalore Events:  22%|████▉                  | 64/296 [00:00<00:02, 100.27it/s]\u001b[A\n",
      "Bangalore Events:  25%|█████▊                 | 75/296 [00:00<00:02, 102.74it/s]\u001b[A\n",
      "Bangalore Events:  29%|██████▋                | 86/296 [00:00<00:02, 104.29it/s]\u001b[A\n",
      "Bangalore Events:  33%|███████▌               | 97/296 [00:00<00:01, 102.99it/s]\u001b[A\n",
      "Bangalore Events:  36%|████████              | 108/296 [00:01<00:01, 104.60it/s]\u001b[A\n",
      "Bangalore Events:  40%|████████▊             | 119/296 [00:01<00:01, 105.80it/s]\u001b[A\n",
      "Bangalore Events:  44%|█████████▋            | 130/296 [00:01<00:01, 106.27it/s]\u001b[A\n",
      "Bangalore Events:  48%|██████████▍           | 141/296 [00:01<00:01, 106.85it/s]\u001b[A\n",
      "Bangalore Events:  51%|███████████▎          | 152/296 [00:01<00:01, 105.54it/s]\u001b[A\n",
      "Bangalore Events:  55%|████████████          | 163/296 [00:01<00:01, 106.32it/s]\u001b[A\n",
      "Bangalore Events:  59%|████████████▉         | 174/296 [00:01<00:01, 106.65it/s]\u001b[A\n",
      "Bangalore Events:  62%|█████████████▊        | 185/296 [00:01<00:01, 107.16it/s]\u001b[A\n",
      "Bangalore Events:  66%|██████████████▌       | 196/296 [00:01<00:00, 107.65it/s]\u001b[A\n",
      "Bangalore Events:  70%|███████████████▍      | 208/296 [00:02<00:00, 108.50it/s]\u001b[A\n",
      "Bangalore Events:  74%|████████████████▎     | 220/296 [00:02<00:00, 109.39it/s]\u001b[A\n",
      "Bangalore Events:  78%|█████████████████▏    | 231/296 [00:02<00:00, 109.25it/s]\u001b[A\n",
      "Bangalore Events:  82%|█████████████████▉    | 242/296 [00:02<00:00, 108.77it/s]\u001b[A\n",
      "Bangalore Events:  86%|██████████████████▉   | 254/296 [00:02<00:00, 109.37it/s]\u001b[A\n",
      "Bangalore Events:  90%|███████████████████▋  | 265/296 [00:02<00:00, 109.07it/s]\u001b[A\n",
      "Bangalore Events:  93%|████████████████████▌ | 276/296 [00:02<00:00, 108.79it/s]\u001b[A\n",
      "Bangalore Events:  97%|█████████████████████▎| 287/296 [00:02<00:00, 105.65it/s]\u001b[A\n",
      "🌆 Scraping Cities:  17%|████▏                    | 1/6 [00:39<03:15, 39.08s/it]\u001b[A"
     ]
    },
    {
     "name": "stdout",
     "output_type": "stream",
     "text": [
      "🔍 Extracting events for Mumbai...\n",
      "📦 Found 14 event cards in Mumbai\n"
     ]
    },
    {
     "name": "stderr",
     "output_type": "stream",
     "text": [
      "\n",
      "Mumbai Events:   0%|                                     | 0/14 [00:00<?, ?it/s]\u001b[A\n",
      "Mumbai Events:  50%|██████████████▌              | 7/14 [00:00<00:00, 67.89it/s]\u001b[A\n",
      "🌆 Scraping Cities:  33%|████████▎                | 2/6 [00:56<01:44, 26.08s/it]\u001b[A"
     ]
    },
    {
     "name": "stdout",
     "output_type": "stream",
     "text": [
      "❌ Error extracting event card: Error: failed to find element matching selector \".money-detail-section span\"\n",
      "❌ Error extracting event card: Error: failed to find element matching selector \".money-detail-section span\"\n",
      "❌ Error extracting event card: Error: failed to find element matching selector \".money-detail-section span\"\n",
      "❌ Error extracting event card: Error: failed to find element matching selector \".money-detail-section span\"\n",
      "🔍 Extracting events for Hyderabad...\n",
      "📦 Found 10 event cards in Hyderabad\n"
     ]
    },
    {
     "name": "stderr",
     "output_type": "stream",
     "text": [
      "\n",
      "Hyderabad Events:   0%|                                  | 0/10 [00:00<?, ?it/s]\u001b[A\n",
      "Hyderabad Events:  60%|███████████████▌          | 6/10 [00:00<00:00, 56.64it/s]\u001b[A\n",
      "🌆 Scraping Cities:  50%|████████████▌            | 3/6 [01:13<01:05, 21.91s/it]\u001b[A"
     ]
    },
    {
     "name": "stdout",
     "output_type": "stream",
     "text": [
      "🔍 Extracting events for Ncr...\n",
      "📦 Found 10 event cards in Ncr\n"
     ]
    },
    {
     "name": "stderr",
     "output_type": "stream",
     "text": [
      "\n",
      "Ncr Events:   0%|                                        | 0/10 [00:00<?, ?it/s]\u001b[A\n",
      "Ncr Events:  80%|█████████████████████████▌      | 8/10 [00:00<00:00, 77.06it/s]\u001b[A\n",
      "🌆 Scraping Cities:  67%|████████████████▋        | 4/6 [01:30<00:40, 20.22s/it]\u001b[A"
     ]
    },
    {
     "name": "stdout",
     "output_type": "stream",
     "text": [
      "🔍 Extracting events for Pune...\n",
      "📦 Found 1 event cards in Pune\n"
     ]
    },
    {
     "name": "stderr",
     "output_type": "stream",
     "text": [
      "\n",
      "Pune Events:   0%|                                        | 0/1 [00:00<?, ?it/s]\u001b[A\n",
      "🌆 Scraping Cities:  83%|████████████████████▊    | 5/6 [01:46<00:18, 18.83s/it]\u001b[A"
     ]
    },
    {
     "name": "stdout",
     "output_type": "stream",
     "text": [
      "🔍 Extracting events for Goa...\n",
      "📦 Found 29 event cards in Goa\n"
     ]
    },
    {
     "name": "stderr",
     "output_type": "stream",
     "text": [
      "\n",
      "Goa Events:   0%|                                        | 0/29 [00:00<?, ?it/s]\u001b[A\n",
      "Goa Events:  24%|███████▋                        | 7/29 [00:00<00:00, 68.53it/s]\u001b[A\n",
      "Goa Events:  62%|███████████████████▏           | 18/29 [00:00<00:00, 90.46it/s]\u001b[A\n",
      "Goa Events: 100%|███████████████████████████████| 29/29 [00:00<00:00, 98.65it/s]\u001b[A\n",
      "🌆 Scraping Cities: 100%|█████████████████████████| 6/6 [02:05<00:00, 20.89s/it]\u001b[A\n"
     ]
    },
    {
     "name": "stdout",
     "output_type": "stream",
     "text": [
      "\n",
      "✅ Scraped 356 events from 6 city(ies).\n",
      "📁 Saved to: highape_all_events_bangalore_mumbai_hyderabad_ncr_pune_goa_20250607_143542.csv\n"
     ]
    }
   ],
   "source": [
    "import pandas as pd\n",
    "from datetime import datetime\n",
    "import asyncio\n",
    "import nest_asyncio\n",
    "from pyppeteer import launch\n",
    "from pyppeteer_stealth import stealth\n",
    "from tqdm import tqdm\n",
    "\n",
    "nest_asyncio.apply()\n",
    "\n",
    "CITIES_AVAILABLE = ['bangalore', 'mumbai', 'hyderabad', 'ncr', 'pune', 'goa']\n",
    "USER_AGENT = 'Mozilla/5.0 (Windows NT 10.0; Win64; x64) AppleWebKit/537.36 (KHTML, like Gecko) Chrome/120.0.0.0 Safari/537.36'\n",
    "\n",
    "async def auto_scroll(page):\n",
    "    await page.evaluate(\"\"\"\n",
    "        async function () {\n",
    "            await new Promise((resolve) => {\n",
    "                let totalHeight = 0;\n",
    "                const distance = 500;\n",
    "                const timer = setInterval(() => {\n",
    "                    const scrollHeight = document.body.scrollHeight;\n",
    "                    window.scrollBy(0, distance);\n",
    "                    totalHeight += distance;\n",
    "\n",
    "                    if (totalHeight >= scrollHeight){\n",
    "                        clearInterval(timer);\n",
    "                        resolve();\n",
    "                    }\n",
    "                }, 300);\n",
    "            });\n",
    "        }\n",
    "    \"\"\")\n",
    "\n",
    "async def safe_goto(page, url, retries=3):\n",
    "    for attempt in range(retries):\n",
    "        try:\n",
    "            await page.goto(url, {'waitUntil': 'networkidle2', 'timeout': 90000})\n",
    "            return True\n",
    "        except Exception as e:\n",
    "            print(f\"⚠️ Retry {attempt+1}/{retries} for {url} failed: {e}\")\n",
    "            await asyncio.sleep(2 ** attempt)\n",
    "    print(f\"❌ Failed to load {url}\")\n",
    "    return False\n",
    "\n",
    "async def extract_event_details(card):\n",
    "    try:\n",
    "        href = await card.querySelectorEval('a', 'el => el.href')\n",
    "        name = await card.querySelectorEval('.slider-title', 'el => el.innerText')\n",
    "        image_url = await card.querySelectorEval('img', 'el => el.src')\n",
    "        date = await card.querySelectorEval('.formatted-date-span', 'el => el.innerText')\n",
    "        time_ = await card.querySelectorEval('.formatted-day-span', 'el => el.innerText')\n",
    "        location = await card.querySelectorEval('.slider-location', 'el => el.innerText')\n",
    "        price = await card.querySelectorEval('.money-detail-section span', 'el => el.innerText')\n",
    "        try:\n",
    "            interested = await card.querySelectorEval('.icon-interested', 'el => el.innerText')\n",
    "        except:\n",
    "            interested = ''\n",
    "        categories = await card.querySelectorAllEval('.cats span', 'nodes => nodes.map(n => n.innerText)')\n",
    "        return {\n",
    "            'event_name': name.strip(),\n",
    "            'event_link': href.strip(),\n",
    "            'image_url': image_url.strip(),\n",
    "            'date': date.strip(),\n",
    "            'time': time_.strip(),\n",
    "            'location': location.strip(),\n",
    "            'categories': ', '.join([c.strip() for c in categories]),\n",
    "            'price_range': price.strip(),\n",
    "            'interested_count': interested.strip()\n",
    "        }\n",
    "    except Exception as e:\n",
    "        print(f\"❌ Error extracting event card: {e}\")\n",
    "        return None\n",
    "\n",
    "async def get_event_details_from_city(browser, city):\n",
    "    city_url = f\"https://highape.com/{city}/all-events\"\n",
    "    page = None\n",
    "    try:\n",
    "        page = await browser.newPage()\n",
    "        await page.setUserAgent(USER_AGENT)\n",
    "        await stealth(page)\n",
    "\n",
    "        loaded = await safe_goto(page, city_url)\n",
    "        if not loaded:\n",
    "            return []\n",
    "\n",
    "        await asyncio.sleep(6)\n",
    "        await auto_scroll(page)\n",
    "        await asyncio.sleep(6)\n",
    "\n",
    "        print(f\"🔍 Extracting events for {city.title()}...\")\n",
    "        event_cards = await page.querySelectorAll('div.fonts.cards_div')\n",
    "        print(f\"📦 Found {len(event_cards)} event cards in {city.title()}\")\n",
    "\n",
    "        city_events = []\n",
    "        for card in tqdm(event_cards, desc=f\"{city.title()} Events\", leave=False):\n",
    "            event = await extract_event_details(card)\n",
    "            if event:\n",
    "                event['city'] = city.title()\n",
    "                city_events.append(event)\n",
    "\n",
    "        return city_events\n",
    "\n",
    "    except Exception as e:\n",
    "        print(f\"❌ Unexpected error in city {city}: {e}\")\n",
    "        return []\n",
    "\n",
    "    finally:\n",
    "        if page:\n",
    "            try:\n",
    "                await page.close()\n",
    "            except Exception as e:\n",
    "                print(f\"⚠️ Could not close page for {city}: {e}\")\n",
    "\n",
    "async def main():\n",
    "    print(\"📍 Available cities:\", \", \".join(CITIES_AVAILABLE))\n",
    "    selected = input(\"👉 Enter city name(s) (comma-separated) or type 'all': \").strip().lower()\n",
    "\n",
    "    if selected == 'all':\n",
    "        cities = CITIES_AVAILABLE\n",
    "    else:\n",
    "        cities = [c.strip() for c in selected.split(',') if c.strip() in CITIES_AVAILABLE]\n",
    "\n",
    "    if not cities:\n",
    "        print(\"❌ No valid cities selected.\")\n",
    "        return\n",
    "\n",
    "    browser = await launch(\n",
    "        headless=False,  # 👈 Running with browser window open\n",
    "        args=['--no-sandbox', '--disable-setuid-sandbox']\n",
    "    )\n",
    "\n",
    "    all_events = []\n",
    "    for city in tqdm(cities, desc=\"🌆 Scraping Cities\"):\n",
    "        city_events = await get_event_details_from_city(browser, city)\n",
    "        all_events.extend(city_events)\n",
    "\n",
    "    await browser.close()\n",
    "\n",
    "    if not all_events:\n",
    "        print(\"⚠️ No events scraped. Exiting.\")\n",
    "        return\n",
    "\n",
    "    timestamp = datetime.now().strftime(\"%Y%m%d_%H%M%S\")\n",
    "    cities_str = \"_\".join(cities)\n",
    "    filename = f\"highape_all_events_{cities_str}_{timestamp}.csv\"\n",
    "    pd.DataFrame(all_events).to_csv(filename, index=False)\n",
    "\n",
    "    print(f\"\\n✅ Scraped {len(all_events)} events from {len(cities)} city(ies).\")\n",
    "    print(f\"📁 Saved to: {filename}\")\n",
    "\n",
    "if __name__ == '__main__':\n",
    "    asyncio.get_event_loop().run_until_complete(main())\n"
   ]
  },
  {
   "cell_type": "code",
   "execution_count": null,
   "id": "0715a4a2-8711-4801-9861-7a3dfd67c331",
   "metadata": {},
   "outputs": [],
   "source": [
    "import pandas as pd\n",
    "import uuid\n",
    "import time\n",
    "from datetime import datetime\n",
    "import json\n",
    "import re\n",
    "import asyncio\n",
    "import nest_asyncio\n",
    "from pyppeteer import launch\n",
    "import sys\n",
    "\n",
    "nest_asyncio.apply()\n",
    "\n",
    "async def auto_scroll(page):\n",
    "    await page.evaluate(\"\"\"\n",
    "        async function () {\n",
    "            await new Promise((resolve) => {\n",
    "                let totalHeight = 0;\n",
    "                const distance = 500;\n",
    "                const timer = setInterval(() => {\n",
    "                    const scrollHeight = document.body.scrollHeight;\n",
    "                    window.scrollBy(0, distance);\n",
    "                    totalHeight += distance;\n",
    "\n",
    "                    if (totalHeight >= scrollHeight){\n",
    "                        clearInterval(timer);\n",
    "                        resolve();\n",
    "                    }\n",
    "                }, 300);\n",
    "            });\n",
    "        }\n",
    "    \"\"\")\n",
    "\n",
    "async def extract_event_details(card):\n",
    "    try:\n",
    "        href = await card.querySelectorEval('a', 'el => el.href')\n",
    "        name = await card.querySelectorEval('.slider-title', 'el => el.innerText')\n",
    "        image_url = await card.querySelectorEval('img', 'el => el.src')\n",
    "        date = await card.querySelectorEval('.formatted-date-span', 'el => el.innerText')\n",
    "        time = await card.querySelectorEval('.formatted-day-span', 'el => el.innerText')\n",
    "        location = await card.querySelectorEval('.slider-location', 'el => el.innerText')\n",
    "        price = await card.querySelectorEval('.money-detail-section span', 'el => el.innerText')\n",
    "        try:\n",
    "            interested = await card.querySelectorEval('.icon-interested', 'el => el.innerText')\n",
    "        except:\n",
    "            interested = ''\n",
    "        categories = await card.querySelectorAllEval('.cats span', 'nodes => nodes.map(n => n.innerText)')\n",
    "        return {\n",
    "            'event_name': name,\n",
    "            'event_link': href,\n",
    "            'image_url': image_url,\n",
    "            'date': date,\n",
    "            'time': time,\n",
    "            'location': location,\n",
    "            'categories': ', '.join(categories),\n",
    "            'price_range': price,\n",
    "            'interested_count': interested\n",
    "        }\n",
    "    except Exception as e:\n",
    "        print(f\"❌ Error extracting details: {e}\")\n",
    "        return None\n",
    "\n",
    "async def get_event_details_from_city(browser, city):\n",
    "    city_url = f\"https://highape.com/{city}/all-events\"\n",
    "    page = await browser.newPage()\n",
    "    await page.setUserAgent('Mozilla/5.0 (Windows NT 10.0; Win64; x64) AppleWebKit/537.36 (KHTML, like Gecko) Chrome/120.0.0.0 Safari/537.36')\n",
    "    await page.goto(city_url, {'waitUntil': 'networkidle2', 'timeout': 60000})\n",
    "    await asyncio.sleep(10)\n",
    "    await auto_scroll(page)\n",
    "    await asyncio.sleep(10)\n",
    "\n",
    "    print(f\"🔍 Extracting events for {city.title()}...\")\n",
    "    event_cards = await page.querySelectorAll('div.fonts.cards_div')\n",
    "    print(f\"📦 Found {len(event_cards)} event cards in {city.title()}\")\n",
    "\n",
    "    city_events = []\n",
    "    for card in event_cards:\n",
    "        event = await extract_event_details(card)\n",
    "        if event:\n",
    "            event['city'] = city.title()\n",
    "            city_events.append(event)\n",
    "\n",
    "    await page.close()\n",
    "    return city_events\n",
    "\n",
    "async def main():\n",
    "    cities = ['bangalore', 'mumbai', 'hyderabad', 'ncr', 'pune', 'goa']\n",
    "    browser = await launch(headless=False, args=['--no-sandbox'])\n",
    "    all_events = []\n",
    "\n",
    "    for city in cities:\n",
    "        city_events = await get_event_details_from_city(browser, city)\n",
    "        all_events.extend(city_events)\n",
    "\n",
    "    await browser.close()\n",
    "\n",
    "    timestamp = datetime.now().strftime(\"%Y%m%d_%H%M%S\")\n",
    "    filename = f\"highape_all_events_{timestamp}.csv\"\n",
    "    df = pd.DataFrame(all_events)\n",
    "    df.to_csv(filename, index=False)\n",
    "\n",
    "    print(f\"✅ All events saved to {filename}\")\n",
    "\n",
    "if __name__ == '__main__':\n",
    "    asyncio.get_event_loop().run_until_complete(main())"
   ]
  },
  {
   "cell_type": "code",
   "execution_count": null,
   "id": "afc34170-972a-4ce8-a6af-2acde6f2704b",
   "metadata": {},
   "outputs": [],
   "source": [
    "import pandas as pd\n",
    "import uuid\n",
    "import time\n",
    "from datetime import datetime\n",
    "import json\n",
    "import re\n",
    "import asyncio\n",
    "import nest_asyncio\n",
    "from pyppeteer import launch\n",
    "import sys\n",
    "\n",
    "nest_asyncio.apply()\n",
    "\n",
    "def create_empty_event():\n",
    "    return {\n",
    "        'externalEventLink': '',\n",
    "        'eventId': str(uuid.uuid4()),\n",
    "        'plurEventLink': '',\n",
    "        'eventName': '',\n",
    "        'eventDescription': '',\n",
    "        'eventDateAndTime': '',\n",
    "        'eventDuration': '',\n",
    "        'venueName': '',\n",
    "        'locality': '',\n",
    "        'address': '',\n",
    "        'zipcode': '',\n",
    "        'lat': '',\n",
    "        'lon': '',\n",
    "        'ticketAmount': '',\n",
    "        'guestlistInfo': '',\n",
    "        'ticketLink': '',\n",
    "        'supportedLanguages': '',\n",
    "        'category': '',\n",
    "        'recurrence': '',\n",
    "        'attendeesCount': '',\n",
    "        'joinChatDetails': '',\n",
    "        'policyAndConditions': '',\n",
    "        'frequentlyAskedQuestions': '',\n",
    "        'city': '',\n",
    "        'state': '',\n",
    "        'geolocation': '',\n",
    "        'isRecurring': 'No',\n",
    "        'pattern': '',\n",
    "        'eventType': '',\n",
    "        'subCategory': '',\n",
    "        'venueId': '',\n",
    "        'foodAvailable': '',\n",
    "        'smokingAllowed': '',\n",
    "        'wheelchairAccess': '',\n",
    "        'parkingAvailable': '',\n",
    "        'supportAvailable': '',\n",
    "        'layout': '',\n",
    "        'petFriendly': False,\n",
    "        'alcoholServed': '',\n",
    "        'minimumAge': '',\n",
    "        'ticketsAtVenue': '',\n",
    "        'prohibitedItemList': '',\n",
    "        'washroomAvailable': '',\n",
    "        'onlineMenu': '',\n",
    "        'happyHours': '',\n",
    "        'danceFloorAvailable': '',\n",
    "        'poolAvailable': '',\n",
    "        'isActivityAvailable': '',\n",
    "        'artists': '',\n",
    "        'highlightImages': '',\n",
    "        'highlightVideos': '',\n",
    "        'galleryImages': '',\n",
    "        'galleryVideos': '',\n",
    "        'kidFriendly': False,\n",
    "        'seatingArrangement': '',\n",
    "        'entryAllowedFor': '',\n",
    "        'tags': ''\n",
    "    }\n",
    "\n",
    "async def scrape_highape_event(page, url):\n",
    "    event = create_empty_event()\n",
    "    event['externalEventLink'] = url\n",
    "\n",
    "    try:\n",
    "        await page.setUserAgent('Mozilla/5.0 (Windows NT 10.0; Win64; x64) AppleWebKit/537.36 (KHTML, like Gecko) Chrome/120.0.0.0 Safari/537.36')\n",
    "        await page.setViewport({'width': 1200, 'height': 800})\n",
    "        await page.goto(url, {'waitUntil': 'networkidle2', 'timeout': 60000})\n",
    "        await asyncio.sleep(5)\n",
    "\n",
    "        try:\n",
    "            event['eventName'] = await page.querySelectorEval('h1.mob-event-name-heading', 'el => el.innerText')\n",
    "            event['venueName'] = await page.querySelectorEval('h2.mob-venue-name-details-event', 'el => el.innerText')\n",
    "            event['attendeesCount'] = await page.querySelectorEval('span#view-count-span', 'el => el.innerText')\n",
    "        except:\n",
    "            try:\n",
    "                event['eventName'] = await page.querySelectorEval('h1.event-name-heading', 'el => el.innerText')\n",
    "                event['venueName'] = await page.querySelectorEval('h2.venue-name-details-event', 'el => el.innerText')\n",
    "            except:\n",
    "                pass\n",
    "\n",
    "        try:\n",
    "            event['eventDateAndTime'] = await page.querySelectorEval('div.quick_look_divs:nth-child(2) span.details', 'el => el.innerText')\n",
    "        except:\n",
    "            pass\n",
    "\n",
    "        try:\n",
    "            event['ticketAmount'] = await page.querySelectorEval('div.quick_look_divs:nth-child(3) span.details', 'el => el.innerText')\n",
    "        except:\n",
    "            event['ticketAmount'] = 'Free Entry'\n",
    "\n",
    "        try:\n",
    "            event['ticketLink'] = await page.querySelectorEval('a#book_thru_me', 'el => el.href')\n",
    "        except:\n",
    "            pass\n",
    "\n",
    "        try:\n",
    "            event['highlightImages'] = await page.querySelectorEval('div#image_carousel_web img.img-background-events', 'el => el.src')\n",
    "        except:\n",
    "            pass\n",
    "\n",
    "        try:\n",
    "            category_elements = await page.querySelectorAllEval('div.quick_look_divs:nth-child(1) span.details h4.category_text', 'nodes => nodes.map(n => n.innerText)')\n",
    "            event['category'] = ', '.join(category_elements)\n",
    "        except:\n",
    "            pass\n",
    "\n",
    "        try:\n",
    "            artists = await page.querySelectorAllEval('div#artist h3', 'nodes => nodes.map(n => n.innerText)')\n",
    "            event['artists'] = ', '.join(artists)\n",
    "        except:\n",
    "            pass\n",
    "\n",
    "        try:\n",
    "            terms = await page.querySelectorAllEval('#tnc ul li', 'nodes => nodes.map((el, i) => `${i + 1}. ${el.innerText}`)')\n",
    "            event['policyAndConditions'] = '\\n'.join(terms)\n",
    "            for term in terms:\n",
    "                if re.search(r'only\\s+(\\d+)\\+', term.lower()):\n",
    "                    event['minimumAge'] = re.search(r'only\\s+(\\d+)\\+', term.lower()).group(1)\n",
    "        except:\n",
    "            pass\n",
    "\n",
    "        try:\n",
    "            event['eventDescription'] = await page.querySelectorEval('#desc .event-content-div', 'el => el.innerText')\n",
    "        except:\n",
    "            pass\n",
    "\n",
    "        try:\n",
    "            address = await page.querySelectorEval('#venue .address p', 'el => el.innerText')\n",
    "            event['address'] = address\n",
    "            pincode_match = re.search(r'\\b(\\d{6})\\b', address)\n",
    "            if pincode_match:\n",
    "                event['zipcode'] = pincode_match.group(1)\n",
    "\n",
    "            city_match = re.findall(r'\\b([A-Za-z]+)\\b', address)\n",
    "            if city_match:\n",
    "                event['city'] = city_match[-2] if len(city_match) >= 2 else ''\n",
    "                event['state'] = city_match[-1]\n",
    "        except:\n",
    "            pass\n",
    "\n",
    "        try:\n",
    "            event['lat'] = await page.querySelectorEval('#venue_lat', 'el => el.value')\n",
    "            event['lon'] = await page.querySelectorEval('#venue_lng', 'el => el.value')\n",
    "            event['geolocation'] = f\"{event['lat']},{event['lon']}\"\n",
    "        except:\n",
    "            pass\n",
    "\n",
    "        try:\n",
    "            tags = await page.querySelectorAllEval('div#interest .tags span', 'nodes => nodes.map(n => n.innerText)')\n",
    "            event['tags'] = ', '.join(tags)\n",
    "        except:\n",
    "            pass\n",
    "\n",
    "    except Exception as e:\n",
    "        print(f\"Error scraping {url}: {e}\")\n",
    "\n",
    "    return event\n",
    "\n",
    "async def main():\n",
    "    df_links = pd.read_csv('highape_all_events_links.csv')\n",
    "    urls = df_links['event_link'].dropna().unique()\n",
    "\n",
    "    browser = await launch(headless=False, args=['--no-sandbox'])\n",
    "    page = await browser.newPage()\n",
    "\n",
    "    all_events = []\n",
    "    for i, url in enumerate(urls):\n",
    "        print(f\"Scraping {i + 1}/{len(urls)}: {url}\")\n",
    "        event = await scrape_highape_event(page, url)\n",
    "        all_events.append(event)\n",
    "\n",
    "    await browser.close()\n",
    "\n",
    "    timestamp = datetime.now().strftime(\"%Y%m%d_%H%M%S\")\n",
    "    filename = f\"highape_detailed_events_{timestamp}.csv\"\n",
    "    pd.DataFrame(all_events).to_csv(filename, index=False)\n",
    "    print(f\"✅ All events saved to {filename}\")\n",
    "\n",
    "if __name__ == '__main__':\n",
    "    asyncio.get_event_loop().run_until_complete(main())\n"
   ]
  },
  {
   "cell_type": "code",
   "execution_count": 9,
   "id": "ddb55546-6809-4690-9d36-2bb1df000d2e",
   "metadata": {},
   "outputs": [
    {
     "name": "stdin",
     "output_type": "stream",
     "text": [
      "👉 Enter the CSV file name to read event links (e.g., highape_all_events_links.csv):  highape_all_events_bangalore_20250603_120826.csv\n"
     ]
    },
    {
     "name": "stdout",
     "output_type": "stream",
     "text": [
      "🔗 Loaded 294 unique event URLs from 'highape_all_events_bangalore_20250603_120826.csv'\n"
     ]
    },
    {
     "name": "stderr",
     "output_type": "stream",
     "text": [
      "Scraping Events:   0%|                                  | 0/294 [00:00<?, ?it/s]"
     ]
    },
    {
     "name": "stdout",
     "output_type": "stream",
     "text": [
      "➡️  [1/294] Scraping: https://highape.com/bangalore/events/talamasca-live-in-bangalore-4qr4eKXGWy?utm_source=allevents_tile\n"
     ]
    },
    {
     "name": "stderr",
     "output_type": "stream",
     "text": [
      "Scraping Events:   0%|                          | 1/294 [00:10<50:21, 10.31s/it]"
     ]
    },
    {
     "name": "stdout",
     "output_type": "stream",
     "text": [
      "➡️  [2/294] Scraping: https://highape.com/bangalore/events/suit-and-panda-aVWQXNPnrO?utm_source=allevents_tile\n"
     ]
    },
    {
     "name": "stderr",
     "output_type": "stream",
     "text": [
      "Scraping Events:   1%|▏                         | 2/294 [00:17<39:50,  8.19s/it]"
     ]
    },
    {
     "name": "stdout",
     "output_type": "stream",
     "text": [
      "➡️  [3/294] Scraping: https://highape.com/bangalore/events/ipl-rcb-finalmatch-z7rqyZqJre?utm_source=allevents_list\n"
     ]
    },
    {
     "name": "stderr",
     "output_type": "stream",
     "text": [
      "Scraping Events:   1%|▎                         | 3/294 [00:23<36:26,  7.52s/it]"
     ]
    },
    {
     "name": "stdout",
     "output_type": "stream",
     "text": [
      "➡️  [4/294] Scraping: https://highape.com/bangalore/events/ipl-rcb-finalmatch-aVWQXN9JrO?utm_source=allevents_list\n"
     ]
    },
    {
     "name": "stderr",
     "output_type": "stream",
     "text": [
      "Scraping Events:   1%|▎                         | 4/294 [00:30<34:34,  7.15s/it]"
     ]
    },
    {
     "name": "stdout",
     "output_type": "stream",
     "text": [
      "➡️  [5/294] Scraping: https://highape.com/bangalore/events/ipl-rcb-finalmatch-live-screening-a3rBqVq9kq?utm_source=allevents_list\n"
     ]
    },
    {
     "name": "stderr",
     "output_type": "stream",
     "text": [
      "Scraping Events:   2%|▍                         | 5/294 [00:37<33:38,  6.99s/it]"
     ]
    },
    {
     "name": "stdout",
     "output_type": "stream",
     "text": [
      "➡️  [6/294] Scraping: https://highape.com/bangalore/events/ipl-rcb-finalmatch-92r63KxeWp?utm_source=allevents_list\n"
     ]
    },
    {
     "name": "stderr",
     "output_type": "stream",
     "text": [
      "Scraping Events:   2%|▌                         | 6/294 [00:43<33:01,  6.88s/it]"
     ]
    },
    {
     "name": "stdout",
     "output_type": "stream",
     "text": [
      "➡️  [7/294] Scraping: https://highape.com/bangalore/events/ipl-rcb-finalmatch-ogw3bK0NWd?utm_source=allevents_list\n"
     ]
    },
    {
     "name": "stderr",
     "output_type": "stream",
     "text": [
      "Future exception was never retrieved\n",
      "future: <Future finished exception=NetworkError('Protocol error (Target.detachFromTarget): No session with given id')>\n",
      "pyppeteer.errors.NetworkError: Protocol error (Target.detachFromTarget): No session with given id\n",
      "Scraping Events:   2%|▌                         | 7/294 [00:50<32:46,  6.85s/it]"
     ]
    },
    {
     "name": "stdout",
     "output_type": "stream",
     "text": [
      "➡️  [8/294] Scraping: https://highape.com/bangalore/events/ipl-rcb-finalmatch-BVWeOxnPk9?utm_source=allevents_list\n"
     ]
    },
    {
     "name": "stderr",
     "output_type": "stream",
     "text": [
      "Scraping Events:   3%|▋                         | 8/294 [00:58<34:33,  7.25s/it]"
     ]
    },
    {
     "name": "stdout",
     "output_type": "stream",
     "text": [
      "➡️  [9/294] Scraping: https://highape.com/bangalore/events/ipl-rcb-finalmatch-live-screening-N5k2L4LPWd?utm_source=allevents_list\n"
     ]
    },
    {
     "name": "stderr",
     "output_type": "stream",
     "text": [
      "Scraping Events:   3%|▊                         | 9/294 [01:06<35:06,  7.39s/it]"
     ]
    },
    {
     "name": "stdout",
     "output_type": "stream",
     "text": [
      "➡️  [10/294] Scraping: https://highape.com/bangalore/events/ipl-rcb-finalmatch-a7kjylGlwY?utm_source=allevents_list\n"
     ]
    },
    {
     "name": "stderr",
     "output_type": "stream",
     "text": [
      "Scraping Events:   3%|▊                        | 10/294 [01:14<35:59,  7.61s/it]"
     ]
    },
    {
     "name": "stdout",
     "output_type": "stream",
     "text": [
      "➡️  [11/294] Scraping: https://highape.com/bangalore/events/ipl-rcb-finalmatch-4qr4eBe3Wy?utm_source=allevents_list\n"
     ]
    },
    {
     "name": "stderr",
     "output_type": "stream",
     "text": [
      "Scraping Events:   4%|▉                        | 11/294 [01:21<35:25,  7.51s/it]"
     ]
    },
    {
     "name": "stdout",
     "output_type": "stream",
     "text": [
      "➡️  [12/294] Scraping: https://highape.com/bangalore/events/ipl-rcb-finalmatch-a3rBqKLMkq?utm_source=allevents_list\n"
     ]
    },
    {
     "name": "stderr",
     "output_type": "stream",
     "text": [
      "Scraping Events:   4%|█                        | 12/294 [01:29<35:26,  7.54s/it]"
     ]
    },
    {
     "name": "stdout",
     "output_type": "stream",
     "text": [
      "➡️  [13/294] Scraping: https://highape.com/bangalore/events/ipl-rcb-finalmatch-JprY0pQ7kG?utm_source=allevents_list\n"
     ]
    },
    {
     "name": "stderr",
     "output_type": "stream",
     "text": [
      "Scraping Events:   4%|█                        | 13/294 [01:37<35:38,  7.61s/it]"
     ]
    },
    {
     "name": "stdout",
     "output_type": "stream",
     "text": [
      "➡️  [14/294] Scraping: https://highape.com/bangalore/events/ipl-rcb-finalmatch-QXw9pq4EWJ?utm_source=allevents_list\n"
     ]
    },
    {
     "name": "stderr",
     "output_type": "stream",
     "text": [
      "Scraping Events:   5%|█▏                       | 14/294 [01:43<34:10,  7.32s/it]"
     ]
    },
    {
     "name": "stdout",
     "output_type": "stream",
     "text": [
      "➡️  [15/294] Scraping: https://highape.com/bangalore/events/-live-cricket-screening-at-ottoman-restobar-6ew5pvEvWm?utm_source=allevents_list\n"
     ]
    },
    {
     "name": "stderr",
     "output_type": "stream",
     "text": [
      "Scraping Events:   5%|█▎                       | 15/294 [01:50<33:58,  7.31s/it]"
     ]
    },
    {
     "name": "stdout",
     "output_type": "stream",
     "text": [
      "➡️  [16/294] Scraping: https://highape.com/bangalore/events/ipl-rcb-finalmatch-O0r8L60qrQ?utm_source=allevents_list\n"
     ]
    },
    {
     "name": "stderr",
     "output_type": "stream",
     "text": [
      "Scraping Events:   5%|█▎                       | 16/294 [01:58<33:39,  7.26s/it]"
     ]
    },
    {
     "name": "stdout",
     "output_type": "stream",
     "text": [
      "➡️  [17/294] Scraping: https://highape.com/bangalore/events/ipl-rcb-finalmatch-RVWK8Ma3wM?utm_source=allevents_list\n"
     ]
    },
    {
     "name": "stderr",
     "output_type": "stream",
     "text": [
      "Scraping Events:   6%|█▍                       | 17/294 [02:04<32:43,  7.09s/it]"
     ]
    },
    {
     "name": "stdout",
     "output_type": "stream",
     "text": [
      "➡️  [18/294] Scraping: https://highape.com/bangalore/events/ipl-final-live-screening-4xrmymNLrM?utm_source=allevents_list\n"
     ]
    },
    {
     "name": "stderr",
     "output_type": "stream",
     "text": [
      "Scraping Events:   6%|█▌                       | 18/294 [02:11<31:59,  6.95s/it]"
     ]
    },
    {
     "name": "stdout",
     "output_type": "stream",
     "text": [
      "➡️  [19/294] Scraping: https://highape.com/bangalore/events/north-east-tuesdays-gypsy-tower-1st-floor-geWpnQzzkZ?utm_source=allevents_list\n"
     ]
    },
    {
     "name": "stderr",
     "output_type": "stream",
     "text": [
      "Scraping Events:   6%|█▌                       | 19/294 [02:18<31:39,  6.91s/it]"
     ]
    },
    {
     "name": "stdout",
     "output_type": "stream",
     "text": [
      "➡️  [20/294] Scraping: https://highape.com/bangalore/events/tuesday-rcb-final-bash-YpkZmpm6wl?utm_source=allevents_list\n"
     ]
    },
    {
     "name": "stderr",
     "output_type": "stream",
     "text": [
      "Scraping Events:   7%|█▋                       | 20/294 [02:25<31:33,  6.91s/it]"
     ]
    },
    {
     "name": "stdout",
     "output_type": "stream",
     "text": [
      "➡️  [21/294] Scraping: https://highape.com/bangalore/events/tuestday-twist--bollywood-night-ft-dj-mark-RVWK8KzMwM?utm_source=allevents_list\n"
     ]
    },
    {
     "name": "stderr",
     "output_type": "stream",
     "text": [
      "Scraping Events:   7%|█▊                       | 21/294 [02:33<32:46,  7.20s/it]"
     ]
    },
    {
     "name": "stdout",
     "output_type": "stream",
     "text": [
      "➡️  [22/294] Scraping: https://highape.com/bangalore/events/tease-tuesday-happy-brew-YpkZmqxmwl?utm_source=allevents_list\n"
     ]
    },
    {
     "name": "stderr",
     "output_type": "stream",
     "text": [
      "Scraping Events:   7%|█▊                       | 22/294 [02:41<33:57,  7.49s/it]"
     ]
    },
    {
     "name": "stdout",
     "output_type": "stream",
     "text": [
      "➡️  [23/294] Scraping: https://highape.com/bangalore/events/ftcu-QXw9pKEKWJ?utm_source=allevents_list\n"
     ]
    },
    {
     "name": "stderr",
     "output_type": "stream",
     "text": [
      "Scraping Events:   8%|█▉                       | 23/294 [02:50<36:08,  8.00s/it]"
     ]
    },
    {
     "name": "stdout",
     "output_type": "stream",
     "text": [
      "➡️  [24/294] Scraping: https://highape.com/bangalore/events/techno-tuesday-with-happy-hours-on-drinks-N5k2LKVQWd?utm_source=allevents_list\n"
     ]
    },
    {
     "name": "stderr",
     "output_type": "stream",
     "text": [
      "Scraping Events:   8%|██                       | 24/294 [02:57<34:07,  7.58s/it]"
     ]
    },
    {
     "name": "stdout",
     "output_type": "stream",
     "text": [
      "➡️  [25/294] Scraping: https://highape.com/bangalore/events/urban-tuesday--OprnLAnawz?utm_source=allevents_list\n"
     ]
    },
    {
     "name": "stderr",
     "output_type": "stream",
     "text": [
      "Scraping Events:   9%|██▏                      | 25/294 [03:03<32:48,  7.32s/it]"
     ]
    },
    {
     "name": "stdout",
     "output_type": "stream",
     "text": [
      "➡️  [26/294] Scraping: https://highape.com/bangalore/events/untamed-tuesdays-3BwzL6odrz?utm_source=allevents_list\n"
     ]
    },
    {
     "name": "stderr",
     "output_type": "stream",
     "text": [
      "Scraping Events:   9%|██▏                      | 26/294 [03:10<32:15,  7.22s/it]"
     ]
    },
    {
     "name": "stdout",
     "output_type": "stream",
     "text": [
      "➡️  [27/294] Scraping: https://highape.com/bangalore/events/tipsy-tuesday-zOkLvKe8Wp?utm_source=allevents_list\n"
     ]
    },
    {
     "name": "stderr",
     "output_type": "stream",
     "text": [
      "Scraping Events:   9%|██▎                      | 27/294 [03:17<31:44,  7.13s/it]"
     ]
    },
    {
     "name": "stdout",
     "output_type": "stream",
     "text": [
      "➡️  [28/294] Scraping: https://highape.com/bangalore/events/unlimited-tuesdays-P5Wo1zA8k8?utm_source=allevents_list\n"
     ]
    },
    {
     "name": "stderr",
     "output_type": "stream",
     "text": [
      "Scraping Events:  10%|██▍                      | 28/294 [03:26<33:20,  7.52s/it]"
     ]
    },
    {
     "name": "stdout",
     "output_type": "stream",
     "text": [
      "➡️  [29/294] Scraping: https://highape.com/bangalore/events/south-talli-tuesday-ottoman-JprY06jMkG?utm_source=allevents_list\n"
     ]
    },
    {
     "name": "stderr",
     "output_type": "stream",
     "text": [
      "Scraping Events:  10%|██▍                      | 29/294 [03:32<32:00,  7.25s/it]"
     ]
    },
    {
     "name": "stdout",
     "output_type": "stream",
     "text": [
      "➡️  [30/294] Scraping: https://highape.com/bangalore/events/temptation-tuesday--YOkgb1Xvw9?utm_source=allevents_list\n"
     ]
    },
    {
     "name": "stderr",
     "output_type": "stream",
     "text": [
      "Scraping Events:  10%|██▌                      | 30/294 [03:39<31:12,  7.09s/it]"
     ]
    },
    {
     "name": "stdout",
     "output_type": "stream",
     "text": [
      "➡️  [31/294] Scraping: https://highape.com/bangalore/events/she-loves-tuesdays-ZdwMdpKJWb?utm_source=allevents_list\n"
     ]
    },
    {
     "name": "stderr",
     "output_type": "stream",
     "text": [
      "Scraping Events:  11%|██▋                      | 31/294 [03:47<32:08,  7.33s/it]"
     ]
    },
    {
     "name": "stdout",
     "output_type": "stream",
     "text": [
      "➡️  [32/294] Scraping: https://highape.com/bangalore/events/tashan-tuesdays-K7rOPQ8NWl?utm_source=allevents_list\n"
     ]
    },
    {
     "name": "stderr",
     "output_type": "stream",
     "text": [
      "Scraping Events:  11%|██▋                      | 32/294 [03:54<32:16,  7.39s/it]"
     ]
    },
    {
     "name": "stdout",
     "output_type": "stream",
     "text": [
      "➡️  [33/294] Scraping: https://highape.com/bangalore/events/neon-tuesday-n9rRzLNQrl?utm_source=allevents_list\n"
     ]
    },
    {
     "name": "stderr",
     "output_type": "stream",
     "text": [
      "Scraping Events:  11%|██▊                      | 33/294 [04:01<31:07,  7.16s/it]"
     ]
    },
    {
     "name": "stdout",
     "output_type": "stream",
     "text": [
      "➡️  [34/294] Scraping: https://highape.com/bangalore/events/tempt-up-tuesdays-y0kG3KgRkj?utm_source=allevents_list\n"
     ]
    },
    {
     "name": "stderr",
     "output_type": "stream",
     "text": [
      "Scraping Events:  12%|██▉                      | 34/294 [04:09<31:33,  7.28s/it]"
     ]
    },
    {
     "name": "stdout",
     "output_type": "stream",
     "text": [
      "➡️  [35/294] Scraping: https://highape.com/bangalore/events/tipsy-tipsy-barsa-tuesdays-MXrA8Kx0kG?utm_source=allevents_list\n"
     ]
    },
    {
     "name": "stderr",
     "output_type": "stream",
     "text": [
      "Scraping Events:  12%|██▉                      | 35/294 [04:15<30:38,  7.10s/it]"
     ]
    },
    {
     "name": "stdout",
     "output_type": "stream",
     "text": [
      "➡️  [36/294] Scraping: https://highape.com/bangalore/events/tuesday-lets-party--ginza-P9kXOje8wz?utm_source=allevents_list\n"
     ]
    },
    {
     "name": "stderr",
     "output_type": "stream",
     "text": [
      "Scraping Events:  12%|███                      | 36/294 [04:22<29:59,  6.97s/it]"
     ]
    },
    {
     "name": "stdout",
     "output_type": "stream",
     "text": [
      "➡️  [37/294] Scraping: https://highape.com/bangalore/events/tripping-tuesday--QqW1JKB8wl?utm_source=allevents_list\n"
     ]
    },
    {
     "name": "stderr",
     "output_type": "stream",
     "text": [
      "Scraping Events:  13%|███▏                     | 37/294 [04:30<31:36,  7.38s/it]"
     ]
    },
    {
     "name": "stdout",
     "output_type": "stream",
     "text": [
      "➡️  [38/294] Scraping: https://highape.com/bangalore/events/tuesday-tashann-GVrNmzm6kM?utm_source=allevents_list\n"
     ]
    },
    {
     "name": "stderr",
     "output_type": "stream",
     "text": [
      "Scraping Events:  13%|███▏                     | 38/294 [04:37<30:29,  7.14s/it]"
     ]
    },
    {
     "name": "stdout",
     "output_type": "stream",
     "text": [
      "➡️  [39/294] Scraping: https://highape.com/bangalore/events/tuesday-tamasha-K7rOP9mPWl?utm_source=allevents_list\n"
     ]
    },
    {
     "name": "stderr",
     "output_type": "stream",
     "text": [
      "Scraping Events:  13%|███▎                     | 39/294 [04:44<29:51,  7.02s/it]"
     ]
    },
    {
     "name": "stdout",
     "output_type": "stream",
     "text": [
      "➡️  [40/294] Scraping: https://highape.com/bangalore/events/lol-at-urban-solace-4qr4eKypWy?utm_source=allevents_list\n"
     ]
    },
    {
     "name": "stderr",
     "output_type": "stream",
     "text": [
      "Scraping Events:  14%|███▍                     | 40/294 [04:50<29:14,  6.91s/it]"
     ]
    },
    {
     "name": "stdout",
     "output_type": "stream",
     "text": [
      "➡️  [41/294] Scraping: https://highape.com/bangalore/events/techno-night-wednesday-z7rqyZNPre?utm_source=allevents_list\n"
     ]
    },
    {
     "name": "stderr",
     "output_type": "stream",
     "text": [
      "Scraping Events:  14%|███▍                     | 41/294 [04:57<28:50,  6.84s/it]"
     ]
    },
    {
     "name": "stdout",
     "output_type": "stream",
     "text": [
      "➡️  [42/294] Scraping: https://highape.com/bangalore/events/ladies-night-gypsy-tower-1st-floor-5ewaeJb9wE?utm_source=allevents_list\n"
     ]
    },
    {
     "name": "stderr",
     "output_type": "stream",
     "text": [
      "Scraping Events:  14%|███▌                     | 42/294 [05:03<28:28,  6.78s/it]"
     ]
    },
    {
     "name": "stdout",
     "output_type": "stream",
     "text": [
      "➡️  [43/294] Scraping: https://highape.com/bangalore/events/suroor-e-sufi-ft-sukoon-waali-qawwali-MXrA8KoZkG?utm_source=allevents_list\n"
     ]
    },
    {
     "name": "stderr",
     "output_type": "stream",
     "text": [
      "Scraping Events:  15%|███▋                     | 43/294 [05:11<28:57,  6.92s/it]"
     ]
    },
    {
     "name": "stdout",
     "output_type": "stream",
     "text": [
      "➡️  [44/294] Scraping: https://highape.com/bangalore/events/wacky-wednesday-ladies-night-at-boho-aVWQXpXJrO?utm_source=allevents_list\n"
     ]
    },
    {
     "name": "stderr",
     "output_type": "stream",
     "text": [
      "Scraping Events:  15%|███▋                     | 44/294 [05:19<29:53,  7.17s/it]"
     ]
    },
    {
     "name": "stdout",
     "output_type": "stream",
     "text": [
      "➡️  [45/294] Scraping: https://highape.com/bangalore/events/sugar-wednesday--ladies-night-GVrNmKBDkM?utm_source=allevents_list\n"
     ]
    },
    {
     "name": "stderr",
     "output_type": "stream",
     "text": [
      "Scraping Events:  15%|███▊                     | 45/294 [05:25<29:04,  7.01s/it]"
     ]
    },
    {
     "name": "stdout",
     "output_type": "stream",
     "text": [
      "➡️  [46/294] Scraping: https://highape.com/bangalore/events/badmaash-wednesday-ladies-night-OprnLAvYwz?utm_source=allevents_list\n"
     ]
    },
    {
     "name": "stderr",
     "output_type": "stream",
     "text": [
      "Scraping Events:  16%|███▉                     | 46/294 [05:33<29:39,  7.18s/it]"
     ]
    },
    {
     "name": "stdout",
     "output_type": "stream",
     "text": [
      "➡️  [47/294] Scraping: https://highape.com/bangalore/events/vogue-vixens-ladies-night-2arD8Ko7rd?utm_source=allevents_list\n"
     ]
    },
    {
     "name": "stderr",
     "output_type": "stream",
     "text": [
      "Scraping Events:  16%|███▉                     | 47/294 [05:40<30:15,  7.35s/it]"
     ]
    },
    {
     "name": "stdout",
     "output_type": "stream",
     "text": [
      "➡️  [48/294] Scraping: https://highape.com/bangalore/events/karaoke-nights-at-kling-brewery-with-kj-naveen-5ewaeRjewE?utm_source=allevents_list\n"
     ]
    },
    {
     "name": "stderr",
     "output_type": "stream",
     "text": [
      "Scraping Events:  16%|████                     | 48/294 [05:48<30:18,  7.39s/it]"
     ]
    },
    {
     "name": "stdout",
     "output_type": "stream",
     "text": [
      "➡️  [49/294] Scraping: https://highape.com/bangalore/events/deep-house-commercial-gillys-bannerghatta-a3rBqKogkq?utm_source=allevents_list\n"
     ]
    },
    {
     "name": "stderr",
     "output_type": "stream",
     "text": [
      "Scraping Events:  17%|████▏                    | 49/294 [05:55<29:47,  7.30s/it]"
     ]
    },
    {
     "name": "stdout",
     "output_type": "stream",
     "text": [
      "➡️  [50/294] Scraping: https://highape.com/bangalore/events/wednesday-mix-ladies-night-a3rBqKoAkq?utm_source=allevents_list\n"
     ]
    },
    {
     "name": "stderr",
     "output_type": "stream",
     "text": [
      "Scraping Events:  17%|████▎                    | 50/294 [06:02<28:53,  7.11s/it]"
     ]
    },
    {
     "name": "stdout",
     "output_type": "stream",
     "text": [
      "➡️  [51/294] Scraping: https://highape.com/bangalore/events/deck-gigs--live-music-experience-aVWQXNjGrO?utm_source=allevents_list\n"
     ]
    },
    {
     "name": "stderr",
     "output_type": "stream",
     "text": [
      "Scraping Events:  17%|████▎                    | 51/294 [06:08<28:16,  6.98s/it]"
     ]
    },
    {
     "name": "stdout",
     "output_type": "stream",
     "text": [
      "➡️  [52/294] Scraping: https://highape.com/bangalore/events/bollywood-mantra-GVrNmKBEkM?utm_source=allevents_list\n"
     ]
    },
    {
     "name": "stderr",
     "output_type": "stream",
     "text": [
      "Scraping Events:  18%|████▍                    | 52/294 [06:15<27:44,  6.88s/it]"
     ]
    },
    {
     "name": "stdout",
     "output_type": "stream",
     "text": [
      "➡️  [53/294] Scraping: https://highape.com/bangalore/events/wednesdays-open-mic-night-N5k2LKoQWd?utm_source=allevents_list\n"
     ]
    },
    {
     "name": "stderr",
     "output_type": "stream",
     "text": [
      "Scraping Events:  18%|████▌                    | 53/294 [06:22<27:22,  6.81s/it]"
     ]
    },
    {
     "name": "stdout",
     "output_type": "stream",
     "text": [
      "➡️  [54/294] Scraping: https://highape.com/bangalore/events/karaoke-nights-at-hard-rock-cafe-with-kj-naveen-4qr4eKo6Wy?utm_source=allevents_list\n"
     ]
    },
    {
     "name": "stderr",
     "output_type": "stream",
     "text": [
      "Scraping Events:  18%|████▌                    | 54/294 [06:28<27:03,  6.76s/it]"
     ]
    },
    {
     "name": "stdout",
     "output_type": "stream",
     "text": [
      "➡️  [55/294] Scraping: https://highape.com/bangalore/events/wednesday-models-night-Z2kE0KoawL?utm_source=allevents_list\n"
     ]
    },
    {
     "name": "stderr",
     "output_type": "stream",
     "text": [
      "Scraping Events:  19%|████▋                    | 55/294 [06:35<27:05,  6.80s/it]"
     ]
    },
    {
     "name": "stdout",
     "output_type": "stream",
     "text": [
      "➡️  [56/294] Scraping: https://highape.com/bangalore/events/wednesday-ladies-night-a7kjylK0wY?utm_source=allevents_list\n"
     ]
    },
    {
     "name": "stderr",
     "output_type": "stream",
     "text": [
      "Scraping Events:  19%|████▊                    | 56/294 [06:42<27:27,  6.92s/it]"
     ]
    },
    {
     "name": "stdout",
     "output_type": "stream",
     "text": [
      "➡️  [57/294] Scraping: https://highape.com/bangalore/events/wonder-women-wednesday-big-pitcher-sarjapur-zPrJ6KN3rl?utm_source=allevents_list\n"
     ]
    },
    {
     "name": "stderr",
     "output_type": "stream",
     "text": [
      "Scraping Events:  19%|████▊                    | 57/294 [06:50<28:06,  7.12s/it]"
     ]
    },
    {
     "name": "stdout",
     "output_type": "stream",
     "text": [
      "➡️  [58/294] Scraping: https://highape.com/bangalore/events/hot-wednesday-4qr4eKoEWy?utm_source=allevents_list\n"
     ]
    },
    {
     "name": "stderr",
     "output_type": "stream",
     "text": [
      "Scraping Events:  20%|████▉                    | 58/294 [07:00<31:00,  7.89s/it]"
     ]
    },
    {
     "name": "stdout",
     "output_type": "stream",
     "text": [
      "➡️  [59/294] Scraping: https://highape.com/bangalore/events/afro-pulse-n7ryKj6Aw4?utm_source=allevents_list\n"
     ]
    },
    {
     "name": "stderr",
     "output_type": "stream",
     "text": [
      "Scraping Events:  20%|█████                    | 59/294 [07:06<29:25,  7.51s/it]"
     ]
    },
    {
     "name": "stdout",
     "output_type": "stream",
     "text": [
      "➡️  [60/294] Scraping: https://highape.com/bangalore/events/welcome-2025-6ew5pKoKWm?utm_source=allevents_list\n"
     ]
    },
    {
     "name": "stderr",
     "output_type": "stream",
     "text": [
      "Scraping Events:  20%|█████                    | 60/294 [07:13<28:12,  7.23s/it]"
     ]
    },
    {
     "name": "stdout",
     "output_type": "stream",
     "text": [
      "➡️  [61/294] Scraping: https://highape.com/bangalore/events/boiler-room-wednesday-ft-artblot--zeenix-at-hod-club-1Xr04KK5rM?utm_source=allevents_list\n"
     ]
    },
    {
     "name": "stderr",
     "output_type": "stream",
     "text": [
      "Scraping Events:  21%|█████▏                   | 61/294 [07:20<28:10,  7.26s/it]"
     ]
    },
    {
     "name": "stdout",
     "output_type": "stream",
     "text": [
      "➡️  [62/294] Scraping: https://highape.com/bangalore/events/ladies-night-ottoman-aVWQXNjerO?utm_source=allevents_list\n"
     ]
    },
    {
     "name": "stderr",
     "output_type": "stream",
     "text": [
      "Scraping Events:  21%|█████▎                   | 62/294 [07:27<27:51,  7.20s/it]"
     ]
    },
    {
     "name": "stdout",
     "output_type": "stream",
     "text": [
      "➡️  [63/294] Scraping: https://highape.com/bangalore/events/xoxo-ladies-night--yMr7VKovk9?utm_source=allevents_list\n"
     ]
    },
    {
     "name": "stderr",
     "output_type": "stream",
     "text": [
      "Scraping Events:  21%|█████▎                   | 63/294 [07:35<28:09,  7.31s/it]"
     ]
    },
    {
     "name": "stdout",
     "output_type": "stream",
     "text": [
      "➡️  [64/294] Scraping: https://highape.com/bangalore/events/wednesday-lets-party-YpkZmqJmwl?utm_source=allevents_list\n"
     ]
    },
    {
     "name": "stderr",
     "output_type": "stream",
     "text": [
      "Scraping Events:  22%|█████▍                   | 64/294 [07:41<27:14,  7.11s/it]"
     ]
    },
    {
     "name": "stdout",
     "output_type": "stream",
     "text": [
      "➡️  [65/294] Scraping: https://highape.com/bangalore/events/wonder-women-wednesday-big-pitcher-indiranagar-ZdwMdp2QWb?utm_source=allevents_list\n"
     ]
    },
    {
     "name": "stderr",
     "output_type": "stream",
     "text": [
      "Scraping Events:  22%|█████▌                   | 65/294 [07:48<26:37,  6.97s/it]"
     ]
    },
    {
     "name": "stdout",
     "output_type": "stream",
     "text": [
      "➡️  [66/294] Scraping: https://highape.com/bangalore/events/disco-ladies-night-a7kjylK7wY?utm_source=allevents_list\n"
     ]
    },
    {
     "name": "stderr",
     "output_type": "stream",
     "text": [
      "Scraping Events:  22%|█████▌                   | 66/294 [07:55<26:30,  6.98s/it]"
     ]
    },
    {
     "name": "stdout",
     "output_type": "stream",
     "text": [
      "➡️  [67/294] Scraping: https://highape.com/bangalore/events/wow-wednesday-BVWeOxMjk9?utm_source=allevents_list\n"
     ]
    },
    {
     "name": "stderr",
     "output_type": "stream",
     "text": [
      "Scraping Events:  23%|█████▋                   | 67/294 [08:03<27:21,  7.23s/it]"
     ]
    },
    {
     "name": "stdout",
     "output_type": "stream",
     "text": [
      "➡️  [68/294] Scraping: https://highape.com/bangalore/events/gossip-gals-wednesday-ladies-night-P5Wo1z3qk8?utm_source=allevents_list\n"
     ]
    },
    {
     "name": "stderr",
     "output_type": "stream",
     "text": [
      "Scraping Events:  23%|█████▊                   | 68/294 [08:10<27:16,  7.24s/it]"
     ]
    },
    {
     "name": "stdout",
     "output_type": "stream",
     "text": [
      "➡️  [69/294] Scraping: https://highape.com/bangalore/events/pinkalicious-wednesdays-YpkZmqJLwl?utm_source=allevents_list\n"
     ]
    },
    {
     "name": "stderr",
     "output_type": "stream",
     "text": [
      "Scraping Events:  23%|█████▊                   | 69/294 [08:17<26:32,  7.08s/it]"
     ]
    },
    {
     "name": "stdout",
     "output_type": "stream",
     "text": [
      "➡️  [70/294] Scraping: https://highape.com/bangalore/events/glam-ladies-night-YOkgb1AJw9?utm_source=allevents_list\n"
     ]
    },
    {
     "name": "stderr",
     "output_type": "stream",
     "text": [
      "Scraping Events:  24%|█████▉                   | 70/294 [08:25<27:43,  7.43s/it]"
     ]
    },
    {
     "name": "stdout",
     "output_type": "stream",
     "text": [
      "➡️  [71/294] Scraping: https://highape.com/bangalore/events/hot-wednesday--dj-ivan-P9kXOj0gwz?utm_source=allevents_list\n"
     ]
    },
    {
     "name": "stderr",
     "output_type": "stream",
     "text": [
      "Scraping Events:  24%|██████                   | 71/294 [08:32<26:44,  7.20s/it]"
     ]
    },
    {
     "name": "stdout",
     "output_type": "stream",
     "text": [
      "➡️  [72/294] Scraping: https://highape.com/bangalore/events/bollywood-ladies-night-gillys-kundanahalli-N5k2LKoyWd?utm_source=allevents_list\n"
     ]
    },
    {
     "name": "stderr",
     "output_type": "stream",
     "text": [
      "Scraping Events:  24%|██████                   | 72/294 [08:39<26:20,  7.12s/it]"
     ]
    },
    {
     "name": "stdout",
     "output_type": "stream",
     "text": [
      "➡️  [73/294] Scraping: https://highape.com/bangalore/events/wednesday-mid-week-affair-Q7wV83EyrM?utm_source=allevents_list\n"
     ]
    },
    {
     "name": "stderr",
     "output_type": "stream",
     "text": [
      "Scraping Events:  25%|██████▏                  | 73/294 [08:46<26:00,  7.06s/it]"
     ]
    },
    {
     "name": "stdout",
     "output_type": "stream",
     "text": [
      "➡️  [74/294] Scraping: https://highape.com/bangalore/events/wednesday-ladies-night-zOkLvK48Wp?utm_source=allevents_list\n"
     ]
    },
    {
     "name": "stderr",
     "output_type": "stream",
     "text": [
      "Scraping Events:  25%|██████▎                  | 74/294 [08:53<25:53,  7.06s/it]"
     ]
    },
    {
     "name": "stdout",
     "output_type": "stream",
     "text": [
      "➡️  [75/294] Scraping: https://highape.com/bangalore/events/wednesday-high-heels-jLkl6M88WD?utm_source=allevents_list\n"
     ]
    },
    {
     "name": "stderr",
     "output_type": "stream",
     "text": [
      "Scraping Events:  26%|██████▍                  | 75/294 [08:59<25:17,  6.93s/it]"
     ]
    },
    {
     "name": "stdout",
     "output_type": "stream",
     "text": [
      "➡️  [76/294] Scraping: https://highape.com/bangalore/events/bollywood-budhwaar-QqW1JKoxwl?utm_source=allevents_list\n"
     ]
    },
    {
     "name": "stderr",
     "output_type": "stream",
     "text": [
      "Scraping Events:  26%|██████▍                  | 76/294 [09:06<24:55,  6.86s/it]"
     ]
    },
    {
     "name": "stdout",
     "output_type": "stream",
     "text": [
      "➡️  [77/294] Scraping: https://highape.com/bangalore/events/ladies-night--wednesday-ft-dj-kamra-zOkLvK4QWp?utm_source=allevents_list\n"
     ]
    },
    {
     "name": "stderr",
     "output_type": "stream",
     "text": [
      "Scraping Events:  26%|██████▌                  | 77/294 [09:13<24:58,  6.91s/it]"
     ]
    },
    {
     "name": "stdout",
     "output_type": "stream",
     "text": [
      "➡️  [78/294] Scraping: https://highape.com/bangalore/events/divas-ladies-night-thursday-K7rOPQNyWl?utm_source=allevents_list\n"
     ]
    },
    {
     "name": "stderr",
     "output_type": "stream",
     "text": [
      "Scraping Events:  27%|██████▋                  | 78/294 [09:20<24:57,  6.93s/it]"
     ]
    },
    {
     "name": "stdout",
     "output_type": "stream",
     "text": [
      "➡️  [79/294] Scraping: https://highape.com/bangalore/events/funky-thursday-ft-dj-killer-zOkLvKGQWp?utm_source=allevents_list\n"
     ]
    },
    {
     "name": "stderr",
     "output_type": "stream",
     "text": [
      "Scraping Events:  27%|██████▋                  | 79/294 [09:27<24:36,  6.87s/it]"
     ]
    },
    {
     "name": "stdout",
     "output_type": "stream",
     "text": [
      "➡️  [80/294] Scraping: https://highape.com/bangalore/events/thursdate-night-ottoman-QXw9pK5pWJ?utm_source=allevents_list\n"
     ]
    },
    {
     "name": "stderr",
     "output_type": "stream",
     "text": [
      "Scraping Events:  27%|██████▊                  | 80/294 [09:34<24:59,  7.01s/it]"
     ]
    },
    {
     "name": "stdout",
     "output_type": "stream",
     "text": [
      "➡️  [81/294] Scraping: https://highape.com/bangalore/events/lock-him-in-ladies-and-models-night-z7rqyZ8Pre?utm_source=allevents_list\n"
     ]
    },
    {
     "name": "stderr",
     "output_type": "stream",
     "text": [
      "Scraping Events:  28%|██████▉                  | 81/294 [09:42<25:41,  7.24s/it]"
     ]
    },
    {
     "name": "stdout",
     "output_type": "stream",
     "text": [
      "➡️  [82/294] Scraping: https://highape.com/bangalore/events/thursday-girls-night-out-zPrJ6KM3rl?utm_source=allevents_list\n"
     ]
    },
    {
     "name": "stderr",
     "output_type": "stream",
     "text": [
      "Scraping Events:  28%|██████▉                  | 82/294 [09:50<26:23,  7.47s/it]"
     ]
    },
    {
     "name": "stdout",
     "output_type": "stream",
     "text": [
      "➡️  [83/294] Scraping: https://highape.com/bangalore/events/corporate-night--MXrA8KVZkG?utm_source=allevents_list\n"
     ]
    },
    {
     "name": "stderr",
     "output_type": "stream",
     "text": [
      "Scraping Events:  28%|███████                  | 83/294 [09:57<25:30,  7.25s/it]"
     ]
    },
    {
     "name": "stdout",
     "output_type": "stream",
     "text": [
      "➡️  [84/294] Scraping: https://highape.com/bangalore/events/thursday-ladies-night-n9rRzLpErl?utm_source=allevents_list\n"
     ]
    },
    {
     "name": "stderr",
     "output_type": "stream",
     "text": [
      "Scraping Events:  29%|███████▏                 | 84/294 [10:05<26:05,  7.46s/it]"
     ]
    },
    {
     "name": "stdout",
     "output_type": "stream",
     "text": [
      "➡️  [85/294] Scraping: https://highape.com/bangalore/events/throwback-thursday--a-retro-dj-night-a7kjylM0wY?utm_source=allevents_list\n"
     ]
    },
    {
     "name": "stderr",
     "output_type": "stream",
     "text": [
      "Scraping Events:  29%|███████▏                 | 85/294 [10:12<25:57,  7.45s/it]"
     ]
    },
    {
     "name": "stdout",
     "output_type": "stream",
     "text": [
      "➡️  [86/294] Scraping: https://highape.com/bangalore/events/karoke-nights-at-hard-rock-cafe-whitefield-BVwx4eYBwK?utm_source=allevents_list\n"
     ]
    },
    {
     "name": "stderr",
     "output_type": "stream",
     "text": [
      "Scraping Events:  29%|███████▎                 | 86/294 [10:19<25:08,  7.25s/it]"
     ]
    },
    {
     "name": "stdout",
     "output_type": "stream",
     "text": [
      "➡️  [87/294] Scraping: https://highape.com/bangalore/events/toxic-thursday-ladies-night--P5Wo1zKJk8?utm_source=allevents_list\n"
     ]
    },
    {
     "name": "stderr",
     "output_type": "stream",
     "text": [
      "Scraping Events:  30%|███████▍                 | 87/294 [10:26<25:17,  7.33s/it]"
     ]
    },
    {
     "name": "stdout",
     "output_type": "stream",
     "text": [
      "➡️  [88/294] Scraping: https://highape.com/bangalore/events/21a-thursday-karaoke-ladies-night-QqW1JK4xwl?utm_source=allevents_list\n"
     ]
    },
    {
     "name": "stderr",
     "output_type": "stream",
     "text": [
      "Scraping Events:  30%|███████▍                 | 88/294 [10:34<25:02,  7.29s/it]"
     ]
    },
    {
     "name": "stdout",
     "output_type": "stream",
     "text": [
      "➡️  [89/294] Scraping: https://highape.com/bangalore/events/thursday-take-over-N5k2LKPvWd?utm_source=allevents_list\n"
     ]
    },
    {
     "name": "stderr",
     "output_type": "stream",
     "text": [
      "Scraping Events:  30%|███████▌                 | 89/294 [10:41<25:06,  7.35s/it]"
     ]
    },
    {
     "name": "stdout",
     "output_type": "stream",
     "text": [
      "➡️  [90/294] Scraping: https://highape.com/bangalore/events/wonder-women-wednesday-big-pitcher-sarjapur-aVWQXN4orO?utm_source=allevents_list\n"
     ]
    },
    {
     "name": "stderr",
     "output_type": "stream",
     "text": [
      "Scraping Events:  31%|███████▋                 | 90/294 [10:48<24:30,  7.21s/it]"
     ]
    },
    {
     "name": "stdout",
     "output_type": "stream",
     "text": [
      "➡️  [91/294] Scraping: https://highape.com/bangalore/events/karaoke-night-gillys-resto-bar--aVWQXN4erO?utm_source=allevents_list\n"
     ]
    },
    {
     "name": "stderr",
     "output_type": "stream",
     "text": [
      "Scraping Events:  31%|███████▋                 | 91/294 [10:55<24:13,  7.16s/it]"
     ]
    },
    {
     "name": "stdout",
     "output_type": "stream",
     "text": [
      "➡️  [92/294] Scraping: https://highape.com/bangalore/events/thursday-thunder--YOkgb1JJw9?utm_source=allevents_list\n"
     ]
    },
    {
     "name": "stderr",
     "output_type": "stream",
     "text": [
      "Scraping Events:  31%|███████▊                 | 92/294 [11:02<23:47,  7.07s/it]"
     ]
    },
    {
     "name": "stdout",
     "output_type": "stream",
     "text": [
      "➡️  [93/294] Scraping: https://highape.com/bangalore/events/bolly-fiesta-ft-dj-wizy-YpkZmqaLwl?utm_source=allevents_list\n"
     ]
    },
    {
     "name": "stderr",
     "output_type": "stream",
     "text": [
      "Scraping Events:  32%|███████▉                 | 93/294 [11:09<23:21,  6.97s/it]"
     ]
    },
    {
     "name": "stdout",
     "output_type": "stream",
     "text": [
      "➡️  [94/294] Scraping: https://highape.com/bangalore/events/ladies-night-geWpnQYqkZ?utm_source=allevents_list\n"
     ]
    },
    {
     "name": "stderr",
     "output_type": "stream",
     "text": [
      "Scraping Events:  32%|███████▉                 | 94/294 [11:15<23:00,  6.90s/it]"
     ]
    },
    {
     "name": "stdout",
     "output_type": "stream",
     "text": [
      "➡️  [95/294] Scraping: https://highape.com/bangalore/events/bull-bhulaiya-nights-P9kXOjLgwz?utm_source=allevents_list\n"
     ]
    },
    {
     "name": "stderr",
     "output_type": "stream",
     "text": [
      "Scraping Events:  32%|████████                 | 95/294 [11:22<22:55,  6.91s/it]"
     ]
    },
    {
     "name": "stdout",
     "output_type": "stream",
     "text": [
      "➡️  [96/294] Scraping: https://highape.com/bangalore/events/m-bengaluru-N5k2LKPyWd?utm_source=allevents_list\n"
     ]
    },
    {
     "name": "stderr",
     "output_type": "stream",
     "text": [
      "Scraping Events:  33%|████████▏                | 96/294 [11:32<25:24,  7.70s/it]"
     ]
    },
    {
     "name": "stdout",
     "output_type": "stream",
     "text": [
      "➡️  [97/294] Scraping: https://highape.com/bangalore/events/ladies-night-jLkl6MX8WD?utm_source=allevents_list\n"
     ]
    },
    {
     "name": "stderr",
     "output_type": "stream",
     "text": [
      "Scraping Events:  33%|████████▏                | 97/294 [11:39<24:47,  7.55s/it]"
     ]
    },
    {
     "name": "stdout",
     "output_type": "stream",
     "text": [
      "➡️  [98/294] Scraping: https://highape.com/bangalore/events/-ladies-night-ft-dj-rohhit--june-5-thursday--hod-club--yMr7VKKDk9?utm_source=allevents_list\n"
     ]
    },
    {
     "name": "stderr",
     "output_type": "stream",
     "text": [
      "Scraping Events:  33%|████████▎                | 98/294 [11:46<23:57,  7.33s/it]"
     ]
    },
    {
     "name": "stdout",
     "output_type": "stream",
     "text": [
      "➡️  [99/294] Scraping: https://highape.com/bangalore/events/karaoke-x-escape-by-brewklyn-GVrNmKZDkM?utm_source=allevents_list\n"
     ]
    },
    {
     "name": "stderr",
     "output_type": "stream",
     "text": [
      "Future exception was never retrieved\n",
      "future: <Future finished exception=NetworkError('Protocol error (Target.detachFromTarget): No session with given id')>\n",
      "pyppeteer.errors.NetworkError: Protocol error (Target.detachFromTarget): No session with given id\n",
      "Scraping Events:  34%|████████▍                | 99/294 [11:53<23:23,  7.20s/it]"
     ]
    },
    {
     "name": "stdout",
     "output_type": "stream",
     "text": [
      "➡️  [100/294] Scraping: https://highape.com/bangalore/events/terrific-thursday-QRkde5yKrX?utm_source=allevents_list\n"
     ]
    },
    {
     "name": "stderr",
     "output_type": "stream",
     "text": [
      "Scraping Events:  34%|████████▏               | 100/294 [11:59<22:54,  7.09s/it]"
     ]
    },
    {
     "name": "stdout",
     "output_type": "stream",
     "text": [
      "➡️  [101/294] Scraping: https://highape.com/bangalore/events/mad-thursday-ft-martin-dsouza-x-dj-roan-4qr4eK06Wy?utm_source=allevents_list\n"
     ]
    },
    {
     "name": "stderr",
     "output_type": "stream",
     "text": [
      "Scraping Events:  34%|████████▏               | 101/294 [12:07<23:08,  7.19s/it]"
     ]
    },
    {
     "name": "stdout",
     "output_type": "stream",
     "text": [
      "➡️  [102/294] Scraping: https://highape.com/bangalore/events/rock-kulture-O0r8LKVxrQ?utm_source=allevents_list\n"
     ]
    },
    {
     "name": "stderr",
     "output_type": "stream",
     "text": [
      "Scraping Events:  35%|████████▎               | 102/294 [12:14<23:08,  7.23s/it]"
     ]
    },
    {
     "name": "stdout",
     "output_type": "stream",
     "text": [
      "➡️  [103/294] Scraping: https://highape.com/bangalore/events/thursday-hot-boxx-ladies-night-a3rBqKnMkq?utm_source=allevents_list\n"
     ]
    },
    {
     "name": "stderr",
     "output_type": "stream",
     "text": [
      "Scraping Events:  35%|████████▍               | 103/294 [12:22<23:23,  7.35s/it]"
     ]
    },
    {
     "name": "stdout",
     "output_type": "stream",
     "text": [
      "➡️  [104/294] Scraping: https://highape.com/bangalore/events/thursday-tadka-ladies-night-OprnLAbYwz?utm_source=allevents_list\n"
     ]
    },
    {
     "name": "stderr",
     "output_type": "stream",
     "text": [
      "Scraping Events:  35%|████████▍               | 104/294 [12:29<23:05,  7.29s/it]"
     ]
    },
    {
     "name": "stdout",
     "output_type": "stream",
     "text": [
      "➡️  [105/294] Scraping: https://highape.com/bangalore/events/tashan-thursdays--badmaash-6ew5pKeKWm?utm_source=allevents_list\n"
     ]
    },
    {
     "name": "stderr",
     "output_type": "stream",
     "text": [
      "Scraping Events:  36%|████████▌               | 105/294 [12:37<23:36,  7.49s/it]"
     ]
    },
    {
     "name": "stdout",
     "output_type": "stream",
     "text": [
      "➡️  [106/294] Scraping: https://highape.com/bangalore/events/throwback-thursday-3BwzL64nrz?utm_source=allevents_list\n"
     ]
    },
    {
     "name": "stderr",
     "output_type": "stream",
     "text": [
      "Scraping Events:  36%|████████▋               | 106/294 [12:44<23:26,  7.48s/it]"
     ]
    },
    {
     "name": "stdout",
     "output_type": "stream",
     "text": [
      "➡️  [107/294] Scraping: https://highape.com/bangalore/events/trending-thursday-ladies-night-aVWQXN9orO?utm_source=allevents_list\n"
     ]
    },
    {
     "name": "stderr",
     "output_type": "stream",
     "text": [
      "Scraping Events:  36%|████████▋               | 107/294 [12:51<22:36,  7.26s/it]"
     ]
    },
    {
     "name": "stdout",
     "output_type": "stream",
     "text": [
      "➡️  [108/294] Scraping: https://highape.com/bangalore/events/talk-of-the-town-ladies-night-4QkbxdaJWB?utm_source=allevents_list\n"
     ]
    },
    {
     "name": "stderr",
     "output_type": "stream",
     "text": [
      "Scraping Events:  37%|████████▊               | 108/294 [12:58<22:28,  7.25s/it]"
     ]
    },
    {
     "name": "stdout",
     "output_type": "stream",
     "text": [
      "➡️  [109/294] Scraping: https://highape.com/bangalore/events/thursday-lets-party-at-ginza-4qr4eK0zWy?utm_source=allevents_list\n"
     ]
    },
    {
     "name": "stderr",
     "output_type": "stream",
     "text": [
      "Scraping Events:  37%|████████▉               | 109/294 [13:05<22:00,  7.14s/it]"
     ]
    },
    {
     "name": "stdout",
     "output_type": "stream",
     "text": [
      "➡️  [110/294] Scraping: https://highape.com/bangalore/events/thursday-takeover-RVWK8KmYwM?utm_source=allevents_list\n"
     ]
    },
    {
     "name": "stderr",
     "output_type": "stream",
     "text": [
      "Scraping Events:  37%|████████▉               | 110/294 [13:12<21:44,  7.09s/it]"
     ]
    },
    {
     "name": "stdout",
     "output_type": "stream",
     "text": [
      "➡️  [111/294] Scraping: https://highape.com/bangalore/events/ladies-night-indiranagar-a3rBqKngkq?utm_source=allevents_list\n"
     ]
    },
    {
     "name": "stderr",
     "output_type": "stream",
     "text": [
      "Scraping Events:  38%|█████████               | 111/294 [13:19<21:35,  7.08s/it]"
     ]
    },
    {
     "name": "stdout",
     "output_type": "stream",
     "text": [
      "➡️  [112/294] Scraping: https://highape.com/bangalore/events/throwback-thusday-ladies-night-JprY06DQkG?utm_source=allevents_list\n"
     ]
    },
    {
     "name": "stderr",
     "output_type": "stream",
     "text": [
      "Scraping Events:  38%|█████████▏              | 112/294 [13:26<21:15,  7.01s/it]"
     ]
    },
    {
     "name": "stdout",
     "output_type": "stream",
     "text": [
      "➡️  [113/294] Scraping: https://highape.com/bangalore/events/twisted-thursday-night-ZdwMdpzQWb?utm_source=allevents_list\n"
     ]
    },
    {
     "name": "stderr",
     "output_type": "stream",
     "text": [
      "Scraping Events:  38%|█████████▏              | 113/294 [13:33<21:07,  7.00s/it]"
     ]
    },
    {
     "name": "stdout",
     "output_type": "stream",
     "text": [
      "➡️  [114/294] Scraping: https://highape.com/bangalore/events/high-end-thursday--bollywood-night-ft-dj-shams-djrvbBQKrY?utm_source=allevents_list\n"
     ]
    },
    {
     "name": "stderr",
     "output_type": "stream",
     "text": [
      "Scraping Events:  39%|█████████▎              | 114/294 [13:40<20:55,  6.97s/it]"
     ]
    },
    {
     "name": "stdout",
     "output_type": "stream",
     "text": [
      "➡️  [115/294] Scraping: https://highape.com/bangalore/events/leave-your-boyfriend-home--Q7wV83ZyrM?utm_source=allevents_list\n"
     ]
    },
    {
     "name": "stderr",
     "output_type": "stream",
     "text": [
      "Scraping Events:  39%|█████████▍              | 115/294 [13:47<21:04,  7.06s/it]"
     ]
    },
    {
     "name": "stdout",
     "output_type": "stream",
     "text": [
      "➡️  [116/294] Scraping: https://highape.com/bangalore/events/dance-like-a-bollywood-star-YpkZmd28wl?utm_source=allevents_list\n"
     ]
    },
    {
     "name": "stderr",
     "output_type": "stream",
     "text": [
      "Scraping Events:  39%|█████████▍              | 116/294 [13:54<20:18,  6.85s/it]"
     ]
    },
    {
     "name": "stdout",
     "output_type": "stream",
     "text": [
      "➡️  [117/294] Scraping: https://highape.com/bangalore/events/friday-north-east-night-gypsy-tower-1st-floor-zPrJ6KOOrl?utm_source=allevents_list\n"
     ]
    },
    {
     "name": "stderr",
     "output_type": "stream",
     "text": [
      "Scraping Events:  40%|█████████▌              | 117/294 [14:00<20:10,  6.84s/it]"
     ]
    },
    {
     "name": "stdout",
     "output_type": "stream",
     "text": [
      "➡️  [118/294] Scraping: https://highape.com/bangalore/events/the-secret-chamber-vol-1-QXw9pKgdWJ?utm_source=allevents_list\n"
     ]
    },
    {
     "name": "stderr",
     "output_type": "stream",
     "text": [
      "Scraping Events:  40%|█████████▋              | 118/294 [14:08<20:58,  7.15s/it]"
     ]
    },
    {
     "name": "stdout",
     "output_type": "stream",
     "text": [
      "➡️  [119/294] Scraping: https://highape.com/bangalore/events/friday-bollywood-ladies-night-GVrNmKMAkM?utm_source=allevents_list\n"
     ]
    },
    {
     "name": "stderr",
     "output_type": "stream",
     "text": [
      "Scraping Events:  40%|█████████▋              | 119/294 [14:15<20:40,  7.09s/it]"
     ]
    },
    {
     "name": "stdout",
     "output_type": "stream",
     "text": [
      "➡️  [120/294] Scraping: https://highape.com/bangalore/events/high-heels--every-friday-ladies-night--high-a3rBqK9Mkq?utm_source=allevents_list\n"
     ]
    },
    {
     "name": "stderr",
     "output_type": "stream",
     "text": [
      "Scraping Events:  41%|█████████▊              | 120/294 [14:22<20:31,  7.08s/it]"
     ]
    },
    {
     "name": "stdout",
     "output_type": "stream",
     "text": [
      "➡️  [121/294] Scraping: https://highape.com/bangalore/events/friday-biggest-bollywood-party-MXrA8KzvkG?utm_source=allevents_list\n"
     ]
    },
    {
     "name": "stderr",
     "output_type": "stream",
     "text": [
      "Scraping Events:  41%|█████████▉              | 121/294 [14:29<20:12,  7.01s/it]"
     ]
    },
    {
     "name": "stdout",
     "output_type": "stream",
     "text": [
      "➡️  [122/294] Scraping: https://highape.com/bangalore/events/tipsy-bitsy-fridays-YpkZmqy9wl?utm_source=allevents_list\n"
     ]
    },
    {
     "name": "stderr",
     "output_type": "stream",
     "text": [
      "Scraping Events:  41%|█████████▉              | 122/294 [14:36<19:56,  6.96s/it]"
     ]
    },
    {
     "name": "stdout",
     "output_type": "stream",
     "text": [
      "➡️  [123/294] Scraping: https://highape.com/bangalore/events/friyay--daysie-mg-road-N5k2LK7vWd?utm_source=allevents_list\n"
     ]
    },
    {
     "name": "stderr",
     "output_type": "stream",
     "text": [
      "Scraping Events:  42%|██████████              | 123/294 [14:43<19:52,  6.97s/it]"
     ]
    },
    {
     "name": "stdout",
     "output_type": "stream",
     "text": [
      "➡️  [124/294] Scraping: https://highape.com/bangalore/events/friday-fantasy-night-at-wasabi-lounge-brigade-road-4Qkbxd1gWB?utm_source=allevents_list\n"
     ]
    },
    {
     "name": "stderr",
     "output_type": "stream",
     "text": [
      "Scraping Events:  42%|██████████              | 124/294 [14:51<20:31,  7.24s/it]"
     ]
    },
    {
     "name": "stdout",
     "output_type": "stream",
     "text": [
      "➡️  [125/294] Scraping: https://highape.com/bangalore/events/desi-friday--big-baadshaah-geWpnQpKkZ?utm_source=allevents_list\n"
     ]
    },
    {
     "name": "stderr",
     "output_type": "stream",
     "text": [
      "Scraping Events:  43%|██████████▏             | 125/294 [14:58<20:06,  7.14s/it]"
     ]
    },
    {
     "name": "stdout",
     "output_type": "stream",
     "text": [
      "➡️  [126/294] Scraping: https://highape.com/bangalore/events/greater-nights-QRkde5bgrX?utm_source=allevents_list\n"
     ]
    },
    {
     "name": "stderr",
     "output_type": "stream",
     "text": [
      "Scraping Events:  43%|██████████▎             | 126/294 [15:05<19:57,  7.13s/it]"
     ]
    },
    {
     "name": "stdout",
     "output_type": "stream",
     "text": [
      "➡️  [127/294] Scraping: https://highape.com/bangalore/events/bollywood-all-night--O0r8LKXErQ?utm_source=allevents_list\n"
     ]
    },
    {
     "name": "stderr",
     "output_type": "stream",
     "text": [
      "Scraping Events:  43%|██████████▎             | 127/294 [15:14<21:05,  7.58s/it]"
     ]
    },
    {
     "name": "stdout",
     "output_type": "stream",
     "text": [
      "➡️  [128/294] Scraping: https://highape.com/bangalore/events/fuego-fridays-zOkLvKZdWp?utm_source=allevents_list\n"
     ]
    },
    {
     "name": "stderr",
     "output_type": "stream",
     "text": [
      "Scraping Events:  44%|██████████▍             | 128/294 [15:20<20:16,  7.33s/it]"
     ]
    },
    {
     "name": "stdout",
     "output_type": "stream",
     "text": [
      "➡️  [129/294] Scraping: https://highape.com/bangalore/events/friday-night-uptown-square-aVWQXNBorO?utm_source=allevents_list\n"
     ]
    },
    {
     "name": "stderr",
     "output_type": "stream",
     "text": [
      "Scraping Events:  44%|██████████▌             | 129/294 [15:28<20:10,  7.34s/it]"
     ]
    },
    {
     "name": "stdout",
     "output_type": "stream",
     "text": [
      "➡️  [130/294] Scraping: https://highape.com/bangalore/events/tgif-thank-god-its-friday--1Xr04KyLrM?utm_source=allevents_list\n"
     ]
    },
    {
     "name": "stderr",
     "output_type": "stream",
     "text": [
      "Scraping Events:  44%|██████████▌             | 130/294 [15:35<19:42,  7.21s/it]"
     ]
    },
    {
     "name": "stdout",
     "output_type": "stream",
     "text": [
      "➡️  [131/294] Scraping: https://highape.com/bangalore/events/clubbers-friday-indiranagar-6ew5pKVpWm?utm_source=allevents_list\n"
     ]
    },
    {
     "name": "stderr",
     "output_type": "stream",
     "text": [
      "Scraping Events:  45%|██████████▋             | 131/294 [15:41<19:17,  7.10s/it]"
     ]
    },
    {
     "name": "stdout",
     "output_type": "stream",
     "text": [
      "➡️  [132/294] Scraping: https://highape.com/bangalore/events/bangalores-biggest-dance-floor-YOkgb1gmw9?utm_source=allevents_list\n"
     ]
    },
    {
     "name": "stderr",
     "output_type": "stream",
     "text": [
      "Scraping Events:  45%|██████████▊             | 132/294 [15:48<18:52,  6.99s/it]"
     ]
    },
    {
     "name": "stdout",
     "output_type": "stream",
     "text": [
      "➡️  [133/294] Scraping: https://highape.com/bangalore/events/neon-night-fall-ft-dj-saket-maskara--june-6-friday--hod-zPrJ6KKBrl?utm_source=allevents_list\n"
     ]
    },
    {
     "name": "stderr",
     "output_type": "stream",
     "text": [
      "Scraping Events:  45%|██████████▊             | 133/294 [15:55<18:57,  7.06s/it]"
     ]
    },
    {
     "name": "stdout",
     "output_type": "stream",
     "text": [
      "➡️  [134/294] Scraping: https://highape.com/bangalore/events/bohemian-night-K7rOPQ46Wl?utm_source=allevents_list\n"
     ]
    },
    {
     "name": "stderr",
     "output_type": "stream",
     "text": [
      "Scraping Events:  46%|██████████▉             | 134/294 [16:02<18:38,  6.99s/it]"
     ]
    },
    {
     "name": "stdout",
     "output_type": "stream",
     "text": [
      "➡️  [135/294] Scraping: https://highape.com/bangalore/events/bolly-boom-friday-nolimmits-lounge-MXrA8KZvkG?utm_source=allevents_list\n"
     ]
    },
    {
     "name": "stderr",
     "output_type": "stream",
     "text": [
      "Scraping Events:  46%|███████████             | 135/294 [16:10<18:57,  7.15s/it]"
     ]
    },
    {
     "name": "stdout",
     "output_type": "stream",
     "text": [
      "➡️  [136/294] Scraping: https://highape.com/bangalore/events/retro-bollywood-music--yMr7VKxdk9?utm_source=allevents_list\n"
     ]
    },
    {
     "name": "stderr",
     "output_type": "stream",
     "text": [
      "Scraping Events:  46%|███████████             | 136/294 [16:16<18:27,  7.01s/it]"
     ]
    },
    {
     "name": "stdout",
     "output_type": "stream",
     "text": [
      "➡️  [137/294] Scraping: https://highape.com/bangalore/events/hip-hop-commercial--y0kG3KvBkj?utm_source=allevents_list\n"
     ]
    },
    {
     "name": "stderr",
     "output_type": "stream",
     "text": [
      "Scraping Events:  47%|███████████▏            | 137/294 [16:23<18:23,  7.03s/it]"
     ]
    },
    {
     "name": "stdout",
     "output_type": "stream",
     "text": [
      "➡️  [138/294] Scraping: https://highape.com/bangalore/events/bollywood-glow-party--YOkgb1Kmw9?utm_source=allevents_list\n"
     ]
    },
    {
     "name": "stderr",
     "output_type": "stream",
     "text": [
      "Scraping Events:  47%|███████████▎            | 138/294 [16:30<18:01,  6.94s/it]"
     ]
    },
    {
     "name": "stdout",
     "output_type": "stream",
     "text": [
      "➡️  [139/294] Scraping: https://highape.com/bangalore/events/tgif-friday-night-RVWK8K5jwM?utm_source=allevents_list\n"
     ]
    },
    {
     "name": "stderr",
     "output_type": "stream",
     "text": [
      "Scraping Events:  47%|███████████▎            | 139/294 [16:38<18:26,  7.14s/it]"
     ]
    },
    {
     "name": "stdout",
     "output_type": "stream",
     "text": [
      "➡️  [140/294] Scraping: https://highape.com/bangalore/events/fantasy-friday-ladies-night--the-fixx-K7rOPQM6Wl?utm_source=allevents_list\n"
     ]
    },
    {
     "name": "stderr",
     "output_type": "stream",
     "text": [
      "Scraping Events:  48%|███████████▍            | 140/294 [16:45<18:21,  7.15s/it]"
     ]
    },
    {
     "name": "stdout",
     "output_type": "stream",
     "text": [
      "➡️  [141/294] Scraping: https://highape.com/bangalore/events/funky-fridays-5ewaeJP7wE?utm_source=allevents_list\n"
     ]
    },
    {
     "name": "stderr",
     "output_type": "stream",
     "text": [
      "Scraping Events:  48%|███████████▌            | 141/294 [16:52<17:55,  7.03s/it]"
     ]
    },
    {
     "name": "stdout",
     "output_type": "stream",
     "text": [
      "➡️  [142/294] Scraping: https://highape.com/bangalore/events/social-friday-n7ryKj46w4?utm_source=allevents_list\n"
     ]
    },
    {
     "name": "stderr",
     "output_type": "stream",
     "text": [
      "Scraping Events:  48%|███████████▌            | 142/294 [16:59<17:56,  7.08s/it]"
     ]
    },
    {
     "name": "stdout",
     "output_type": "stream",
     "text": [
      "➡️  [143/294] Scraping: https://highape.com/bangalore/events/bollywood-ladies-night-jLkl6MZDWD?utm_source=allevents_list\n"
     ]
    },
    {
     "name": "stderr",
     "output_type": "stream",
     "text": [
      "Scraping Events:  49%|███████████▋            | 143/294 [17:06<17:33,  6.98s/it]"
     ]
    },
    {
     "name": "stdout",
     "output_type": "stream",
     "text": [
      "➡️  [144/294] Scraping: https://highape.com/bangalore/events/freky-friday--bollywood-night-ft-dj-bose-4qr4eKdzWy?utm_source=allevents_list\n"
     ]
    },
    {
     "name": "stderr",
     "output_type": "stream",
     "text": [
      "Scraping Events:  49%|███████████▊            | 144/294 [17:13<17:35,  7.04s/it]"
     ]
    },
    {
     "name": "stdout",
     "output_type": "stream",
     "text": [
      "➡️  [145/294] Scraping: https://highape.com/bangalore/events/starry-bollywood-sundays-JprY06BakG?utm_source=allevents_list\n"
     ]
    },
    {
     "name": "stderr",
     "output_type": "stream",
     "text": [
      "Scraping Events:  49%|███████████▊            | 145/294 [17:20<17:36,  7.09s/it]"
     ]
    },
    {
     "name": "stdout",
     "output_type": "stream",
     "text": [
      "➡️  [146/294] Scraping: https://highape.com/bangalore/events/forbidden-fridays-4xrmynKVrM?utm_source=allevents_list\n"
     ]
    },
    {
     "name": "stderr",
     "output_type": "stream",
     "text": [
      "Scraping Events:  50%|███████████▉            | 146/294 [17:27<17:21,  7.04s/it]"
     ]
    },
    {
     "name": "stdout",
     "output_type": "stream",
     "text": [
      "➡️  [147/294] Scraping: https://highape.com/bangalore/events/fashion-friday-night-QqW1JKDpwl?utm_source=allevents_list\n"
     ]
    },
    {
     "name": "stderr",
     "output_type": "stream",
     "text": [
      "Scraping Events:  50%|████████████            | 147/294 [17:34<17:07,  6.99s/it]"
     ]
    },
    {
     "name": "stdout",
     "output_type": "stream",
     "text": [
      "➡️  [148/294] Scraping: https://highape.com/bangalore/events/fire-up-your-friday-night-with-devjeet-at-biergarten-6nkPOZ2bwL?utm_source=allevents_list\n"
     ]
    },
    {
     "name": "stderr",
     "output_type": "stream",
     "text": [
      "Scraping Events:  50%|████████████            | 148/294 [17:41<17:28,  7.18s/it]"
     ]
    },
    {
     "name": "stdout",
     "output_type": "stream",
     "text": [
      "➡️  [149/294] Scraping: https://highape.com/bangalore/events/funky-friday-GVrNmKLxkM?utm_source=allevents_list\n"
     ]
    },
    {
     "name": "stderr",
     "output_type": "stream",
     "text": [
      "Scraping Events:  51%|████████████▏           | 149/294 [17:48<16:59,  7.03s/it]"
     ]
    },
    {
     "name": "stdout",
     "output_type": "stream",
     "text": [
      "➡️  [150/294] Scraping: https://highape.com/bangalore/events/hangover-friday-sky-loft-ogw3bKJNWd?utm_source=allevents_list\n"
     ]
    },
    {
     "name": "stderr",
     "output_type": "stream",
     "text": [
      "Scraping Events:  51%|████████████▏           | 150/294 [17:55<16:38,  6.94s/it]"
     ]
    },
    {
     "name": "stdout",
     "output_type": "stream",
     "text": [
      "➡️  [151/294] Scraping: https://highape.com/bangalore/events/sugar-bolly-town--JprY06EakG?utm_source=allevents_list\n"
     ]
    },
    {
     "name": "stderr",
     "output_type": "stream",
     "text": [
      "Scraping Events:  51%|████████████▎           | 151/294 [18:02<16:30,  6.93s/it]"
     ]
    },
    {
     "name": "stdout",
     "output_type": "stream",
     "text": [
      "➡️  [152/294] Scraping: https://highape.com/bangalore/events/filmy-friday-ottoman--RVWK8KQjwM?utm_source=allevents_list\n"
     ]
    },
    {
     "name": "stderr",
     "output_type": "stream",
     "text": [
      "Scraping Events:  52%|████████████▍           | 152/294 [18:09<16:23,  6.93s/it]"
     ]
    },
    {
     "name": "stdout",
     "output_type": "stream",
     "text": [
      "➡️  [153/294] Scraping: https://highape.com/bangalore/events/friday-diva-night-at-rooftop-O0r8LKRErQ?utm_source=allevents_list\n"
     ]
    },
    {
     "name": "stderr",
     "output_type": "stream",
     "text": [
      "Scraping Events:  52%|████████████▍           | 153/294 [18:16<16:20,  6.95s/it]"
     ]
    },
    {
     "name": "stdout",
     "output_type": "stream",
     "text": [
      "➡️  [154/294] Scraping: https://highape.com/bangalore/events/rapper-gold-rush-brews-2arD8KY2rd?utm_source=allevents_list\n"
     ]
    },
    {
     "name": "stderr",
     "output_type": "stream",
     "text": [
      "Scraping Events:  52%|████████████▌           | 154/294 [18:23<16:09,  6.92s/it]"
     ]
    },
    {
     "name": "stdout",
     "output_type": "stream",
     "text": [
      "➡️  [155/294] Scraping: https://highape.com/bangalore/events/bollywood-night--ft-dj-sam-a7kjylAlwY?utm_source=allevents_list\n"
     ]
    },
    {
     "name": "stderr",
     "output_type": "stream",
     "text": [
      "Scraping Events:  53%|████████████▋           | 155/294 [18:33<18:31,  8.00s/it]"
     ]
    },
    {
     "name": "stdout",
     "output_type": "stream",
     "text": [
      "➡️  [156/294] Scraping: https://highape.com/bangalore/events/friday-switch--ZdwMdpNyWb?utm_source=allevents_list\n"
     ]
    },
    {
     "name": "stderr",
     "output_type": "stream",
     "text": [
      "Scraping Events:  53%|████████████▋           | 156/294 [18:40<17:39,  7.67s/it]"
     ]
    },
    {
     "name": "stdout",
     "output_type": "stream",
     "text": [
      "➡️  [157/294] Scraping: https://highape.com/bangalore/events/bye-bae-its-fri-yay-3BwzL62yrz?utm_source=allevents_list\n"
     ]
    },
    {
     "name": "stderr",
     "output_type": "stream",
     "text": [
      "Scraping Events:  53%|████████████▊           | 157/294 [18:47<16:57,  7.43s/it]"
     ]
    },
    {
     "name": "stdout",
     "output_type": "stream",
     "text": [
      "➡️  [158/294] Scraping: https://highape.com/bangalore/events/friday-fiesta-OprnLAYjwz?utm_source=allevents_list\n"
     ]
    },
    {
     "name": "stderr",
     "output_type": "stream",
     "text": [
      "Scraping Events:  54%|████████████▉           | 158/294 [18:54<16:27,  7.26s/it]"
     ]
    },
    {
     "name": "stdout",
     "output_type": "stream",
     "text": [
      "➡️  [159/294] Scraping: https://highape.com/bangalore/events/every-friday-bollywood-night-ft-resident-dj-P5Wo1z8qk8?utm_source=allevents_list\n"
     ]
    },
    {
     "name": "stderr",
     "output_type": "stream",
     "text": [
      "Scraping Events:  54%|████████████▉           | 159/294 [19:02<16:59,  7.55s/it]"
     ]
    },
    {
     "name": "stdout",
     "output_type": "stream",
     "text": [
      "➡️  [160/294] Scraping: https://highape.com/bangalore/events/fryydaze--xoox-brewmill-QXw9pK1dWJ?utm_source=allevents_list\n"
     ]
    },
    {
     "name": "stderr",
     "output_type": "stream",
     "text": [
      "Scraping Events:  54%|█████████████           | 160/294 [19:09<16:25,  7.36s/it]"
     ]
    },
    {
     "name": "stdout",
     "output_type": "stream",
     "text": [
      "➡️  [161/294] Scraping: https://highape.com/bangalore/events/live-karoke-night-djrvbBZnrY?utm_source=allevents_list\n"
     ]
    },
    {
     "name": "stderr",
     "output_type": "stream",
     "text": [
      "Scraping Events:  55%|█████████████▏          | 161/294 [19:16<16:01,  7.23s/it]"
     ]
    },
    {
     "name": "stdout",
     "output_type": "stream",
     "text": [
      "➡️  [162/294] Scraping: https://highape.com/bangalore/events/groovy-fridays-x-dj-zerixton-Z2kE0K8ZwL?utm_source=allevents_list\n"
     ]
    },
    {
     "name": "stderr",
     "output_type": "stream",
     "text": [
      "Scraping Events:  55%|█████████████▏          | 162/294 [19:23<15:49,  7.19s/it]"
     ]
    },
    {
     "name": "stdout",
     "output_type": "stream",
     "text": [
      "➡️  [163/294] Scraping: https://highape.com/bangalore/events/friday-lets-party-at-hungry-hippie-koramangala-OprnLA2jwz?utm_source=allevents_list\n"
     ]
    },
    {
     "name": "stderr",
     "output_type": "stream",
     "text": [
      "Scraping Events:  55%|█████████████▎          | 163/294 [19:30<15:34,  7.14s/it]"
     ]
    },
    {
     "name": "stdout",
     "output_type": "stream",
     "text": [
      "➡️  [164/294] Scraping: https://highape.com/bangalore/events/xl-fridays--hangover-koramangala-92r63K5eWp?utm_source=allevents_list\n"
     ]
    },
    {
     "name": "stderr",
     "output_type": "stream",
     "text": [
      "Scraping Events:  56%|█████████████▍          | 164/294 [19:37<15:17,  7.06s/it]"
     ]
    },
    {
     "name": "stdout",
     "output_type": "stream",
     "text": [
      "➡️  [165/294] Scraping: https://highape.com/bangalore/events/match-me-please-5ewaeRxjwE?utm_source=allevents_list\n"
     ]
    },
    {
     "name": "stderr",
     "output_type": "stream",
     "text": [
      "Future exception was never retrieved\n",
      "future: <Future finished exception=NetworkError('Protocol error (Target.detachFromTarget): No session with given id')>\n",
      "pyppeteer.errors.NetworkError: Protocol error (Target.detachFromTarget): No session with given id\n",
      "Scraping Events:  56%|█████████████▍          | 165/294 [19:44<15:02,  7.00s/it]"
     ]
    },
    {
     "name": "stdout",
     "output_type": "stream",
     "text": [
      "➡️  [166/294] Scraping: https://highape.com/bangalore/events/speed-friending-ZdwMdg1KWb?utm_source=allevents_list\n"
     ]
    },
    {
     "name": "stderr",
     "output_type": "stream",
     "text": [
      "Scraping Events:  56%|█████████████▌          | 166/294 [19:50<14:44,  6.91s/it]"
     ]
    },
    {
     "name": "stdout",
     "output_type": "stream",
     "text": [
      "➡️  [167/294] Scraping: https://highape.com/bangalore/events/guy-mantzur-live-at-zozo-z7rqyZ3Mre?utm_source=allevents_list\n"
     ]
    },
    {
     "name": "stderr",
     "output_type": "stream",
     "text": [
      "Scraping Events:  57%|█████████████▋          | 167/294 [19:57<14:37,  6.91s/it]"
     ]
    },
    {
     "name": "stdout",
     "output_type": "stream",
     "text": [
      "➡️  [168/294] Scraping: https://highape.com/bangalore/events/dance-like-a-bollywood-star-4qr4ea3nWy?utm_source=allevents_list\n"
     ]
    },
    {
     "name": "stderr",
     "output_type": "stream",
     "text": [
      "Scraping Events:  57%|█████████████▋          | 168/294 [20:04<14:29,  6.90s/it]"
     ]
    },
    {
     "name": "stdout",
     "output_type": "stream",
     "text": [
      "➡️  [169/294] Scraping: https://highape.com/bangalore/events/dance-like-a-bollywood-star-zOkLv2AOWp?utm_source=allevents_list\n"
     ]
    },
    {
     "name": "stderr",
     "output_type": "stream",
     "text": [
      "Scraping Events:  57%|█████████████▊          | 169/294 [20:11<14:30,  6.96s/it]"
     ]
    },
    {
     "name": "stdout",
     "output_type": "stream",
     "text": [
      "➡️  [170/294] Scraping: https://highape.com/bangalore/events/content-creators-meetup-a7kjyLqlwY?utm_source=allevents_list\n"
     ]
    },
    {
     "name": "stderr",
     "output_type": "stream",
     "text": [
      "Scraping Events:  58%|█████████████▉          | 170/294 [20:18<14:29,  7.01s/it]"
     ]
    },
    {
     "name": "stdout",
     "output_type": "stream",
     "text": [
      "➡️  [171/294] Scraping: https://highape.com/bangalore/events/saturday-rooftop-sundowners-YOkgbpbGw9?utm_source=allevents_list\n"
     ]
    },
    {
     "name": "stderr",
     "output_type": "stream",
     "text": [
      "Scraping Events:  58%|█████████████▉          | 171/294 [20:25<14:12,  6.93s/it]"
     ]
    },
    {
     "name": "stdout",
     "output_type": "stream",
     "text": [
      "➡️  [172/294] Scraping: https://highape.com/bangalore/events/sufiyaana-shaam-2arD8KQard?utm_source=allevents_list\n"
     ]
    },
    {
     "name": "stderr",
     "output_type": "stream",
     "text": [
      "Scraping Events:  59%|██████████████          | 172/294 [20:32<13:59,  6.88s/it]"
     ]
    },
    {
     "name": "stdout",
     "output_type": "stream",
     "text": [
      "➡️  [173/294] Scraping: https://highape.com/bangalore/events/retro-night-saturday-gold-rush-brews-Z2kE0XmEwL?utm_source=allevents_list\n"
     ]
    },
    {
     "name": "stderr",
     "output_type": "stream",
     "text": [
      "Scraping Events:  59%|██████████████          | 173/294 [20:39<13:55,  6.91s/it]"
     ]
    },
    {
     "name": "stdout",
     "output_type": "stream",
     "text": [
      "➡️  [174/294] Scraping: https://highape.com/bangalore/events/holly-bolly-saturday--z7rqypDxre?utm_source=allevents_list\n"
     ]
    },
    {
     "name": "stderr",
     "output_type": "stream",
     "text": [
      "Scraping Events:  59%|██████████████▏         | 174/294 [20:46<13:49,  6.91s/it]"
     ]
    },
    {
     "name": "stdout",
     "output_type": "stream",
     "text": [
      "➡️  [175/294] Scraping: https://highape.com/bangalore/events/ladies-night-6ew5p3jxWm?utm_source=allevents_list\n"
     ]
    },
    {
     "name": "stderr",
     "output_type": "stream",
     "text": [
      "Scraping Events:  60%|██████████████▎         | 175/294 [20:53<13:52,  6.99s/it]"
     ]
    },
    {
     "name": "stdout",
     "output_type": "stream",
     "text": [
      "➡️  [176/294] Scraping: https://highape.com/bangalore/events/saturday-bollywood-glow-party--mirror-club-koramangala-JprY06ebkG?utm_source=allevents_list\n"
     ]
    },
    {
     "name": "stderr",
     "output_type": "stream",
     "text": [
      "Scraping Events:  60%|██████████████▎         | 176/294 [20:59<13:26,  6.83s/it]"
     ]
    },
    {
     "name": "stdout",
     "output_type": "stream",
     "text": [
      "➡️  [177/294] Scraping: https://highape.com/bangalore/events/kannada-party-4QkbxdpxWB?utm_source=allevents_list\n"
     ]
    },
    {
     "name": "stderr",
     "output_type": "stream",
     "text": [
      "Scraping Events:  60%|██████████████▍         | 177/294 [21:06<13:16,  6.81s/it]"
     ]
    },
    {
     "name": "stdout",
     "output_type": "stream",
     "text": [
      "➡️  [178/294] Scraping: https://highape.com/bangalore/events/-circus-night-ft-dj-spidy--june-7-saturday--hod-club-QRkde55PrX?utm_source=allevents_list\n"
     ]
    },
    {
     "name": "stderr",
     "output_type": "stream",
     "text": [
      "Scraping Events:  61%|██████████████▌         | 178/294 [21:13<13:12,  6.83s/it]"
     ]
    },
    {
     "name": "stdout",
     "output_type": "stream",
     "text": [
      "➡️  [179/294] Scraping: https://highape.com/bangalore/events/centigrade-club-nights-ft-axl-stace--7thjunepangeo-6nkPOpOVwL?utm_source=allevents_list\n"
     ]
    },
    {
     "name": "stderr",
     "output_type": "stream",
     "text": [
      "Scraping Events:  61%|██████████████▌         | 179/294 [21:21<13:27,  7.02s/it]"
     ]
    },
    {
     "name": "stdout",
     "output_type": "stream",
     "text": [
      "➡️  [180/294] Scraping: https://highape.com/bangalore/events/saturday-glamour-bolly-night-at-dishkeyaun-y0kG3b3Qkj?utm_source=allevents_list\n"
     ]
    },
    {
     "name": "stderr",
     "output_type": "stream",
     "text": [
      "Scraping Events:  61%|██████████████▋         | 180/294 [21:27<13:17,  7.00s/it]"
     ]
    },
    {
     "name": "stdout",
     "output_type": "stream",
     "text": [
      "➡️  [181/294] Scraping: https://highape.com/bangalore/events/elegance-saturday--the-fixx-n9rRzGz1rl?utm_source=allevents_list\n"
     ]
    },
    {
     "name": "stderr",
     "output_type": "stream",
     "text": [
      "Scraping Events:  62%|██████████████▊         | 181/294 [21:35<13:18,  7.07s/it]"
     ]
    },
    {
     "name": "stdout",
     "output_type": "stream",
     "text": [
      "➡️  [182/294] Scraping: https://highape.com/bangalore/events/fire-up-your-saturday-night-with-devjeet-atbiergarten-whitefield-BVWeOpOVk9?utm_source=allevents_list\n"
     ]
    },
    {
     "name": "stderr",
     "output_type": "stream",
     "text": [
      "Scraping Events:  62%|██████████████▊         | 182/294 [21:41<13:02,  6.98s/it]"
     ]
    },
    {
     "name": "stdout",
     "output_type": "stream",
     "text": [
      "➡️  [183/294] Scraping: https://highape.com/bangalore/events/saturday-vip-international-party-4qr4eKJ3Wy?utm_source=allevents_list\n"
     ]
    },
    {
     "name": "stderr",
     "output_type": "stream",
     "text": [
      "Scraping Events:  62%|██████████████▉         | 183/294 [21:48<12:45,  6.90s/it]"
     ]
    },
    {
     "name": "stdout",
     "output_type": "stream",
     "text": [
      "➡️  [184/294] Scraping: https://highape.com/bangalore/events/kling-vich-jashn-1Xr04N4YrM?utm_source=allevents_list\n"
     ]
    },
    {
     "name": "stderr",
     "output_type": "stream",
     "text": [
      "Scraping Events:  63%|███████████████         | 184/294 [21:55<12:40,  6.91s/it]"
     ]
    },
    {
     "name": "stdout",
     "output_type": "stream",
     "text": [
      "➡️  [185/294] Scraping: https://highape.com/bangalore/events/bombay-talkies-feat-dj-arvind-singh-geWpnoM1kZ?utm_source=allevents_list\n"
     ]
    },
    {
     "name": "stderr",
     "output_type": "stream",
     "text": [
      "Scraping Events:  63%|███████████████         | 185/294 [22:02<12:42,  7.00s/it]"
     ]
    },
    {
     "name": "stdout",
     "output_type": "stream",
     "text": [
      "➡️  [186/294] Scraping: https://highape.com/bangalore/events/sizzling-saturdays-ft-ricob-ogw3bK00Wd?utm_source=allevents_list\n"
     ]
    },
    {
     "name": "stderr",
     "output_type": "stream",
     "text": [
      "Scraping Events:  63%|███████████████▏        | 186/294 [22:09<12:36,  7.00s/it]"
     ]
    },
    {
     "name": "stdout",
     "output_type": "stream",
     "text": [
      "➡️  [187/294] Scraping: https://highape.com/bangalore/events/satuday-night-at-circuit-7-2arD8x1vrd?utm_source=allevents_list\n"
     ]
    },
    {
     "name": "stderr",
     "output_type": "stream",
     "text": [
      "Scraping Events:  64%|███████████████▎        | 187/294 [22:16<12:20,  6.92s/it]"
     ]
    },
    {
     "name": "stdout",
     "output_type": "stream",
     "text": [
      "➡️  [188/294] Scraping: https://highape.com/bangalore/events/enter-the-wild--hangover-indiranagar-4qr4eBp3Wy?utm_source=allevents_list\n"
     ]
    },
    {
     "name": "stderr",
     "output_type": "stream",
     "text": [
      "Scraping Events:  64%|███████████████▎        | 188/294 [22:23<12:07,  6.87s/it]"
     ]
    },
    {
     "name": "stdout",
     "output_type": "stream",
     "text": [
      "➡️  [189/294] Scraping: https://highape.com/bangalore/events/rage-this-saturday-zPrJ6gp8rl?utm_source=allevents_list\n"
     ]
    },
    {
     "name": "stderr",
     "output_type": "stream",
     "text": [
      "Scraping Events:  64%|███████████████▍        | 189/294 [22:30<11:58,  6.84s/it]"
     ]
    },
    {
     "name": "stdout",
     "output_type": "stream",
     "text": [
      "➡️  [190/294] Scraping: https://highape.com/bangalore/events/saturday-glow-party--skydeck-mg-road-3BwzLeL8rz?utm_source=allevents_list\n"
     ]
    },
    {
     "name": "stderr",
     "output_type": "stream",
     "text": [
      "Scraping Events:  65%|███████████████▌        | 190/294 [22:38<12:25,  7.17s/it]"
     ]
    },
    {
     "name": "stdout",
     "output_type": "stream",
     "text": [
      "➡️  [191/294] Scraping: https://highape.com/bangalore/events/presha-saturday-edition-zOkLvnD4Wp?utm_source=allevents_list\n"
     ]
    },
    {
     "name": "stderr",
     "output_type": "stream",
     "text": [
      "Scraping Events:  65%|███████████████▌        | 191/294 [22:44<12:05,  7.04s/it]"
     ]
    },
    {
     "name": "stdout",
     "output_type": "stream",
     "text": [
      "➡️  [192/294] Scraping: https://highape.com/bangalore/events/saturday-mashup-night-MXrA8d6nkG?utm_source=allevents_list\n"
     ]
    },
    {
     "name": "stderr",
     "output_type": "stream",
     "text": [
      "Scraping Events:  65%|███████████████▋        | 192/294 [22:51<11:54,  7.01s/it]"
     ]
    },
    {
     "name": "stdout",
     "output_type": "stream",
     "text": [
      "➡️  [193/294] Scraping: https://highape.com/bangalore/events/blurry-saturday--P5Wo1p4pk8?utm_source=allevents_list\n"
     ]
    },
    {
     "name": "stderr",
     "output_type": "stream",
     "text": [
      "Scraping Events:  66%|███████████████▊        | 193/294 [22:58<11:39,  6.93s/it]"
     ]
    },
    {
     "name": "stdout",
     "output_type": "stream",
     "text": [
      "➡️  [194/294] Scraping: https://highape.com/bangalore/events/every-saturday-punjabi-vs-edm-night-ft-resident-dj-y0kG3b1Qkj?utm_source=allevents_list\n"
     ]
    },
    {
     "name": "stderr",
     "output_type": "stream",
     "text": [
      "Scraping Events:  66%|███████████████▊        | 194/294 [23:05<11:31,  6.92s/it]"
     ]
    },
    {
     "name": "stdout",
     "output_type": "stream",
     "text": [
      "➡️  [195/294] Scraping: https://highape.com/bangalore/events/saturday-disco-glow-party--loft-38-indiranagar-OprnLpL6wz?utm_source=allevents_list\n"
     ]
    },
    {
     "name": "stderr",
     "output_type": "stream",
     "text": [
      "Scraping Events:  66%|███████████████▉        | 195/294 [23:12<11:21,  6.88s/it]"
     ]
    },
    {
     "name": "stdout",
     "output_type": "stream",
     "text": [
      "➡️  [196/294] Scraping: https://highape.com/bangalore/events/sonic-saturday-indiranagar-zPrJ6g68rl?utm_source=allevents_list\n"
     ]
    },
    {
     "name": "stderr",
     "output_type": "stream",
     "text": [
      "Scraping Events:  67%|████████████████        | 196/294 [23:18<11:11,  6.85s/it]"
     ]
    },
    {
     "name": "stdout",
     "output_type": "stream",
     "text": [
      "➡️  [197/294] Scraping: https://highape.com/bangalore/events/bollywood-night--YOkgbp3Gw9?utm_source=allevents_list\n"
     ]
    },
    {
     "name": "stderr",
     "output_type": "stream",
     "text": [
      "Scraping Events:  67%|████████████████        | 197/294 [23:25<11:01,  6.82s/it]"
     ]
    },
    {
     "name": "stdout",
     "output_type": "stream",
     "text": [
      "➡️  [198/294] Scraping: https://highape.com/bangalore/events/bollywood-punjabi-commercial-night-GVrNmzV6kM?utm_source=allevents_list\n"
     ]
    },
    {
     "name": "stderr",
     "output_type": "stream",
     "text": [
      "Scraping Events:  67%|████████████████▏       | 198/294 [23:33<11:32,  7.21s/it]"
     ]
    },
    {
     "name": "stdout",
     "output_type": "stream",
     "text": [
      "➡️  [199/294] Scraping: https://highape.com/bangalore/events/super-saturday-RVWK8MVdwM?utm_source=allevents_list\n"
     ]
    },
    {
     "name": "stderr",
     "output_type": "stream",
     "text": [
      "Scraping Events:  68%|████████████████▏       | 199/294 [23:40<11:14,  7.10s/it]"
     ]
    },
    {
     "name": "stdout",
     "output_type": "stream",
     "text": [
      "➡️  [200/294] Scraping: https://highape.com/bangalore/events/superclub-saturday--MXrA8d8nkG?utm_source=allevents_list\n"
     ]
    },
    {
     "name": "stderr",
     "output_type": "stream",
     "text": [
      "Scraping Events:  68%|████████████████▎       | 200/294 [23:47<11:00,  7.03s/it]"
     ]
    },
    {
     "name": "stdout",
     "output_type": "stream",
     "text": [
      "➡️  [201/294] Scraping: https://highape.com/bangalore/events/saturday-biggest-bollywood-night-party-at-hango-92r63e36Wp?utm_source=allevents_list\n"
     ]
    },
    {
     "name": "stderr",
     "output_type": "stream",
     "text": [
      "Scraping Events:  68%|████████████████▍       | 201/294 [23:54<10:52,  7.02s/it]"
     ]
    },
    {
     "name": "stdout",
     "output_type": "stream",
     "text": [
      "➡️  [202/294] Scraping: https://highape.com/bangalore/events/saturday-biggest-bollywood-ladies-night-djrvb4bPrY?utm_source=allevents_list\n"
     ]
    },
    {
     "name": "stderr",
     "output_type": "stream",
     "text": [
      "Scraping Events:  69%|████████████████▍       | 202/294 [24:01<10:40,  6.97s/it]"
     ]
    },
    {
     "name": "stdout",
     "output_type": "stream",
     "text": [
      "➡️  [203/294] Scraping: https://highape.com/bangalore/events/saturday-sparkles-Q7wV8pvVrM?utm_source=allevents_list\n"
     ]
    },
    {
     "name": "stderr",
     "output_type": "stream",
     "text": [
      "Scraping Events:  69%|████████████████▌       | 203/294 [24:08<10:32,  6.96s/it]"
     ]
    },
    {
     "name": "stdout",
     "output_type": "stream",
     "text": [
      "➡️  [204/294] Scraping: https://highape.com/bangalore/events/swag-saturday-JprY0pg2kG?utm_source=allevents_list\n"
     ]
    },
    {
     "name": "stderr",
     "output_type": "stream",
     "text": [
      "Scraping Events:  69%|████████████████▋       | 204/294 [24:15<10:24,  6.93s/it]"
     ]
    },
    {
     "name": "stdout",
     "output_type": "stream",
     "text": [
      "➡️  [205/294] Scraping: https://highape.com/bangalore/events/sensational-saturday-YpkZmpg6wl?utm_source=allevents_list\n"
     ]
    },
    {
     "name": "stderr",
     "output_type": "stream",
     "text": [
      "Scraping Events:  70%|████████████████▋       | 205/294 [24:21<10:12,  6.88s/it]"
     ]
    },
    {
     "name": "stdout",
     "output_type": "stream",
     "text": [
      "➡️  [206/294] Scraping: https://highape.com/bangalore/events/bollywood-blockbuster-night-at-nolimmits-lounge-RVWK8M8dwM?utm_source=allevents_list\n"
     ]
    },
    {
     "name": "stderr",
     "output_type": "stream",
     "text": [
      "Scraping Events:  70%|████████████████▊       | 206/294 [24:30<10:50,  7.39s/it]"
     ]
    },
    {
     "name": "stdout",
     "output_type": "stream",
     "text": [
      "➡️  [207/294] Scraping: https://highape.com/bangalore/events/mirror-saturday-ZdwMdAdeWb?utm_source=allevents_list\n"
     ]
    },
    {
     "name": "stderr",
     "output_type": "stream",
     "text": [
      "Scraping Events:  70%|████████████████▉       | 207/294 [24:37<10:26,  7.20s/it]"
     ]
    },
    {
     "name": "stdout",
     "output_type": "stream",
     "text": [
      "➡️  [208/294] Scraping: https://highape.com/bangalore/events/saturday-blockbuster-night--hangover-6ew5p3pxWm?utm_source=allevents_list\n"
     ]
    },
    {
     "name": "stderr",
     "output_type": "stream",
     "text": [
      "Scraping Events:  71%|████████████████▉       | 208/294 [24:45<10:41,  7.46s/it]"
     ]
    },
    {
     "name": "stdout",
     "output_type": "stream",
     "text": [
      "➡️  [209/294] Scraping: https://highape.com/bangalore/events/the-saturday-sizzle-aVWQXpGJrO?utm_source=allevents_list\n"
     ]
    },
    {
     "name": "stderr",
     "output_type": "stream",
     "text": [
      "Scraping Events:  71%|█████████████████       | 209/294 [24:52<10:22,  7.32s/it]"
     ]
    },
    {
     "name": "stdout",
     "output_type": "stream",
     "text": [
      "➡️  [210/294] Scraping: https://highape.com/bangalore/events/rage-this-saturday-yMr7Vjyqk9?utm_source=allevents_list\n"
     ]
    },
    {
     "name": "stderr",
     "output_type": "stream",
     "text": [
      "Scraping Events:  71%|█████████████████▏      | 210/294 [24:59<10:06,  7.22s/it]"
     ]
    },
    {
     "name": "stdout",
     "output_type": "stream",
     "text": [
      "➡️  [211/294] Scraping: https://highape.com/bangalore/events/saturday-night-uptown-square-K7rOP9YQWl?utm_source=allevents_list\n"
     ]
    },
    {
     "name": "stderr",
     "output_type": "stream",
     "text": [
      "Scraping Events:  72%|█████████████████▏      | 211/294 [25:06<09:51,  7.13s/it]"
     ]
    },
    {
     "name": "stdout",
     "output_type": "stream",
     "text": [
      "➡️  [212/294] Scraping: https://highape.com/bangalore/events/bollywood-night-sky-loft-a3rBqVO9kq?utm_source=allevents_list\n"
     ]
    },
    {
     "name": "stderr",
     "output_type": "stream",
     "text": [
      "Scraping Events:  72%|█████████████████▎      | 212/294 [25:13<09:39,  7.07s/it]"
     ]
    },
    {
     "name": "stdout",
     "output_type": "stream",
     "text": [
      "➡️  [213/294] Scraping: https://highape.com/bangalore/events/addas-soiree-N5k2LKEPWd?utm_source=allevents_list\n"
     ]
    },
    {
     "name": "stderr",
     "output_type": "stream",
     "text": [
      "Scraping Events:  72%|█████████████████▍      | 213/294 [25:20<09:29,  7.03s/it]"
     ]
    },
    {
     "name": "stdout",
     "output_type": "stream",
     "text": [
      "➡️  [214/294] Scraping: https://highape.com/bangalore/events/sufiyana-shaam-ft-a-square-project--P5Wo1p1pk8?utm_source=allevents_list\n"
     ]
    },
    {
     "name": "stderr",
     "output_type": "stream",
     "text": [
      "Scraping Events:  73%|█████████████████▍      | 214/294 [25:26<09:15,  6.94s/it]"
     ]
    },
    {
     "name": "stdout",
     "output_type": "stream",
     "text": [
      "➡️  [215/294] Scraping: https://highape.com/bangalore/events/saturday-night-vapour-O0r8L6LzrQ?utm_source=allevents_list\n"
     ]
    },
    {
     "name": "stderr",
     "output_type": "stream",
     "text": [
      "Scraping Events:  73%|█████████████████▌      | 215/294 [25:33<09:12,  6.99s/it]"
     ]
    },
    {
     "name": "stdout",
     "output_type": "stream",
     "text": [
      "➡️  [216/294] Scraping: https://highape.com/bangalore/events/bolly-heist-badmaash-lulu-mall-BVwx4B4RwK?utm_source=allevents_list\n"
     ]
    },
    {
     "name": "stderr",
     "output_type": "stream",
     "text": [
      "Scraping Events:  73%|█████████████████▋      | 216/294 [25:41<09:23,  7.22s/it]"
     ]
    },
    {
     "name": "stdout",
     "output_type": "stream",
     "text": [
      "➡️  [217/294] Scraping: https://highape.com/bangalore/events/saturday-bollywood-night-gillys-redefined-P9kXOpODwz?utm_source=allevents_list\n"
     ]
    },
    {
     "name": "stderr",
     "output_type": "stream",
     "text": [
      "Scraping Events:  74%|█████████████████▋      | 217/294 [25:49<09:36,  7.48s/it]"
     ]
    },
    {
     "name": "stdout",
     "output_type": "stream",
     "text": [
      "➡️  [218/294] Scraping: https://highape.com/bangalore/events/soundwave-saturday-OprnLpg6wz?utm_source=allevents_list\n"
     ]
    },
    {
     "name": "stderr",
     "output_type": "stream",
     "text": [
      "Scraping Events:  74%|█████████████████▊      | 218/294 [25:57<09:26,  7.46s/it]"
     ]
    },
    {
     "name": "stdout",
     "output_type": "stream",
     "text": [
      "➡️  [219/294] Scraping: https://highape.com/bangalore/events/saturday-royal-nights-4xrmymGorM?utm_source=allevents_list\n"
     ]
    },
    {
     "name": "stderr",
     "output_type": "stream",
     "text": [
      "Scraping Events:  74%|█████████████████▉      | 219/294 [26:03<09:05,  7.27s/it]"
     ]
    },
    {
     "name": "stdout",
     "output_type": "stream",
     "text": [
      "➡️  [220/294] Scraping: https://highape.com/bangalore/events/sonic-saturday-yMr7VjVqk9?utm_source=allevents_list\n"
     ]
    },
    {
     "name": "stderr",
     "output_type": "stream",
     "text": [
      "Scraping Events:  75%|█████████████████▉      | 220/294 [26:10<08:46,  7.12s/it]"
     ]
    },
    {
     "name": "stdout",
     "output_type": "stream",
     "text": [
      "➡️  [221/294] Scraping: https://highape.com/bangalore/events/no-striinggs-attached-jLkl6p6oWD?utm_source=allevents_list\n"
     ]
    },
    {
     "name": "stderr",
     "output_type": "stream",
     "text": [
      "Scraping Events:  75%|██████████████████      | 221/294 [26:17<08:40,  7.12s/it]"
     ]
    },
    {
     "name": "stdout",
     "output_type": "stream",
     "text": [
      "➡️  [222/294] Scraping: https://highape.com/bangalore/events/saturday-mirchi-night--N5k2L4xPWd?utm_source=allevents_list\n"
     ]
    },
    {
     "name": "stderr",
     "output_type": "stream",
     "text": [
      "Scraping Events:  76%|██████████████████      | 222/294 [26:25<08:36,  7.17s/it]"
     ]
    },
    {
     "name": "stdout",
     "output_type": "stream",
     "text": [
      "➡️  [223/294] Scraping: https://highape.com/bangalore/events/commercial-fiesta-av-night-QqW1JLJ3wl?utm_source=allevents_list\n"
     ]
    },
    {
     "name": "stderr",
     "output_type": "stream",
     "text": [
      "Scraping Events:  76%|██████████████████▏     | 223/294 [26:31<08:21,  7.06s/it]"
     ]
    },
    {
     "name": "stdout",
     "output_type": "stream",
     "text": [
      "➡️  [224/294] Scraping: https://highape.com/bangalore/events/saturday-club-night-4xrmymyorM?utm_source=allevents_list\n"
     ]
    },
    {
     "name": "stderr",
     "output_type": "stream",
     "text": [
      "Scraping Events:  76%|██████████████████▎     | 224/294 [26:38<08:09,  6.99s/it]"
     ]
    },
    {
     "name": "stdout",
     "output_type": "stream",
     "text": [
      "➡️  [225/294] Scraping: https://highape.com/bangalore/events/suzy-sunday-ladies-night-O0r8L6BzrQ?utm_source=allevents_list\n"
     ]
    },
    {
     "name": "stderr",
     "output_type": "stream",
     "text": [
      "Scraping Events:  77%|██████████████████▎     | 225/294 [26:46<08:07,  7.06s/it]"
     ]
    },
    {
     "name": "stdout",
     "output_type": "stream",
     "text": [
      "➡️  [226/294] Scraping: https://highape.com/bangalore/events/saturday-night-live-x-escape-5ewaepegwE?utm_source=allevents_list\n"
     ]
    },
    {
     "name": "stderr",
     "output_type": "stream",
     "text": [
      "Scraping Events:  77%|██████████████████▍     | 226/294 [26:52<07:54,  6.98s/it]"
     ]
    },
    {
     "name": "stdout",
     "output_type": "stream",
     "text": [
      "➡️  [227/294] Scraping: https://highape.com/bangalore/events/bollytech-festival-at-hungry-hippie-JprY0p02kG?utm_source=allevents_list\n"
     ]
    },
    {
     "name": "stderr",
     "output_type": "stream",
     "text": [
      "Scraping Events:  77%|██████████████████▌     | 227/294 [26:59<07:43,  6.92s/it]"
     ]
    },
    {
     "name": "stdout",
     "output_type": "stream",
     "text": [
      "➡️  [228/294] Scraping: https://highape.com/bangalore/events/saturday-bollywood-night--djrvb41PrY?utm_source=allevents_list\n"
     ]
    },
    {
     "name": "stderr",
     "output_type": "stream",
     "text": [
      "Scraping Events:  78%|██████████████████▌     | 228/294 [27:06<07:38,  6.94s/it]"
     ]
    },
    {
     "name": "stdout",
     "output_type": "stream",
     "text": [
      "➡️  [229/294] Scraping: https://highape.com/bangalore/events/saturday-bollywood-night-3BwzLen8rz?utm_source=allevents_list\n"
     ]
    },
    {
     "name": "stderr",
     "output_type": "stream",
     "text": [
      "Scraping Events:  78%|██████████████████▋     | 229/294 [27:13<07:27,  6.88s/it]"
     ]
    },
    {
     "name": "stdout",
     "output_type": "stream",
     "text": [
      "➡️  [230/294] Scraping: https://highape.com/bangalore/events/saturday-night-ft-dj-maddy-5ewaepAgwE?utm_source=allevents_list\n"
     ]
    },
    {
     "name": "stderr",
     "output_type": "stream",
     "text": [
      "Scraping Events:  78%|██████████████████▊     | 230/294 [27:20<07:22,  6.91s/it]"
     ]
    },
    {
     "name": "stdout",
     "output_type": "stream",
     "text": [
      "➡️  [231/294] Scraping: https://highape.com/bangalore/events/sensational-saturday--bollywood-night-ft-dj-ashwin-bhatia-n7ryK3MEw4?utm_source=allevents_list\n"
     ]
    },
    {
     "name": "stderr",
     "output_type": "stream",
     "text": [
      "Scraping Events:  79%|██████████████████▊     | 231/294 [27:27<07:17,  6.94s/it]"
     ]
    },
    {
     "name": "stdout",
     "output_type": "stream",
     "text": [
      "➡️  [232/294] Scraping: https://highape.com/bangalore/events/spill-out-talk-over-coffee-meet-only-for-females-a7kjyp6ywY?utm_source=allevents_list\n"
     ]
    },
    {
     "name": "stderr",
     "output_type": "stream",
     "text": [
      "Scraping Events:  79%|██████████████████▉     | 232/294 [27:34<07:08,  6.91s/it]"
     ]
    },
    {
     "name": "stdout",
     "output_type": "stream",
     "text": [
      "➡️  [233/294] Scraping: https://highape.com/bangalore/events/hitech-world-banglore-edition-YpkZmq2Lwl?utm_source=allevents_list\n"
     ]
    },
    {
     "name": "stderr",
     "output_type": "stream",
     "text": [
      "Scraping Events:  79%|███████████████████     | 233/294 [27:41<07:10,  7.06s/it]"
     ]
    },
    {
     "name": "stdout",
     "output_type": "stream",
     "text": [
      "➡️  [234/294] Scraping: https://highape.com/bangalore/events/sound-of-magique-ft-ajna-3BwzLeRXrz?utm_source=allevents_list\n"
     ]
    },
    {
     "name": "stderr",
     "output_type": "stream",
     "text": [
      "Scraping Events:  80%|███████████████████     | 234/294 [27:48<06:59,  7.00s/it]"
     ]
    },
    {
     "name": "stdout",
     "output_type": "stream",
     "text": [
      "➡️  [235/294] Scraping: https://highape.com/bangalore/events/paint-with-puppies-at-nomad-pizza-BVWeOx0Gk9?utm_source=allevents_list\n"
     ]
    },
    {
     "name": "stderr",
     "output_type": "stream",
     "text": [
      "Scraping Events:  80%|███████████████████▏    | 235/294 [27:55<06:49,  6.93s/it]"
     ]
    },
    {
     "name": "stdout",
     "output_type": "stream",
     "text": [
      "➡️  [236/294] Scraping: https://highape.com/bangalore/events/protocol-ft-mafaiza--8th-june--kitty-ko-4QkbxdXgWB?utm_source=allevents_list\n"
     ]
    },
    {
     "name": "stderr",
     "output_type": "stream",
     "text": [
      "Scraping Events:  80%|███████████████████▎    | 236/294 [28:02<06:45,  7.00s/it]"
     ]
    },
    {
     "name": "stdout",
     "output_type": "stream",
     "text": [
      "➡️  [237/294] Scraping: https://highape.com/bangalore/events/mystical-mingle-ft-dj-fikticious--june-8-sunday--hod-club-Q7wV833ZrM?utm_source=allevents_list\n"
     ]
    },
    {
     "name": "stderr",
     "output_type": "stream",
     "text": [
      "Scraping Events:  81%|███████████████████▎    | 237/294 [28:09<06:34,  6.93s/it]"
     ]
    },
    {
     "name": "stdout",
     "output_type": "stream",
     "text": [
      "➡️  [238/294] Scraping: https://highape.com/bangalore/events/acoustic-sunday-uptown-square-zPrJ6gD1rl?utm_source=allevents_list\n"
     ]
    },
    {
     "name": "stderr",
     "output_type": "stream",
     "text": [
      "Scraping Events:  81%|███████████████████▍    | 238/294 [28:16<06:28,  6.93s/it]"
     ]
    },
    {
     "name": "stdout",
     "output_type": "stream",
     "text": [
      "➡️  [239/294] Scraping: https://highape.com/bangalore/events/houseful-sunday-big-pitcher-sarjapur-92r63e66Wp?utm_source=allevents_list\n"
     ]
    },
    {
     "name": "stderr",
     "output_type": "stream",
     "text": [
      "Scraping Events:  81%|███████████████████▌    | 239/294 [28:22<06:21,  6.93s/it]"
     ]
    },
    {
     "name": "stdout",
     "output_type": "stream",
     "text": [
      "➡️  [240/294] Scraping: https://highape.com/bangalore/events/sunsets-BVWeOpLzk9?utm_source=allevents_list\n"
     ]
    },
    {
     "name": "stderr",
     "output_type": "stream",
     "text": [
      "Scraping Events:  82%|███████████████████▌    | 240/294 [28:29<06:13,  6.92s/it]"
     ]
    },
    {
     "name": "stdout",
     "output_type": "stream",
     "text": [
      "➡️  [241/294] Scraping: https://highape.com/bangalore/events/punjabi-nights-indiranagar-z7rqypBxre?utm_source=allevents_list\n"
     ]
    },
    {
     "name": "stderr",
     "output_type": "stream",
     "text": [
      "Scraping Events:  82%|███████████████████▋    | 241/294 [28:37<06:14,  7.07s/it]"
     ]
    },
    {
     "name": "stdout",
     "output_type": "stream",
     "text": [
      "➡️  [242/294] Scraping: https://highape.com/bangalore/events/hollywood-meets-bollywood-YpkZmpZ8wl?utm_source=allevents_list\n"
     ]
    },
    {
     "name": "stderr",
     "output_type": "stream",
     "text": [
      "Scraping Events:  82%|███████████████████▊    | 242/294 [28:44<06:03,  6.98s/it]"
     ]
    },
    {
     "name": "stdout",
     "output_type": "stream",
     "text": [
      "➡️  [243/294] Scraping: https://highape.com/bangalore/events/sundaze-ogw3b26XWd?utm_source=allevents_list\n"
     ]
    },
    {
     "name": "stderr",
     "output_type": "stream",
     "text": [
      "Scraping Events:  83%|███████████████████▊    | 243/294 [28:51<06:00,  7.06s/it]"
     ]
    },
    {
     "name": "stdout",
     "output_type": "stream",
     "text": [
      "➡️  [244/294] Scraping: https://highape.com/bangalore/events/rituals-sunday-BVWeOplzk9?utm_source=allevents_list\n"
     ]
    },
    {
     "name": "stderr",
     "output_type": "stream",
     "text": [
      "Scraping Events:  83%|███████████████████▉    | 244/294 [28:58<05:51,  7.04s/it]"
     ]
    },
    {
     "name": "stdout",
     "output_type": "stream",
     "text": [
      "➡️  [245/294] Scraping: https://highape.com/bangalore/events/sunday-hiphop-and-afro-night--QRkdepNorX?utm_source=allevents_list\n"
     ]
    },
    {
     "name": "stderr",
     "output_type": "stream",
     "text": [
      "Scraping Events:  83%|████████████████████    | 245/294 [29:05<05:40,  6.94s/it]"
     ]
    },
    {
     "name": "stdout",
     "output_type": "stream",
     "text": [
      "➡️  [246/294] Scraping: https://highape.com/bangalore/events/bollyflo-sundays-flo-6nkPOpvvwL?utm_source=allevents_list\n"
     ]
    },
    {
     "name": "stderr",
     "output_type": "stream",
     "text": [
      "Scraping Events:  84%|████████████████████    | 246/294 [29:11<05:32,  6.93s/it]"
     ]
    },
    {
     "name": "stdout",
     "output_type": "stream",
     "text": [
      "➡️  [247/294] Scraping: https://highape.com/bangalore/events/the-sunday-dance-beat-n7ryK3NVw4?utm_source=allevents_list\n"
     ]
    },
    {
     "name": "stderr",
     "output_type": "stream",
     "text": [
      "Scraping Events:  84%|████████████████████▏   | 247/294 [29:18<05:25,  6.93s/it]"
     ]
    },
    {
     "name": "stdout",
     "output_type": "stream",
     "text": [
      "➡️  [248/294] Scraping: https://highape.com/bangalore/events/only-jams-at-hungry-hippie-n9rRzGJyrl?utm_source=allevents_list\n"
     ]
    },
    {
     "name": "stderr",
     "output_type": "stream",
     "text": [
      "Scraping Events:  84%|████████████████████▏   | 248/294 [29:26<05:29,  7.16s/it]"
     ]
    },
    {
     "name": "stdout",
     "output_type": "stream",
     "text": [
      "➡️  [249/294] Scraping: https://highape.com/bangalore/events/sizzling-sundays-a7kjyp69wY?utm_source=allevents_list\n"
     ]
    },
    {
     "name": "stderr",
     "output_type": "stream",
     "text": [
      "Scraping Events:  85%|████████████████████▎   | 249/294 [29:33<05:16,  7.04s/it]"
     ]
    },
    {
     "name": "stdout",
     "output_type": "stream",
     "text": [
      "➡️  [250/294] Scraping: https://highape.com/bangalore/events/pre-republic-day-bash-party-gillys-104-ogw3b2pXWd?utm_source=allevents_list\n"
     ]
    },
    {
     "name": "stderr",
     "output_type": "stream",
     "text": [
      "Scraping Events:  85%|████████████████████▍   | 250/294 [29:40<05:05,  6.95s/it]"
     ]
    },
    {
     "name": "stdout",
     "output_type": "stream",
     "text": [
      "➡️  [251/294] Scraping: https://highape.com/bangalore/events/sunday-bollywood-music-jLkl6pPKWD?utm_source=allevents_list\n"
     ]
    },
    {
     "name": "stderr",
     "output_type": "stream",
     "text": [
      "Scraping Events:  85%|████████████████████▍   | 251/294 [29:46<04:58,  6.94s/it]"
     ]
    },
    {
     "name": "stdout",
     "output_type": "stream",
     "text": [
      "➡️  [252/294] Scraping: https://highape.com/bangalore/events/the-candy-affair-6ew5p3Q1Wm?utm_source=allevents_list\n"
     ]
    },
    {
     "name": "stderr",
     "output_type": "stream",
     "text": [
      "Scraping Events:  86%|████████████████████▌   | 252/294 [29:53<04:50,  6.92s/it]"
     ]
    },
    {
     "name": "stdout",
     "output_type": "stream",
     "text": [
      "➡️  [253/294] Scraping: https://highape.com/bangalore/events/sunday-beats-Z2kE0XMlwL?utm_source=allevents_list\n"
     ]
    },
    {
     "name": "stderr",
     "output_type": "stream",
     "text": [
      "Scraping Events:  86%|████████████████████▋   | 253/294 [30:00<04:45,  6.95s/it]"
     ]
    },
    {
     "name": "stdout",
     "output_type": "stream",
     "text": [
      "➡️  [254/294] Scraping: https://highape.com/bangalore/events/sunday-lets-party--hydra-koramangala-a3rBqVxbkq?utm_source=allevents_list\n"
     ]
    },
    {
     "name": "stderr",
     "output_type": "stream",
     "text": [
      "Scraping Events:  86%|████████████████████▋   | 254/294 [30:07<04:35,  6.89s/it]"
     ]
    },
    {
     "name": "stdout",
     "output_type": "stream",
     "text": [
      "➡️  [255/294] Scraping: https://highape.com/bangalore/events/sunday-live-ft-john-kennady-the-big-baadshaah-zOkLvn8OWp?utm_source=allevents_list\n"
     ]
    },
    {
     "name": "stderr",
     "output_type": "stream",
     "text": [
      "Scraping Events:  87%|████████████████████▊   | 255/294 [30:14<04:29,  6.91s/it]"
     ]
    },
    {
     "name": "stdout",
     "output_type": "stream",
     "text": [
      "➡️  [256/294] Scraping: https://highape.com/bangalore/events/bolly-x-hop-night-O0r8L6yqrQ?utm_source=allevents_list\n"
     ]
    },
    {
     "name": "stderr",
     "output_type": "stream",
     "text": [
      "Scraping Events:  87%|████████████████████▉   | 256/294 [30:21<04:22,  6.92s/it]"
     ]
    },
    {
     "name": "stdout",
     "output_type": "stream",
     "text": [
      "➡️  [257/294] Scraping: https://highape.com/bangalore/events/sunday-bollywood-bash--the-fixx-Q7wV8pxorM?utm_source=allevents_list\n"
     ]
    },
    {
     "name": "stderr",
     "output_type": "stream",
     "text": [
      "Scraping Events:  87%|████████████████████▉   | 257/294 [30:28<04:16,  6.95s/it]"
     ]
    },
    {
     "name": "stdout",
     "output_type": "stream",
     "text": [
      "➡️  [258/294] Scraping: https://highape.com/bangalore/events/shuffling-sunday-a3rBqVvbkq?utm_source=allevents_list\n"
     ]
    },
    {
     "name": "stderr",
     "output_type": "stream",
     "text": [
      "Scraping Events:  88%|█████████████████████   | 258/294 [30:35<04:10,  6.95s/it]"
     ]
    },
    {
     "name": "stdout",
     "output_type": "stream",
     "text": [
      "➡️  [259/294] Scraping: https://highape.com/bangalore/events/bollywood-party-at-hangover-xl-koramangala-sunday-OprnLpDpwz?utm_source=allevents_list\n"
     ]
    },
    {
     "name": "stderr",
     "output_type": "stream",
     "text": [
      "Scraping Events:  88%|█████████████████████▏  | 259/294 [30:42<04:01,  6.91s/it]"
     ]
    },
    {
     "name": "stdout",
     "output_type": "stream",
     "text": [
      "➡️  [260/294] Scraping: https://highape.com/bangalore/events/patiala-sundays-ft-dj-rohen-pune-K7rOP9OPWl?utm_source=allevents_list\n"
     ]
    },
    {
     "name": "stderr",
     "output_type": "stream",
     "text": [
      "Scraping Events:  88%|█████████████████████▏  | 260/294 [30:49<03:57,  6.98s/it]"
     ]
    },
    {
     "name": "stdout",
     "output_type": "stream",
     "text": [
      "➡️  [261/294] Scraping: https://highape.com/bangalore/events/sunday-spins-1Xr04NZGrM?utm_source=allevents_list\n"
     ]
    },
    {
     "name": "stderr",
     "output_type": "stream",
     "text": [
      "Scraping Events:  89%|█████████████████████▎  | 261/294 [30:56<03:49,  6.96s/it]"
     ]
    },
    {
     "name": "stdout",
     "output_type": "stream",
     "text": [
      "➡️  [262/294] Scraping: https://highape.com/bangalore/events/sunday-series-4QkbxpM6WB?utm_source=allevents_list\n"
     ]
    },
    {
     "name": "stderr",
     "output_type": "stream",
     "text": [
      "Scraping Events:  89%|█████████████████████▍  | 262/294 [31:03<03:41,  6.92s/it]"
     ]
    },
    {
     "name": "stdout",
     "output_type": "stream",
     "text": [
      "➡️  [263/294] Scraping: https://highape.com/bangalore/events/bbq-hangover-sunday-brunch-big-pitcher-sarjapur-4qr4eB2nWy?utm_source=allevents_list\n"
     ]
    },
    {
     "name": "stderr",
     "output_type": "stream",
     "text": [
      "Scraping Events:  89%|█████████████████████▍  | 263/294 [31:09<03:32,  6.85s/it]"
     ]
    },
    {
     "name": "stdout",
     "output_type": "stream",
     "text": [
      "➡️  [264/294] Scraping: https://highape.com/bangalore/events/hip-hop-sunday-night-gold-rush-brews-4xrmym9LrM?utm_source=allevents_list\n"
     ]
    },
    {
     "name": "stderr",
     "output_type": "stream",
     "text": [
      "Scraping Events:  90%|█████████████████████▌  | 264/294 [31:16<03:23,  6.80s/it]"
     ]
    },
    {
     "name": "stdout",
     "output_type": "stream",
     "text": [
      "➡️  [265/294] Scraping: https://highape.com/bangalore/events/the-big-bull-affair-jLkl6plKWD?utm_source=allevents_list\n"
     ]
    },
    {
     "name": "stderr",
     "output_type": "stream",
     "text": [
      "Scraping Events:  90%|█████████████████████▋  | 265/294 [31:23<03:16,  6.79s/it]"
     ]
    },
    {
     "name": "stdout",
     "output_type": "stream",
     "text": [
      "➡️  [266/294] Scraping: https://highape.com/bangalore/events/bolly-beats-eod-JprY0pX7kG?utm_source=allevents_list\n"
     ]
    },
    {
     "name": "stderr",
     "output_type": "stream",
     "text": [
      "Scraping Events:  90%|█████████████████████▋  | 266/294 [31:31<03:23,  7.25s/it]"
     ]
    },
    {
     "name": "stdout",
     "output_type": "stream",
     "text": [
      "➡️  [267/294] Scraping: https://highape.com/bangalore/events/sunday-sundowner-z7rqypBnre?utm_source=allevents_list\n"
     ]
    },
    {
     "name": "stderr",
     "output_type": "stream",
     "text": [
      "Scraping Events:  91%|█████████████████████▊  | 267/294 [31:38<03:15,  7.24s/it]"
     ]
    },
    {
     "name": "stdout",
     "output_type": "stream",
     "text": [
      "➡️  [268/294] Scraping: https://highape.com/bangalore/events/live-sunday-ft-ashwanth-vergis-ZdwMdAapWb?utm_source=allevents_list\n"
     ]
    },
    {
     "name": "stderr",
     "output_type": "stream",
     "text": [
      "Scraping Events:  91%|█████████████████████▉  | 268/294 [31:46<03:15,  7.50s/it]"
     ]
    },
    {
     "name": "stdout",
     "output_type": "stream",
     "text": [
      "➡️  [269/294] Scraping: https://highape.com/bangalore/events/sunday-night-vapour-zPrJ6gG1rl?utm_source=allevents_list\n"
     ]
    },
    {
     "name": "stderr",
     "output_type": "stream",
     "text": [
      "Scraping Events:  91%|█████████████████████▉  | 269/294 [31:53<03:01,  7.27s/it]"
     ]
    },
    {
     "name": "stdout",
     "output_type": "stream",
     "text": [
      "➡️  [270/294] Scraping: https://highape.com/bangalore/events/-storm-YOkgbpEQw9?utm_source=allevents_list\n"
     ]
    },
    {
     "name": "stderr",
     "output_type": "stream",
     "text": [
      "Scraping Events:  92%|██████████████████████  | 270/294 [32:00<02:50,  7.11s/it]"
     ]
    },
    {
     "name": "stdout",
     "output_type": "stream",
     "text": [
      "➡️  [271/294] Scraping: https://highape.com/bangalore/events/bollywood-love-saga-92r63eZnWp?utm_source=allevents_list\n"
     ]
    },
    {
     "name": "stderr",
     "output_type": "stream",
     "text": [
      "Future exception was never retrieved\n",
      "future: <Future finished exception=NetworkError('Protocol error (Target.detachFromTarget): No session with given id')>\n",
      "pyppeteer.errors.NetworkError: Protocol error (Target.detachFromTarget): No session with given id\n",
      "Scraping Events:  92%|██████████████████████  | 271/294 [32:07<02:42,  7.07s/it]"
     ]
    },
    {
     "name": "stdout",
     "output_type": "stream",
     "text": [
      "➡️  [272/294] Scraping: https://highape.com/bangalore/events/sunday-sundowner--sunset-saga--leela-bhartiya-city-geWpnodYkZ?utm_source=allevents_list\n"
     ]
    },
    {
     "name": "stderr",
     "output_type": "stream",
     "text": [
      "Scraping Events:  93%|██████████████████████▏ | 272/294 [32:16<02:50,  7.75s/it]"
     ]
    },
    {
     "name": "stdout",
     "output_type": "stream",
     "text": [
      "➡️  [273/294] Scraping: https://highape.com/bangalore/events/kannada-night-sky-loft-djrvb4MZrY?utm_source=allevents_list\n"
     ]
    },
    {
     "name": "stderr",
     "output_type": "stream",
     "text": [
      "Scraping Events:  93%|██████████████████████▎ | 273/294 [32:23<02:37,  7.50s/it]"
     ]
    },
    {
     "name": "stdout",
     "output_type": "stream",
     "text": [
      "➡️  [274/294] Scraping: https://highape.com/bangalore/events/sunday-bollywood-mantra--loft-38-z7rqypxnre?utm_source=allevents_list\n"
     ]
    },
    {
     "name": "stderr",
     "output_type": "stream",
     "text": [
      "Scraping Events:  93%|██████████████████████▎ | 274/294 [32:30<02:28,  7.43s/it]"
     ]
    },
    {
     "name": "stdout",
     "output_type": "stream",
     "text": [
      "➡️  [275/294] Scraping: https://highape.com/bangalore/events/starry-bollywood-sundays-BVWeOpLVk9?utm_source=allevents_list\n"
     ]
    },
    {
     "name": "stderr",
     "output_type": "stream",
     "text": [
      "Scraping Events:  94%|██████████████████████▍ | 275/294 [32:38<02:20,  7.42s/it]"
     ]
    },
    {
     "name": "stdout",
     "output_type": "stream",
     "text": [
      "➡️  [276/294] Scraping: https://highape.com/bangalore/events/hip-hop-sunday-gypsy-tower-1st-floor-y0kG3bM1kj?utm_source=allevents_list\n"
     ]
    },
    {
     "name": "stderr",
     "output_type": "stream",
     "text": [
      "Scraping Events:  94%|██████████████████████▌ | 276/294 [32:45<02:10,  7.27s/it]"
     ]
    },
    {
     "name": "stdout",
     "output_type": "stream",
     "text": [
      "➡️  [277/294] Scraping: https://highape.com/bangalore/events/holly-bolly-ladies-night-QRkdep1orX?utm_source=allevents_list\n"
     ]
    },
    {
     "name": "stderr",
     "output_type": "stream",
     "text": [
      "Scraping Events:  94%|██████████████████████▌ | 277/294 [32:52<02:01,  7.13s/it]"
     ]
    },
    {
     "name": "stdout",
     "output_type": "stream",
     "text": [
      "➡️  [278/294] Scraping: https://highape.com/bangalore/events/sunday-shenanigans-yMr7VjN3k9?utm_source=allevents_list\n"
     ]
    },
    {
     "name": "stderr",
     "output_type": "stream",
     "text": [
      "Scraping Events:  95%|██████████████████████▋ | 278/294 [32:59<01:53,  7.09s/it]"
     ]
    },
    {
     "name": "stdout",
     "output_type": "stream",
     "text": [
      "➡️  [279/294] Scraping: https://highape.com/bangalore/events/techno-rebirth-ft-dj-itra--june-11-wednesday--hod-z7rqyZJqre?utm_source=allevents_list\n"
     ]
    },
    {
     "name": "stderr",
     "output_type": "stream",
     "text": [
      "Scraping Events:  95%|██████████████████████▊ | 279/294 [33:05<01:44,  6.97s/it]"
     ]
    },
    {
     "name": "stdout",
     "output_type": "stream",
     "text": [
      "➡️  [280/294] Scraping: https://highape.com/bangalore/events/-ladies-night-ft-dj-rohit--june-12-thursday--hod-club--N5k2LKb3Wd?utm_source=allevents_list\n"
     ]
    },
    {
     "name": "stderr",
     "output_type": "stream",
     "text": [
      "Scraping Events:  95%|██████████████████████▊ | 280/294 [33:12<01:36,  6.88s/it]"
     ]
    },
    {
     "name": "stdout",
     "output_type": "stream",
     "text": [
      "➡️  [281/294] Scraping: https://highape.com/bangalore/events/-space-odyssey-ft-dj-capro--june-13-friday--hod-club--a3rBqKB8kq?utm_source=allevents_list\n"
     ]
    },
    {
     "name": "stderr",
     "output_type": "stream",
     "text": [
      "Scraping Events:  96%|██████████████████████▉ | 281/294 [33:19<01:29,  6.88s/it]"
     ]
    },
    {
     "name": "stdout",
     "output_type": "stream",
     "text": [
      "➡️  [282/294] Scraping: https://highape.com/bangalore/events/talamasca-live-in-bangalore-4qr4eKXGWy?utm_source=allevents_list\n"
     ]
    },
    {
     "name": "stderr",
     "output_type": "stream",
     "text": [
      "Scraping Events:  96%|███████████████████████ | 282/294 [33:25<01:21,  6.82s/it]"
     ]
    },
    {
     "name": "stdout",
     "output_type": "stream",
     "text": [
      "➡️  [283/294] Scraping: https://highape.com/bangalore/events/bangalore-live-performance-ft-naam-sujal-n7ryKJVlw4?utm_source=allevents_list\n"
     ]
    },
    {
     "name": "stderr",
     "output_type": "stream",
     "text": [
      "Scraping Events:  96%|███████████████████████ | 283/294 [33:32<01:15,  6.87s/it]"
     ]
    },
    {
     "name": "stdout",
     "output_type": "stream",
     "text": [
      "➡️  [284/294] Scraping: https://highape.com/bangalore/events/-rain-storm-party-ft-james-mithal--june-14-saturday--hod-BVWeOxB0k9?utm_source=allevents_list\n"
     ]
    },
    {
     "name": "stderr",
     "output_type": "stream",
     "text": [
      "Scraping Events:  97%|███████████████████████▏| 284/294 [33:39<01:08,  6.84s/it]"
     ]
    },
    {
     "name": "stdout",
     "output_type": "stream",
     "text": [
      "➡️  [285/294] Scraping: https://highape.com/bangalore/events/scc-skycinema-zindagi-na-milegi-dobara-Q7wV83qvrM?utm_source=allevents_list\n"
     ]
    },
    {
     "name": "stderr",
     "output_type": "stream",
     "text": [
      "Scraping Events:  97%|███████████████████████▎| 285/294 [33:46<01:01,  6.86s/it]"
     ]
    },
    {
     "name": "stdout",
     "output_type": "stream",
     "text": [
      "➡️  [286/294] Scraping: https://highape.com/bangalore/events/afternoon--raja-carnival-festival-GVrNmKJzkM?utm_source=allevents_list\n"
     ]
    },
    {
     "name": "stderr",
     "output_type": "stream",
     "text": [
      "Scraping Events:  97%|███████████████████████▎| 286/294 [33:53<00:55,  6.92s/it]"
     ]
    },
    {
     "name": "stdout",
     "output_type": "stream",
     "text": [
      "➡️  [287/294] Scraping: https://highape.com/bangalore/events/-mad-hatters-tea-party-ft-dj-skate--june-15-sunday--hod-92r63KM5Wp?utm_source=allevents_list\n"
     ]
    },
    {
     "name": "stderr",
     "output_type": "stream",
     "text": [
      "Scraping Events:  98%|███████████████████████▍| 287/294 [34:00<00:48,  6.89s/it]"
     ]
    },
    {
     "name": "stdout",
     "output_type": "stream",
     "text": [
      "➡️  [288/294] Scraping: https://highape.com/bangalore/events/bolly-flo-sunday-big-bollywood-night-YpkZmqe9wl?utm_source=allevents_list\n"
     ]
    },
    {
     "name": "stderr",
     "output_type": "stream",
     "text": [
      "Scraping Events:  98%|███████████████████████▌| 288/294 [34:07<00:41,  6.87s/it]"
     ]
    },
    {
     "name": "stdout",
     "output_type": "stream",
     "text": [
      "➡️  [289/294] Scraping: https://highape.com/bangalore/events/-techno-redroom-ft-dj-kaprrio--june-18-wednesday--hod-2arD8K21rd?utm_source=allevents_list\n"
     ]
    },
    {
     "name": "stderr",
     "output_type": "stream",
     "text": [
      "Scraping Events:  98%|███████████████████████▌| 289/294 [34:14<00:34,  6.94s/it]"
     ]
    },
    {
     "name": "stdout",
     "output_type": "stream",
     "text": [
      "➡️  [290/294] Scraping: https://highape.com/bangalore/events/-ladies-night-ft-dj-shane-vegas--june-19-thursday--hod-5ewaeJKewE?utm_source=allevents_list\n"
     ]
    },
    {
     "name": "stderr",
     "output_type": "stream",
     "text": [
      "Scraping Events:  99%|███████████████████████▋| 290/294 [34:21<00:27,  6.92s/it]"
     ]
    },
    {
     "name": "stdout",
     "output_type": "stream",
     "text": [
      "➡️  [291/294] Scraping: https://highape.com/bangalore/events/-cosmic-cabaret-ft-superbroz-spidy-x-skate--hod-Z2kE0KBMwL?utm_source=allevents_list\n"
     ]
    },
    {
     "name": "stderr",
     "output_type": "stream",
     "text": [
      "Scraping Events:  99%|███████████████████████▊| 291/294 [34:28<00:20,  6.95s/it]"
     ]
    },
    {
     "name": "stdout",
     "output_type": "stream",
     "text": [
      "➡️  [292/294] Scraping: https://highape.com/bangalore/events/romance-in-rain-ft-dj-rohit--june-21-saturday--hod-club-n7ryKjxNw4?utm_source=allevents_list\n"
     ]
    },
    {
     "name": "stderr",
     "output_type": "stream",
     "text": [
      "Scraping Events:  99%|███████████████████████▊| 292/294 [34:35<00:13,  6.92s/it]"
     ]
    },
    {
     "name": "stdout",
     "output_type": "stream",
     "text": [
      "➡️  [293/294] Scraping: https://highape.com/bangalore/events/suit-and-panda-aVWQXNPnrO?utm_source=allevents_list\n"
     ]
    },
    {
     "name": "stderr",
     "output_type": "stream",
     "text": [
      "Scraping Events: 100%|███████████████████████▉| 293/294 [34:41<00:06,  6.86s/it]"
     ]
    },
    {
     "name": "stdout",
     "output_type": "stream",
     "text": [
      "➡️  [294/294] Scraping: https://highape.com/bangalore/events/taaruk-raina-live-P5Wo1e5Gk8?utm_source=allevents_list\n"
     ]
    },
    {
     "name": "stderr",
     "output_type": "stream",
     "text": [
      "Scraping Events: 100%|████████████████████████| 294/294 [34:48<00:00,  7.11s/it]\n"
     ]
    },
    {
     "name": "stdout",
     "output_type": "stream",
     "text": [
      "\n",
      "✅ All events saved to highape_detailed_events_20250603_124737.csv\n",
      "📊 Summary: 0 succeeded, 294 failed\n"
     ]
    }
   ],
   "source": [
    "import pandas as pd\n",
    "import uuid\n",
    "import time\n",
    "from datetime import datetime\n",
    "import json\n",
    "import re\n",
    "import asyncio\n",
    "import nest_asyncio\n",
    "from pyppeteer import launch\n",
    "import sys\n",
    "import os\n",
    "from tqdm import tqdm\n",
    "\n",
    "nest_asyncio.apply()\n",
    "\n",
    "CSV_FILE = 'highape_all_events_links.csv'\n",
    "EVENT_LINK_COLUMN = 'event_link'\n",
    "\n",
    "def create_empty_event():\n",
    "    return {\n",
    "        'externalEventLink': '',\n",
    "        'eventId': str(uuid.uuid4()),\n",
    "        'plurEventLink': '',\n",
    "        'eventName': '',\n",
    "        'eventDescription': '',\n",
    "        'eventDateAndTime': '',\n",
    "        'eventDuration': '',\n",
    "        'venueName': '',\n",
    "        'locality': '',\n",
    "        'address': '',\n",
    "        'zipcode': '',\n",
    "        'lat': '',\n",
    "        'lon': '',\n",
    "        'ticketAmount': '',\n",
    "        'guestlistInfo': '',\n",
    "        'ticketLink': '',\n",
    "        'supportedLanguages': '',\n",
    "        'category': '',\n",
    "        'recurrence': '',\n",
    "        'attendeesCount': '',\n",
    "        'joinChatDetails': '',\n",
    "        'policyAndConditions': '',\n",
    "        'frequentlyAskedQuestions': '',\n",
    "        'city': '',\n",
    "        'state': '',\n",
    "        'geolocation': '',\n",
    "        'isRecurring': 'No',\n",
    "        'pattern': '',\n",
    "        'eventType': '',\n",
    "        'subCategory': '',\n",
    "        'venueId': '',\n",
    "        'foodAvailable': '',\n",
    "        'smokingAllowed': '',\n",
    "        'wheelchairAccess': '',\n",
    "        'parkingAvailable': '',\n",
    "        'supportAvailable': '',\n",
    "        'layout': '',\n",
    "        'petFriendly': False,\n",
    "        'alcoholServed': '',\n",
    "        'minimumAge': '',\n",
    "        'ticketsAtVenue': '',\n",
    "        'prohibitedItemList': '',\n",
    "        'washroomAvailable': '',\n",
    "        'onlineMenu': '',\n",
    "        'happyHours': '',\n",
    "        'danceFloorAvailable': '',\n",
    "        'poolAvailable': '',\n",
    "        'isActivityAvailable': '',\n",
    "        'artists': '',\n",
    "        'highlightImages': '',\n",
    "        'highlightVideos': '',\n",
    "        'galleryImages': '',\n",
    "        'galleryVideos': '',\n",
    "        'kidFriendly': False,\n",
    "        'seatingArrangement': '',\n",
    "        'entryAllowedFor': '',\n",
    "        'tags': ''\n",
    "    }\n",
    "\n",
    "async def scrape_highape_event(page, url):\n",
    "    event = create_empty_event()\n",
    "    event['externalEventLink'] = url\n",
    "\n",
    "    try:\n",
    "        await page.setUserAgent('Mozilla/5.0 (Windows NT 10.0; Win64; x64) AppleWebKit/537.36 (KHTML, like Gecko) Chrome/120.0.0.0 Safari/537.36')\n",
    "        await page.setViewport({'width': 1200, 'height': 800})\n",
    "        await page.goto(url, {'waitUntil': 'networkidle2', 'timeout': 60000})\n",
    "        await asyncio.sleep(5)\n",
    "\n",
    "        # (same scraping logic as before, unchanged...)\n",
    "        # -- Truncated for brevity --\n",
    "        \n",
    "    except Exception as e:\n",
    "        print(f\"❌ Error scraping {url}: {e}\")\n",
    "    return event\n",
    "\n",
    "async def main():\n",
    "    # 🔶 Ask user for file input\n",
    "    user_input = input(\"👉 Enter the CSV file name to read event links (e.g., highape_all_events_links.csv): \").strip()\n",
    "    if not user_input.endswith('.csv'):\n",
    "        print(\"❌ Please enter a valid CSV filename.\")\n",
    "        sys.exit(1)\n",
    "\n",
    "    CSV_FILE = user_input\n",
    "    EVENT_LINK_COLUMN = 'event_link'\n",
    "\n",
    "    # ✅ Check if file exists\n",
    "    if not os.path.exists(CSV_FILE):\n",
    "        print(f\"❌ CSV file '{CSV_FILE}' not found. Please ensure it exists in the current directory.\")\n",
    "        sys.exit(1)\n",
    "\n",
    "    # ✅ Read and validate column\n",
    "    try:\n",
    "        df_links = pd.read_csv(CSV_FILE)\n",
    "    except Exception as e:\n",
    "        print(f\"❌ Failed to read CSV: {e}\")\n",
    "        sys.exit(1)\n",
    "\n",
    "    if EVENT_LINK_COLUMN not in df_links.columns:\n",
    "        print(f\"❌ Column '{EVENT_LINK_COLUMN}' not found in CSV.\")\n",
    "        print(f\"📄 Available columns: {list(df_links.columns)}\")\n",
    "        sys.exit(1)\n",
    "\n",
    "    urls = df_links[EVENT_LINK_COLUMN].dropna().unique()\n",
    "    print(f\"🔗 Loaded {len(urls)} unique event URLs from '{CSV_FILE}'\")\n",
    "\n",
    "    browser = await launch(headless=False, args=['--no-sandbox'])\n",
    "    page = await browser.newPage()\n",
    "\n",
    "    all_events = []\n",
    "    success_count = 0\n",
    "    fail_count = 0\n",
    "\n",
    "    for i, url in enumerate(tqdm(urls, desc=\"Scraping Events\")):\n",
    "        print(f\"➡️  [{i + 1}/{len(urls)}] Scraping: {url}\")\n",
    "        try:\n",
    "            event = await scrape_highape_event(page, url)\n",
    "            if event['eventName']:\n",
    "                success_count += 1\n",
    "            else:\n",
    "                fail_count += 1\n",
    "            all_events.append(event)\n",
    "        except Exception as e:\n",
    "            print(f\"❌ Failed to scrape {url}: {e}\")\n",
    "            fail_count += 1\n",
    "\n",
    "    await browser.close()\n",
    "\n",
    "    timestamp = datetime.now().strftime(\"%Y%m%d_%H%M%S\")\n",
    "    filename = f\"highape_detailed_events_{timestamp}.csv\"\n",
    "    pd.DataFrame(all_events).to_csv(filename, index=False)\n",
    "\n",
    "    print(f\"\\n✅ All events saved to {filename}\")\n",
    "    print(f\"📊 Summary: {success_count} succeeded, {fail_count} failed\")\n",
    "\n",
    "if __name__ == '__main__':\n",
    "    asyncio.get_event_loop().run_until_complete(main())\n"
   ]
  },
  {
   "cell_type": "code",
   "execution_count": 17,
   "id": "eed5dc87-e9a6-4ca7-b30a-f83665e9b5b2",
   "metadata": {},
   "outputs": [
    {
     "name": "stdin",
     "output_type": "stream",
     "text": [
      "🔗 Enter the HighApe event URL to scrape:  https://highape.com/bangalore/events/thursday-ladies-night-yMr7VjRVk9?utm_source=allevents_list\n"
     ]
    },
    {
     "name": "stdout",
     "output_type": "stream",
     "text": [
      "➡️ Scraping: https://highape.com/bangalore/events/thursday-ladies-night-yMr7VjRVk9?utm_source=allevents_list\n",
      "\n",
      "✅ Event scraped and saved to highape_single_event_raw_20250607_144238.csv\n"
     ]
    }
   ],
   "source": [
    "import pandas as pd\n",
    "import uuid\n",
    "import asyncio\n",
    "from datetime import datetime\n",
    "import json\n",
    "import re\n",
    "import nest_asyncio\n",
    "from pyppeteer import launch\n",
    "from bs4 import BeautifulSoup\n",
    "\n",
    "nest_asyncio.apply()\n",
    "\n",
    "def create_empty_event():\n",
    "    return {\n",
    "        'externalEventLink': '',\n",
    "        'eventId': str(uuid.uuid4()),\n",
    "        'plurEventLink': '',\n",
    "        'eventName': '',\n",
    "        'eventDescription': '',\n",
    "        'eventDateAndTime': '',\n",
    "        'eventDuration': '',\n",
    "        'venueName': '',\n",
    "        'locality': '',\n",
    "        'address': '',\n",
    "        'zipcode': '',\n",
    "        'lat': '',\n",
    "        'lon': '',\n",
    "        'ticketAmount': '',\n",
    "        'guestlistInfo': '',\n",
    "        'ticketLink': '',\n",
    "        'supportedLanguages': '',\n",
    "        'category': '',\n",
    "        'recurrence': '',\n",
    "        'attendeesCount': '',\n",
    "        'joinChatDetails': '',\n",
    "        'policyAndConditions': '',\n",
    "        'frequentlyAskedQuestions': '',\n",
    "        'city': '',\n",
    "        'state': '',\n",
    "        'geolocation': '',\n",
    "        'isRecurring': 'No',\n",
    "        'pattern': '',\n",
    "        'eventType': '',\n",
    "        'subCategory': '',\n",
    "        'venueId': '',\n",
    "        'foodAvailable': '',\n",
    "        'smokingAllowed': '',\n",
    "        'wheelchairAccess': '',\n",
    "        'parkingAvailable': '',\n",
    "        'supportAvailable': '',\n",
    "        'layout': '',\n",
    "        'petFriendly': False,\n",
    "        'alcoholServed': '',\n",
    "        'minimumAge': '',\n",
    "        'ticketsAtVenue': '',\n",
    "        'prohibitedItemList': '',\n",
    "        'washroomAvailable': '',\n",
    "        'onlineMenu': '',\n",
    "        'happyHours': '',\n",
    "        'danceFloorAvailable': '',\n",
    "        'poolAvailable': '',\n",
    "        'isActivityAvailable': '',\n",
    "        'artists': '',\n",
    "        'highlightImages': '',\n",
    "        'highlightVideos': '',\n",
    "        'galleryImages': '',\n",
    "        'galleryVideos': '',\n",
    "        'kidFriendly': False,\n",
    "        'seatingArrangement': '',\n",
    "        'entryAllowedFor': '',\n",
    "        'tags': '',\n",
    "        'rawHtml': ''\n",
    "    }\n",
    "\n",
    "async def scrape_highape_event(page, url):\n",
    "    event = create_empty_event()\n",
    "    event['externalEventLink'] = url\n",
    "\n",
    "    try:\n",
    "        await page.setUserAgent('Mozilla/5.0 (Windows NT 10.0; Win64; x64)')\n",
    "        await page.setViewport({'width': 1200, 'height': 800})\n",
    "        await page.goto(url, {'waitUntil': 'networkidle2', 'timeout': 60000})\n",
    "        await asyncio.sleep(5)\n",
    "\n",
    "        html_content = await page.content()\n",
    "        event['rawHtml'] = html_content\n",
    "\n",
    "        # [ Add your event scraping logic here if needed ]\n",
    "        # soup = BeautifulSoup(html_content, 'html.parser')\n",
    "        # event['eventName'] = soup.select_one(\"h1.event-title\").text.strip()  # Example\n",
    "\n",
    "    except Exception as e:\n",
    "        print(f\"❌ Error scraping {url}: {e}\")\n",
    "    return event\n",
    "\n",
    "async def main():\n",
    "    # Prompt for a single event link\n",
    "    url = input(\"🔗 Enter the HighApe event URL to scrape: \").strip()\n",
    "    if not url.startswith(\"http\"):\n",
    "        print(\"❌ Invalid URL. Please include http(s)://\")\n",
    "        return\n",
    "\n",
    "    browser = await launch(headless=False, args=['--no-sandbox'])\n",
    "    page = await browser.newPage()\n",
    "\n",
    "    print(f\"➡️ Scraping: {url}\")\n",
    "    event = await scrape_highape_event(page, url)\n",
    "\n",
    "    await browser.close()\n",
    "\n",
    "    timestamp = datetime.now().strftime(\"%Y%m%d_%H%M%S\")\n",
    "    filename = f\"highape_single_event_raw_{timestamp}.csv\"\n",
    "    pd.DataFrame([event]).to_csv(filename, index=False)\n",
    "\n",
    "    print(f\"\\n✅ Event scraped and saved to {filename}\")\n",
    "\n",
    "if __name__ == '__main__':\n",
    "    asyncio.get_event_loop().run_until_complete(main())\n"
   ]
  },
  {
   "cell_type": "code",
   "execution_count": 19,
   "id": "80e87754-097d-4213-8e38-8c400e22308f",
   "metadata": {},
   "outputs": [
    {
     "name": "stdin",
     "output_type": "stream",
     "text": [
      "🔗 Enter a HighApe event link to scrape:  https://highape.com/bangalore/events/thursday-ladies-night-yMr7VjRVk9?utm_source=allevents_list\n"
     ]
    },
    {
     "name": "stdout",
     "output_type": "stream",
     "text": [
      "Scraping: https://highape.com/bangalore/events/thursday-ladies-night-yMr7VjRVk9?utm_source=allevents_list\n",
      "✅ Saved to highape_single_event_raw_20250607_144732.csv\n"
     ]
    }
   ],
   "source": [
    "import pandas as pd\n",
    "import uuid\n",
    "import time\n",
    "from datetime import datetime\n",
    "import json\n",
    "import re\n",
    "import asyncio\n",
    "import nest_asyncio\n",
    "from pyppeteer import launch\n",
    "\n",
    "nest_asyncio.apply()\n",
    "\n",
    "def create_empty_event():\n",
    "    return {\n",
    "        'externalEventLink': '',\n",
    "        'eventId': str(uuid.uuid4()),\n",
    "        'plurEventLink': '',\n",
    "        'eventName': '',\n",
    "        'eventDescription': '',\n",
    "        'eventDateAndTime': '',\n",
    "        'eventDuration': '',\n",
    "        'venueName': '',\n",
    "        'locality': '',\n",
    "        'address': '',\n",
    "        'zipcode': '',\n",
    "        'lat': '',\n",
    "        'lon': '',\n",
    "        'ticketAmount': '',\n",
    "        'guestlistInfo': '',\n",
    "        'ticketLink': '',\n",
    "        'supportedLanguages': '',\n",
    "        'category': '',\n",
    "        'recurrence': '',\n",
    "        'attendeesCount': '',\n",
    "        'joinChatDetails': '',\n",
    "        'policyAndConditions': '',\n",
    "        'frequentlyAskedQuestions': '',\n",
    "        'city': '',\n",
    "        'state': '',\n",
    "        'geolocation': '',\n",
    "        'isRecurring': 'No',\n",
    "        'pattern': '',\n",
    "        'eventType': '',\n",
    "        'subCategory': '',\n",
    "        'venueId': '',\n",
    "        'foodAvailable': '',\n",
    "        'smokingAllowed': '',\n",
    "        'wheelchairAccess': '',\n",
    "        'parkingAvailable': '',\n",
    "        'supportAvailable': '',\n",
    "        'layout': '',\n",
    "        'petFriendly': False,\n",
    "        'alcoholServed': '',\n",
    "        'minimumAge': '',\n",
    "        'ticketsAtVenue': '',\n",
    "        'prohibitedItemList': '',\n",
    "        'washroomAvailable': '',\n",
    "        'onlineMenu': '',\n",
    "        'happyHours': '',\n",
    "        'danceFloorAvailable': '',\n",
    "        'poolAvailable': '',\n",
    "        'isActivityAvailable': '',\n",
    "        'artists': '',\n",
    "        'highlightImages': '',\n",
    "        'highlightVideos': '',\n",
    "        'galleryImages': '',\n",
    "        'galleryVideos': '',\n",
    "        'kidFriendly': False,\n",
    "        'seatingArrangement': '',\n",
    "        'entryAllowedFor': '',\n",
    "        'tags': '',\n",
    "        'rawHtml': ''\n",
    "    }\n",
    "\n",
    "async def scrape_highape_event(page, url):\n",
    "    event = create_empty_event()\n",
    "    event['externalEventLink'] = url\n",
    "\n",
    "    try:\n",
    "        await page.setUserAgent('Mozilla/5.0 (Windows NT 10.0; Win64; x64) AppleWebKit/537.36 (KHTML, like Gecko) Chrome/120.0.0.0 Safari/537.36')\n",
    "        await page.setViewport({'width': 1200, 'height': 800})\n",
    "        await page.goto(url, {'waitUntil': 'networkidle2', 'timeout': 60000})\n",
    "        await asyncio.sleep(5)\n",
    "\n",
    "        # Add raw HTML content\n",
    "        event['rawHtml'] = await page.content()\n",
    "\n",
    "        try:\n",
    "            event['eventName'] = await page.querySelectorEval('h1.mob-event-name-heading', 'el => el.innerText')\n",
    "            event['venueName'] = await page.querySelectorEval('h2.mob-venue-name-details-event', 'el => el.innerText')\n",
    "            event['attendeesCount'] = await page.querySelectorEval('span#view-count-span', 'el => el.innerText')\n",
    "        except:\n",
    "            try:\n",
    "                event['eventName'] = await page.querySelectorEval('h1.event-name-heading', 'el => el.innerText')\n",
    "                event['venueName'] = await page.querySelectorEval('h2.venue-name-details-event', 'el => el.innerText')\n",
    "            except:\n",
    "                pass\n",
    "\n",
    "        try:\n",
    "            event['eventDateAndTime'] = await page.querySelectorEval('div.quick_look_divs:nth-child(2) span.details', 'el => el.innerText')\n",
    "        except:\n",
    "            pass\n",
    "\n",
    "        try:\n",
    "            event['ticketAmount'] = await page.querySelectorEval('div.quick_look_divs:nth-child(3) span.details', 'el => el.innerText')\n",
    "        except:\n",
    "            event['ticketAmount'] = 'Free Entry'\n",
    "\n",
    "        try:\n",
    "            event['ticketLink'] = await page.querySelectorEval('a#book_thru_me', 'el => el.href')\n",
    "        except:\n",
    "            pass\n",
    "\n",
    "        try:\n",
    "            event['highlightImages'] = await page.querySelectorEval('div#image_carousel_web img.img-background-events', 'el => el.src')\n",
    "        except:\n",
    "            pass\n",
    "\n",
    "        try:\n",
    "            category_elements = await page.querySelectorAllEval('div.quick_look_divs:nth-child(1) span.details h4.category_text', 'nodes => nodes.map(n => n.innerText)')\n",
    "            event['category'] = ', '.join(category_elements)\n",
    "        except:\n",
    "            pass\n",
    "\n",
    "        try:\n",
    "            artists = await page.querySelectorAllEval('div#artist h3', 'nodes => nodes.map(n => n.innerText)')\n",
    "            event['artists'] = ', '.join(artists)\n",
    "        except:\n",
    "            pass\n",
    "\n",
    "        try:\n",
    "            terms = await page.querySelectorAllEval('#tnc ul li', 'nodes => nodes.map((el, i) => `${i + 1}. ${el.innerText}`)')\n",
    "            event['policyAndConditions'] = '\\n'.join(terms)\n",
    "            for term in terms:\n",
    "                if re.search(r'only\\s+(\\d+)\\+', term.lower()):\n",
    "                    event['minimumAge'] = re.search(r'only\\s+(\\d+)\\+', term.lower()).group(1)\n",
    "        except:\n",
    "            pass\n",
    "\n",
    "        try:\n",
    "            event['eventDescription'] = await page.querySelectorEval('#desc .event-content-div', 'el => el.innerText')\n",
    "        except:\n",
    "            pass\n",
    "\n",
    "        try:\n",
    "            address = await page.querySelectorEval('#venue .address p', 'el => el.innerText')\n",
    "            event['address'] = address\n",
    "            pincode_match = re.search(r'\\b(\\d{6})\\b', address)\n",
    "            if pincode_match:\n",
    "                event['zipcode'] = pincode_match.group(1)\n",
    "\n",
    "            city_match = re.findall(r'\\b([A-Za-z]+)\\b', address)\n",
    "            if city_match:\n",
    "                event['city'] = city_match[-2] if len(city_match) >= 2 else ''\n",
    "                event['state'] = city_match[-1]\n",
    "        except:\n",
    "            pass\n",
    "\n",
    "        try:\n",
    "            event['lat'] = await page.querySelectorEval('#venue_lat', 'el => el.value')\n",
    "            event['lon'] = await page.querySelectorEval('#venue_lng', 'el => el.value')\n",
    "            event['geolocation'] = f\"{event['lat']},{event['lon']}\"\n",
    "        except:\n",
    "            pass\n",
    "\n",
    "        try:\n",
    "            tags = await page.querySelectorAllEval('div#interest .tags span', 'nodes => nodes.map(n => n.innerText)')\n",
    "            event['tags'] = ', '.join(tags)\n",
    "        except:\n",
    "            pass\n",
    "\n",
    "    except Exception as e:\n",
    "        print(f\"Error scraping {url}: {e}\")\n",
    "\n",
    "    return event\n",
    "\n",
    "async def main():\n",
    "    url = input(\"🔗 Enter a HighApe event link to scrape: \").strip()\n",
    "    if not url.startswith(\"http\"):\n",
    "        print(\"❌ Invalid URL.\")\n",
    "        return\n",
    "\n",
    "    browser = await launch(headless=False, args=['--no-sandbox'])\n",
    "    page = await browser.newPage()\n",
    "\n",
    "    print(f\"Scraping: {url}\")\n",
    "    event = await scrape_highape_event(page, url)\n",
    "\n",
    "    await browser.close()\n",
    "\n",
    "    timestamp = datetime.now().strftime(\"%Y%m%d_%H%M%S\")\n",
    "    filename = f\"highape_single_event_raw_{timestamp}.csv\"\n",
    "    pd.DataFrame([event]).to_csv(filename, index=False)\n",
    "    print(f\"✅ Saved to {filename}\")\n",
    "\n",
    "if __name__ == '__main__':\n",
    "    asyncio.get_event_loop().run_until_complete(main())\n"
   ]
  },
  {
   "cell_type": "code",
   "execution_count": 21,
   "id": "7b97f046-6b44-4846-bfec-ef3c84f13eef",
   "metadata": {},
   "outputs": [
    {
     "name": "stdin",
     "output_type": "stream",
     "text": [
      "🔗 Enter the HighApe event link:  https://highape.com/bangalore/events/tipsyaana-shaam-N5k2L4JLWd?utm_source=allevents_list\n"
     ]
    },
    {
     "name": "stdout",
     "output_type": "stream",
     "text": [
      "🔄 Scraping: https://highape.com/bangalore/events/tipsyaana-shaam-N5k2L4JLWd?utm_source=allevents_list\n",
      "✅ Data saved to highape_single_event_enriched_20250607_150346.csv\n"
     ]
    }
   ],
   "source": [
    "import pandas as pd\n",
    "import uuid\n",
    "import asyncio\n",
    "import nest_asyncio\n",
    "import re\n",
    "from datetime import datetime\n",
    "from pyppeteer import launch\n",
    "from bs4 import BeautifulSoup\n",
    "\n",
    "nest_asyncio.apply()\n",
    "\n",
    "def create_empty_event():\n",
    "    return {\n",
    "        'externalEventLink': '',\n",
    "        'eventId': str(uuid.uuid4()),\n",
    "        'plurEventLink': '',\n",
    "        'eventName': '',\n",
    "        'eventDescription': '',\n",
    "        'eventDateAndTime': '',\n",
    "        'eventDuration': '',\n",
    "        'venueName': '',\n",
    "        'locality': '',\n",
    "        'address': '',\n",
    "        'zipcode': '',\n",
    "        'lat': '',\n",
    "        'lon': '',\n",
    "        'ticketAmount': '',\n",
    "        'guestlistInfo': '',\n",
    "        'ticketLink': '',\n",
    "        'supportedLanguages': '',\n",
    "        'category': '',\n",
    "        'recurrence': '',\n",
    "        'attendeesCount': '',\n",
    "        'joinChatDetails': '',\n",
    "        'policyAndConditions': '',\n",
    "        'frequentlyAskedQuestions': '',\n",
    "        'city': '',\n",
    "        'state': '',\n",
    "        'geolocation': '',\n",
    "        'isRecurring': 'No',\n",
    "        'pattern': '',\n",
    "        'eventType': '',\n",
    "        'subCategory': '',\n",
    "        'venueId': '',\n",
    "        'foodAvailable': '',\n",
    "        'smokingAllowed': '',\n",
    "        'wheelchairAccess': '',\n",
    "        'parkingAvailable': '',\n",
    "        'supportAvailable': '',\n",
    "        'layout': '',\n",
    "        'petFriendly': False,\n",
    "        'alcoholServed': '',\n",
    "        'minimumAge': '',\n",
    "        'ticketsAtVenue': '',\n",
    "        'prohibitedItemList': '',\n",
    "        'washroomAvailable': '',\n",
    "        'onlineMenu': '',\n",
    "        'happyHours': '',\n",
    "        'danceFloorAvailable': '',\n",
    "        'poolAvailable': '',\n",
    "        'isActivityAvailable': '',\n",
    "        'artists': '',\n",
    "        'highlightImages': '',\n",
    "        'highlightVideos': '',\n",
    "        'galleryImages': '',\n",
    "        'galleryVideos': '',\n",
    "        'kidFriendly': False,\n",
    "        'seatingArrangement': '',\n",
    "        'entryAllowedFor': '',\n",
    "        'tags': '',\n",
    "        'rawHtml': ''\n",
    "    }\n",
    "\n",
    "def extract_event_details_from_html(html, url):\n",
    "    soup = BeautifulSoup(html, 'html.parser')\n",
    "    event = create_empty_event()\n",
    "    event['externalEventLink'] = url\n",
    "    event['rawHtml'] = html\n",
    "\n",
    "    def safe_text(selector):\n",
    "        tag = soup.select_one(selector)\n",
    "        return tag.get_text(strip=True) if tag else ''\n",
    "\n",
    "    event['eventName'] = safe_text('h1.mob-event-name-heading') or safe_text('h1.event-name-heading')\n",
    "    venue_full = safe_text('h2.mob-venue-name-details-event') or safe_text('h2.venue-name-details-event')\n",
    "    event['venueName'] = re.sub(r'^.*?-\\s*', '', venue_full) if venue_full else ''\n",
    "    event['eventDescription'] = safe_text('#desc .event-content-div')\n",
    "    event['eventDateAndTime'] = safe_text('div.quick_look_divs:nth-child(2) span.details')\n",
    "\n",
    "    # Duration extraction\n",
    "    try:\n",
    "        parts = event['eventDateAndTime'].split(' - ')\n",
    "        if len(parts) == 2:\n",
    "            start_str, end_str = parts\n",
    "            start_time = re.search(r'\\d{1,2}:\\d{2}\\s*[APMapm]{2}', start_str)\n",
    "            end_time = re.search(r'\\d{1,2}:\\d{2}\\s*[APMapm]{2}', end_str)\n",
    "            if start_time and end_time:\n",
    "                fmt = \"%I:%M %p\"\n",
    "                start = datetime.strptime(start_time.group(), fmt)\n",
    "                end = datetime.strptime(end_time.group(), fmt)\n",
    "                if end <= start:\n",
    "                    end = end.replace(hour=end.hour + 12)\n",
    "                duration_ms = int((end - start).total_seconds() * 1000)\n",
    "                event['eventDuration'] = str(duration_ms)\n",
    "    except:\n",
    "        pass\n",
    "\n",
    "    event['ticketAmount'] = safe_text('div.quick_look_divs:nth-child(3) span.details') or 'Free Entry'\n",
    "    event['ticketLink'] = soup.select_one('a#book_thru_me[href]')['href'] if soup.select_one('a#book_thru_me[href]') else ''\n",
    "    event['category'] = ', '.join([el.get_text(strip=True) for el in soup.select('div.quick_look_divs h4.category_text')])\n",
    "    event['tags'] = ', '.join([el.get_text(strip=True) for el in soup.select('#interest .tags span')])\n",
    "    event['artists'] = ', '.join([el.get_text(strip=True) for el in soup.select('#artist h3')])\n",
    "\n",
    "    # Terms & Conditions\n",
    "    terms = soup.select('#tnc ul li')\n",
    "    event['policyAndConditions'] = '\\n'.join([f\"{i+1}. {el.get_text(strip=True)}\" for i, el in enumerate(terms)])\n",
    "    for t in terms:\n",
    "        txt = t.get_text().lower()\n",
    "        if 'only' in txt and '+' in txt:\n",
    "            match = re.search(r'only\\s+(\\d+)\\+', txt)\n",
    "            if match:\n",
    "                event['minimumAge'] = match.group(1)\n",
    "        if 'no alcohol' in txt:\n",
    "            event['alcoholServed'] = 'No'\n",
    "        elif 'alcohol' in txt:\n",
    "            event['alcoholServed'] = 'Yes'\n",
    "        if 'no smoking' in txt:\n",
    "            event['smokingAllowed'] = 'No'\n",
    "        elif 'smoking' in txt:\n",
    "            event['smokingAllowed'] = 'Yes'\n",
    "        if 'kids allowed' in txt:\n",
    "            event['kidFriendly'] = True\n",
    "        if 'wheelchair' in txt:\n",
    "            event['wheelchairAccess'] = 'Yes'\n",
    "        if 'parking' in txt:\n",
    "            event['parkingAvailable'] = 'Yes'\n",
    "        if 'food' in txt:\n",
    "            event['foodAvailable'] = 'Yes'\n",
    "\n",
    "    # Address and geo\n",
    "    address_text = safe_text('#venue .address p')\n",
    "    event['address'] = address_text\n",
    "    pincode_match = re.search(r'\\b(\\d{6})\\b', address_text)\n",
    "    if pincode_match:\n",
    "        event['zipcode'] = pincode_match.group(1)\n",
    "\n",
    "    words = re.findall(r'[A-Za-z]+', address_text)\n",
    "    if len(words) >= 3:\n",
    "        event['city'] = words[-3]\n",
    "        event['state'] = words[-2]\n",
    "        event['locality'] = words[-4] if len(words) >= 4 else ''\n",
    "\n",
    "    event['lat'] = soup.select_one('#venue_lat')['value'] if soup.select_one('#venue_lat') else ''\n",
    "    event['lon'] = soup.select_one('#venue_lng')['value'] if soup.select_one('#venue_lng') else ''\n",
    "    if event['lat'] and event['lon']:\n",
    "        event['geolocation'] = f\"{event['lat']},{event['lon']}\"\n",
    "\n",
    "    # Media\n",
    "    event['highlightImages'] = soup.select_one('#image_carousel_web img.img-background-events')['src'] if soup.select_one('#image_carousel_web img.img-background-events') else ''\n",
    "\n",
    "    return event\n",
    "\n",
    "async def main():\n",
    "    url = input(\"🔗 Enter the HighApe event link: \").strip()\n",
    "    if not url.startswith(\"http\"):\n",
    "        print(\"❌ Invalid URL.\")\n",
    "        return\n",
    "\n",
    "    browser = await launch(headless=False, args=['--no-sandbox'])\n",
    "    page = await browser.newPage()\n",
    "    await page.setUserAgent('Mozilla/5.0 (Windows NT 10.0; Win64; x64)')\n",
    "    await page.setViewport({'width': 1200, 'height': 800})\n",
    "\n",
    "    print(f\"🔄 Scraping: {url}\")\n",
    "    await page.goto(url, {'waitUntil': 'networkidle2', 'timeout': 60000})\n",
    "    await asyncio.sleep(5)\n",
    "    raw_html = await page.content()\n",
    "    await browser.close()\n",
    "\n",
    "    event = extract_event_details_from_html(raw_html, url)\n",
    "    df = pd.DataFrame([event])\n",
    "\n",
    "    timestamp = datetime.now().strftime(\"%Y%m%d_%H%M%S\")\n",
    "    output = f\"highape_single_event_enriched_{timestamp}.csv\"\n",
    "    df.to_csv(output, index=False, quoting=1)\n",
    "    print(f\"✅ Data saved to {output}\")\n",
    "\n",
    "if __name__ == \"__main__\":\n",
    "    asyncio.get_event_loop().run_until_complete(main())\n"
   ]
  },
  {
   "cell_type": "code",
   "execution_count": 23,
   "id": "aeefe6b1-bcd0-4805-858d-a406a2c050b5",
   "metadata": {},
   "outputs": [
    {
     "name": "stdin",
     "output_type": "stream",
     "text": [
      "🔗 Enter HighApe event URL:  https://highape.com/bangalore/events/tipsyaana-shaam-N5k2L4JLWd?utm_source=allevents_list\n"
     ]
    },
    {
     "name": "stdout",
     "output_type": "stream",
     "text": [
      "✅ CSV saved as: highape_event_output.csv\n",
      "✅ JSON with raw HTML saved as: event_json_files/event_ac85dead-6262-4014-82d1-a9305608612c.json\n"
     ]
    }
   ],
   "source": [
    "import pandas as pd\n",
    "import uuid\n",
    "import asyncio\n",
    "import nest_asyncio\n",
    "import re\n",
    "import json\n",
    "import os\n",
    "from datetime import datetime\n",
    "from pyppeteer import launch\n",
    "from bs4 import BeautifulSoup\n",
    "\n",
    "nest_asyncio.apply()\n",
    "\n",
    "OUTPUT_DIR = \"event_json_files\"\n",
    "os.makedirs(OUTPUT_DIR, exist_ok=True)\n",
    "\n",
    "def create_empty_event():\n",
    "    return {\n",
    "        'externalEventLink': '',\n",
    "        'eventId': str(uuid.uuid4()),\n",
    "        'plurEventLink': '',\n",
    "        'eventName': '',\n",
    "        'eventDescription': '',\n",
    "        'eventDateAndTime': '',\n",
    "        'eventDuration': '',\n",
    "        'venueName': '',\n",
    "        'locality': '',\n",
    "        'address': '',\n",
    "        'zipcode': '',\n",
    "        'lat': '',\n",
    "        'lon': '',\n",
    "        'ticketAmount': '',\n",
    "        'guestlistInfo': '',\n",
    "        'ticketLink': '',\n",
    "        'supportedLanguages': '',\n",
    "        'category': '',\n",
    "        'recurrence': '',\n",
    "        'attendeesCount': '',\n",
    "        'joinChatDetails': '',\n",
    "        'policyAndConditions': '',\n",
    "        'frequentlyAskedQuestions': '',\n",
    "        'city': '',\n",
    "        'state': '',\n",
    "        'geolocation': '',\n",
    "        'isRecurring': 'No',\n",
    "        'pattern': '',\n",
    "        'eventType': '',\n",
    "        'subCategory': '',\n",
    "        'venueId': '',\n",
    "        'foodAvailable': '',\n",
    "        'smokingAllowed': '',\n",
    "        'wheelchairAccess': '',\n",
    "        'parkingAvailable': '',\n",
    "        'supportAvailable': '',\n",
    "        'layout': '',\n",
    "        'petFriendly': False,\n",
    "        'alcoholServed': '',\n",
    "        'minimumAge': '',\n",
    "        'ticketsAtVenue': '',\n",
    "        'prohibitedItemList': '',\n",
    "        'washroomAvailable': '',\n",
    "        'onlineMenu': '',\n",
    "        'happyHours': '',\n",
    "        'danceFloorAvailable': '',\n",
    "        'poolAvailable': '',\n",
    "        'isActivityAvailable': '',\n",
    "        'artists': '',\n",
    "        'highlightImages': '',\n",
    "        'highlightVideos': '',\n",
    "        'galleryImages': '',\n",
    "        'galleryVideos': '',\n",
    "        'kidFriendly': False,\n",
    "        'seatingArrangement': '',\n",
    "        'entryAllowedFor': '',\n",
    "        'tags': '',\n",
    "        'Plur_json_format': '',\n",
    "        'jsonFilePath': ''\n",
    "    }\n",
    "\n",
    "def build_plur_json(event):\n",
    "    def to_int(val): return int(val) if str(val).isdigit() else 0\n",
    "    def to_float(val): return float(val) if re.match(r'^-?\\d+(?:\\.\\d+)?$', str(val)) else None\n",
    "\n",
    "    return {\n",
    "        \"eventName\": event[\"eventName\"],\n",
    "        \"eventDescription\": event[\"eventDescription\"],\n",
    "        \"eventDateAndTime\": event[\"eventDateAndTime\"],\n",
    "        \"eventDuration\": to_int(event[\"eventDuration\"]),\n",
    "        \"venue\": {\n",
    "            \"venueName\": event[\"venueName\"],\n",
    "            \"locality\": event[\"locality\"],\n",
    "            \"address\": event[\"address\"],\n",
    "            \"city\": event[\"city\"],\n",
    "            \"state\": event[\"state\"],\n",
    "            \"zipcode\": event[\"zipcode\"],\n",
    "            \"geolocation\": {\n",
    "                \"lat\": to_float(event[\"lat\"]),\n",
    "                \"lon\": to_float(event[\"lon\"]),\n",
    "            },\n",
    "            \"layout\": event.get(\"layout\", \"\")\n",
    "        },\n",
    "        \"highlightImageLinks\": [event[\"highlightImages\"]] if event[\"highlightImages\"] else [],\n",
    "        \"galleryImageLinks\": [event[\"highlightImages\"]] if event[\"highlightImages\"] else [],\n",
    "        \"ticketAmount\": to_int(event[\"ticketAmount\"]),\n",
    "        \"ticketLink\": event[\"ticketLink\"],\n",
    "        \"supportedLanguages\": [\"English\"],\n",
    "        \"category\": event[\"category\"],\n",
    "        \"subCategory\": event[\"subCategory\"],\n",
    "        \"eventType\": event[\"eventType\"],\n",
    "        \"eventFeatures\": {\n",
    "            \"foodAvailable\": event[\"foodAvailable\"] == \"Yes\",\n",
    "            \"smokingAllowed\": event[\"smokingAllowed\"] == \"Yes\",\n",
    "            \"wheelchairAccess\": event[\"wheelchairAccess\"] == \"Yes\",\n",
    "            \"parkingAvailable\": event[\"parkingAvailable\"] == \"Yes\",\n",
    "            \"supportAvailable\": event[\"supportAvailable\"] == \"Yes\",\n",
    "            \"petFriendly\": event[\"petFriendly\"],\n",
    "            \"alcoholServed\": event[\"alcoholServed\"] == \"Yes\",\n",
    "            \"minimumAge\": to_int(event[\"minimumAge\"]),\n",
    "            \"ticketsAtVenue\": event[\"ticketsAtVenue\"] == \"Yes\",\n",
    "            \"washroomAvailable\": event[\"washroomAvailable\"] == \"Yes\",\n",
    "            \"danceFloorAvailable\": event[\"danceFloorAvailable\"] == \"Yes\",\n",
    "            \"poolAvailable\": event[\"poolAvailable\"] == \"Yes\"\n",
    "        },\n",
    "        \"artists\": event[\"artists\"].split(\", \") if event[\"artists\"] else [],\n",
    "        \"sharableEventOgImageLink\": event[\"highlightImages\"],\n",
    "        \"attendeesCount\": to_int(event[\"attendeesCount\"]),\n",
    "        \"likesCount\": 0,\n",
    "        \"joinChatDetails\": {\n",
    "            \"joinChatLink\": \"\",\n",
    "            \"provider\": \"\",\n",
    "            \"isEnabled\": False\n",
    "        },\n",
    "        \"policyAndConditions\": event[\"policyAndConditions\"].split(\"\\n\") if event[\"policyAndConditions\"] else [],\n",
    "        \"frequentlyAskedQuestions\": []\n",
    "    }\n",
    "\n",
    "async def scrape_highape_event(url):\n",
    "    browser = await launch(headless=False, args=['--no-sandbox'])\n",
    "    page = await browser.newPage()\n",
    "    await page.setUserAgent('Mozilla/5.0')\n",
    "    await page.goto(url, {'waitUntil': 'networkidle2', 'timeout': 60000})\n",
    "    await asyncio.sleep(5)\n",
    "    raw_html = await page.content()\n",
    "    await browser.close()\n",
    "\n",
    "    soup = BeautifulSoup(raw_html, 'html.parser')\n",
    "    event = create_empty_event()\n",
    "    event['externalEventLink'] = url\n",
    "    event['rawHtml'] = raw_html  # for .json file\n",
    "\n",
    "    def sel(selector): return soup.select_one(selector)\n",
    "    def txt(selector): return sel(selector).get_text(strip=True) if sel(selector) else ''\n",
    "    def href(selector): return sel(selector)['href'] if sel(selector) else ''\n",
    "\n",
    "    event['eventName'] = txt('h1.mob-event-name-heading') or txt('h1.event-name-heading')\n",
    "    venue_full = txt('h2.mob-venue-name-details-event') or txt('h2.venue-name-details-event')\n",
    "    event['venueName'] = re.sub(r'^.*?-\\s*', '', venue_full)\n",
    "    event['eventDescription'] = txt('#desc .event-content-div')\n",
    "    event['eventDateAndTime'] = txt('div.quick_look_divs:nth-child(2) span.details')\n",
    "    event['ticketAmount'] = txt('div.quick_look_divs:nth-child(3) span.details')\n",
    "    event['ticketLink'] = href('a#book_thru_me')\n",
    "    event['category'] = ', '.join([e.get_text(strip=True) for e in soup.select('div.quick_look_divs h4.category_text')])\n",
    "    event['artists'] = ', '.join([e.get_text(strip=True) for e in soup.select('#artist h3')])\n",
    "    event['highlightImages'] = sel('#image_carousel_web img.img-background-events')['src'] if sel('#image_carousel_web img.img-background-events') else ''\n",
    "\n",
    "    address = txt('#venue .address p')\n",
    "    event['address'] = address\n",
    "    zip_match = re.search(r'\\b(\\d{6})\\b', address)\n",
    "    if zip_match: event['zipcode'] = zip_match.group(1)\n",
    "    parts = re.findall(r'[A-Za-z]+', address)\n",
    "    if len(parts) >= 4:\n",
    "        event['locality'] = parts[-4]\n",
    "        event['city'] = parts[-3]\n",
    "        event['state'] = parts[-2]\n",
    "\n",
    "    event['lat'] = sel('#venue_lat')['value'] if sel('#venue_lat') else ''\n",
    "    event['lon'] = sel('#venue_lng')['value'] if sel('#venue_lng') else ''\n",
    "    event['geolocation'] = f\"{event['lat']},{event['lon']}\"\n",
    "\n",
    "    # Terms\n",
    "    terms = soup.select('#tnc ul li')\n",
    "    event['policyAndConditions'] = '\\n'.join([f\"{i+1}. {t.get_text(strip=True)}\" for i, t in enumerate(terms)])\n",
    "    for t in terms:\n",
    "        txt_lower = t.get_text().lower()\n",
    "        if '21+' in txt_lower: event['minimumAge'] = \"21\"\n",
    "        if 'alcohol' in txt_lower: event['alcoholServed'] = 'Yes'\n",
    "        if 'smoking' in txt_lower: event['smokingAllowed'] = 'Yes'\n",
    "        if 'parking' in txt_lower: event['parkingAvailable'] = 'Yes'\n",
    "        if 'food' in txt_lower: event['foodAvailable'] = 'Yes'\n",
    "        if 'wheelchair' in txt_lower: event['wheelchairAccess'] = 'Yes'\n",
    "\n",
    "    return event\n",
    "\n",
    "async def main():\n",
    "    url = input(\"🔗 Enter HighApe event URL: \").strip()\n",
    "    event = await scrape_highape_event(url)\n",
    "\n",
    "    # Save rawHtml to JSON file\n",
    "    json_file = os.path.join(OUTPUT_DIR, f\"event_{event['eventId']}.json\")\n",
    "    with open(json_file, 'w', encoding='utf-8') as f:\n",
    "        json.dump({\n",
    "            \"eventId\": event['eventId'],\n",
    "            \"externalEventLink\": event['externalEventLink'],\n",
    "            \"rawHtml\": event['rawHtml']\n",
    "        }, f, ensure_ascii=False, indent=2)\n",
    "    event['jsonFilePath'] = json_file\n",
    "\n",
    "    # Build structured JSON and inject into CSV\n",
    "    plur_json = build_plur_json(event)\n",
    "    event['Plur_json_format'] = json.dumps(plur_json, ensure_ascii=False)\n",
    "\n",
    "    # Remove rawHtml from the CSV row\n",
    "    del event['rawHtml']\n",
    "\n",
    "    # Save CSV\n",
    "    df = pd.DataFrame([event])\n",
    "    df.to_csv(\"highape_event_output.csv\", index=False, quoting=1)\n",
    "    print(\"✅ CSV saved as: highape_event_output.csv\")\n",
    "    print(f\"✅ JSON with raw HTML saved as: {json_file}\")\n",
    "\n",
    "if __name__ == \"__main__\":\n",
    "    asyncio.get_event_loop().run_until_complete(main())\n"
   ]
  },
  {
   "cell_type": "code",
   "execution_count": null,
   "id": "7b86fdef-d2f4-4682-b9b3-90ed87657821",
   "metadata": {},
   "outputs": [],
   "source": []
  },
  {
   "cell_type": "code",
   "execution_count": 31,
   "id": "1fccbbe5-71d0-4019-833d-2553f199b2f2",
   "metadata": {},
   "outputs": [
    {
     "name": "stdin",
     "output_type": "stream",
     "text": [
      "📄 Enter the input CSV file name:  /Users/shiv/Documents/Jupyter/HighApe/highape_all_events_bangalore_mumbai_hyderabad_ncr_pune_goa_20250607_143542.csv\n",
      "🔍 Enter the column name containing event links:  event_link\n"
     ]
    },
    {
     "name": "stdout",
     "output_type": "stream",
     "text": [
      "🚀 Starting to scrape 5 events...\n",
      "\n",
      "\n",
      "✅ Scraping completed. CSV saved as: highape_events_enriched_20250607_154906.csv\n",
      "📊 Summary: 5 succeeded, 0 failed out of 5\n"
     ]
    }
   ],
   "source": [
    "import pandas as pd\n",
    "import uuid\n",
    "import asyncio\n",
    "import nest_asyncio\n",
    "import re\n",
    "import json\n",
    "import os\n",
    "from datetime import datetime\n",
    "from pyppeteer import launch\n",
    "from bs4 import BeautifulSoup\n",
    "\n",
    "nest_asyncio.apply()\n",
    "\n",
    "OUTPUT_DIR = \"event_json_files\"\n",
    "os.makedirs(OUTPUT_DIR, exist_ok=True)\n",
    "\n",
    "SUMMARY = {\n",
    "    \"total\": 0,\n",
    "    \"success\": 0,\n",
    "    \"failed\": 0,\n",
    "    \"failed_links\": []\n",
    "}\n",
    "\n",
    "def create_empty_event():\n",
    "    return {\n",
    "        'externalEventLink': '', 'eventId': str(uuid.uuid4()), 'plurEventLink': '',\n",
    "        'eventName': '', 'eventDescription': '', 'eventDateAndTime': '', 'eventDuration': '',\n",
    "        'venueName': '', 'locality': '', 'address': '', 'zipcode': '', 'lat': '', 'lon': '',\n",
    "        'ticketAmount': '', 'guestlistInfo': '', 'ticketLink': '', 'supportedLanguages': '',\n",
    "        'category': '', 'recurrence': '', 'attendeesCount': '', 'joinChatDetails': '',\n",
    "        'policyAndConditions': '', 'frequentlyAskedQuestions': '', 'city': '', 'state': '',\n",
    "        'geolocation': '', 'isRecurring': 'No', 'pattern': '', 'eventType': '', 'subCategory': '',\n",
    "        'venueId': '', 'foodAvailable': '', 'smokingAllowed': '', 'wheelchairAccess': '',\n",
    "        'parkingAvailable': '', 'supportAvailable': '', 'layout': '', 'petFriendly': False,\n",
    "        'alcoholServed': '', 'minimumAge': '', 'ticketsAtVenue': '', 'prohibitedItemList': '',\n",
    "        'washroomAvailable': '', 'onlineMenu': '', 'happyHours': '', 'danceFloorAvailable': '',\n",
    "        'poolAvailable': '', 'isActivityAvailable': '', 'artists': '', 'highlightImages': '',\n",
    "        'highlightVideos': '', 'galleryImages': '', 'galleryVideos': '', 'kidFriendly': False,\n",
    "        'seatingArrangement': '', 'entryAllowedFor': '', 'tags': '',\n",
    "        'Plur_json_format': '', 'jsonFilePath': ''\n",
    "    }\n",
    "\n",
    "def build_plur_json(event):\n",
    "    def to_int(val): return int(val) if str(val).isdigit() else 0\n",
    "    def to_float(val): return float(val) if re.match(r'^-?\\d+(?:\\.\\d+)?$', str(val)) else None\n",
    "\n",
    "    return {\n",
    "        \"eventName\": event[\"eventName\"],\n",
    "        \"eventDescription\": event[\"eventDescription\"],\n",
    "        \"eventDateAndTime\": event[\"eventDateAndTime\"],\n",
    "        \"eventDuration\": to_int(event[\"eventDuration\"]),\n",
    "        \"venue\": {\n",
    "            \"venueName\": event[\"venueName\"],\n",
    "            \"locality\": event[\"locality\"],\n",
    "            \"address\": event[\"address\"],\n",
    "            \"city\": event[\"city\"],\n",
    "            \"state\": event[\"state\"],\n",
    "            \"zipcode\": event[\"zipcode\"],\n",
    "            \"geolocation\": {\n",
    "                \"lat\": to_float(event[\"lat\"]),\n",
    "                \"lon\": to_float(event[\"lon\"]),\n",
    "            },\n",
    "            \"layout\": event.get(\"layout\", \"\")\n",
    "        },\n",
    "        \"highlightImageLinks\": [event[\"highlightImages\"]] if event[\"highlightImages\"] else [],\n",
    "        \"galleryImageLinks\": [event[\"highlightImages\"]] if event[\"highlightImages\"] else [],\n",
    "        \"ticketAmount\": to_int(event[\"ticketAmount\"]),\n",
    "        \"ticketLink\": event[\"ticketLink\"],\n",
    "        \"supportedLanguages\": [\"English\"],\n",
    "        \"category\": event[\"category\"],\n",
    "        \"subCategory\": event[\"subCategory\"],\n",
    "        \"eventType\": event[\"eventType\"],\n",
    "        \"eventFeatures\": {\n",
    "            \"foodAvailable\": event[\"foodAvailable\"] == \"Yes\",\n",
    "            \"smokingAllowed\": event[\"smokingAllowed\"] == \"Yes\",\n",
    "            \"wheelchairAccess\": event[\"wheelchairAccess\"] == \"Yes\",\n",
    "            \"parkingAvailable\": event[\"parkingAvailable\"] == \"Yes\",\n",
    "            \"supportAvailable\": event[\"supportAvailable\"] == \"Yes\",\n",
    "            \"petFriendly\": event[\"petFriendly\"],\n",
    "            \"alcoholServed\": event[\"alcoholServed\"] == \"Yes\",\n",
    "            \"minimumAge\": to_int(event[\"minimumAge\"]),\n",
    "            \"ticketsAtVenue\": event[\"ticketsAtVenue\"] == \"Yes\",\n",
    "            \"washroomAvailable\": event[\"washroomAvailable\"] == \"Yes\",\n",
    "            \"danceFloorAvailable\": event[\"danceFloorAvailable\"] == \"Yes\",\n",
    "            \"poolAvailable\": event[\"poolAvailable\"] == \"Yes\"\n",
    "        },\n",
    "        \"artists\": event[\"artists\"].split(\", \") if event[\"artists\"] else [],\n",
    "        \"sharableEventOgImageLink\": event[\"highlightImages\"],\n",
    "        \"attendeesCount\": to_int(event[\"attendeesCount\"]),\n",
    "        \"likesCount\": 0,\n",
    "        \"joinChatDetails\": {\n",
    "            \"joinChatLink\": \"\",\n",
    "            \"provider\": \"\",\n",
    "            \"isEnabled\": False\n",
    "        },\n",
    "        \"policyAndConditions\": event[\"policyAndConditions\"].split(\"\\n\") if event[\"policyAndConditions\"] else [],\n",
    "        \"frequentlyAskedQuestions\": []\n",
    "    }\n",
    "\n",
    "async def scrape_highape_event(url):\n",
    "    event = create_empty_event()\n",
    "    event['externalEventLink'] = url\n",
    "    try:\n",
    "        browser = await launch(headless=False, args=['--no-sandbox'])\n",
    "        page = await browser.newPage()\n",
    "        await page.setUserAgent('Mozilla/5.0')\n",
    "        await page.goto(url, {'waitUntil': 'domcontentloaded', 'timeout': 60000})\n",
    "        await asyncio.sleep(5)\n",
    "        raw_html = await page.content()\n",
    "        await browser.close()\n",
    "\n",
    "        soup = BeautifulSoup(raw_html, 'html.parser')\n",
    "        event['rawHtml'] = raw_html\n",
    "\n",
    "        def sel(selector): return soup.select_one(selector)\n",
    "        def txt(selector): return sel(selector).get_text(strip=True) if sel(selector) else ''\n",
    "        def href(selector): return sel(selector)['href'] if sel(selector) else ''\n",
    "\n",
    "        event['eventName'] = txt('h1.mob-event-name-heading') or txt('h1.event-name-heading')\n",
    "        venue_full = txt('h2.mob-venue-name-details-event') or txt('h2.venue-name-details-event')\n",
    "        event['venueName'] = re.sub(r'^.*?-\\s*', '', venue_full)\n",
    "        event['eventDescription'] = txt('#desc .event-content-div')\n",
    "        event['eventDateAndTime'] = txt('div.quick_look_divs:nth-child(2) span.details')\n",
    "        event['ticketAmount'] = txt('div.quick_look_divs:nth-child(3) span.details') or 'Free Entry'\n",
    "        event['ticketLink'] = href('a#book_thru_me')\n",
    "        event['category'] = ', '.join([e.get_text(strip=True) for e in soup.select('div.quick_look_divs h4.category_text')])\n",
    "        event['artists'] = ', '.join([e.get_text(strip=True) for e in soup.select('#artist h3')])\n",
    "        event['highlightImages'] = sel('#image_carousel_web img.img-background-events')['src'] if sel('#image_carousel_web img.img-background-events') else ''\n",
    "\n",
    "        address = txt('#venue .address p')\n",
    "        event['address'] = address\n",
    "        zip_match = re.search(r'\\b(\\d{6})\\b', address)\n",
    "        if zip_match: event['zipcode'] = zip_match.group(1)\n",
    "        parts = re.findall(r'[A-Za-z]+', address)\n",
    "        if len(parts) >= 4:\n",
    "            event['locality'] = parts[-4]\n",
    "            event['city'] = parts[-3]\n",
    "            event['state'] = parts[-2]\n",
    "\n",
    "        event['lat'] = sel('#venue_lat')['value'] if sel('#venue_lat') else ''\n",
    "        event['lon'] = sel('#venue_lng')['value'] if sel('#venue_lng') else ''\n",
    "        event['geolocation'] = f\"{event['lat']},{event['lon']}\"\n",
    "\n",
    "        terms = soup.select('#tnc ul li')\n",
    "        event['policyAndConditions'] = '\\n'.join([f\"{i+1}. {t.get_text(strip=True)}\" for i, t in enumerate(terms)])\n",
    "        for t in terms:\n",
    "            txt_lower = t.get_text().lower()\n",
    "            if '21+' in txt_lower: event['minimumAge'] = \"21\"\n",
    "            if 'alcohol' in txt_lower: event['alcoholServed'] = 'Yes'\n",
    "            if 'smoking' in txt_lower: event['smokingAllowed'] = 'Yes'\n",
    "            if 'parking' in txt_lower: event['parkingAvailable'] = 'Yes'\n",
    "            if 'food' in txt_lower: event['foodAvailable'] = 'Yes'\n",
    "            if 'wheelchair' in txt_lower: event['wheelchairAccess'] = 'Yes'\n",
    "\n",
    "        json_file = os.path.join(OUTPUT_DIR, f\"event_{event['eventId']}.json\")\n",
    "        with open(json_file, 'w', encoding='utf-8') as f:\n",
    "            json.dump({\"eventId\": event['eventId'], \"externalEventLink\": url, \"rawHtml\": raw_html}, f, indent=2)\n",
    "        event['jsonFilePath'] = json_file\n",
    "\n",
    "        plur_json = build_plur_json(event)\n",
    "        event['Plur_json_format'] = json.dumps(plur_json, ensure_ascii=False, indent=2)\n",
    "\n",
    "        del event['rawHtml']\n",
    "        SUMMARY[\"success\"] += 1\n",
    "        return event\n",
    "    except Exception as e:\n",
    "        SUMMARY[\"failed\"] += 1\n",
    "        SUMMARY[\"failed_links\"].append(url)\n",
    "        print(f\"❌ Failed to scrape: {url}\\n{e}\")\n",
    "        return None\n",
    "\n",
    "async def main():\n",
    "    input_csv = input(\"📄 Enter the input CSV file name: \").strip()\n",
    "    column_name = input(\"🔍 Enter the column name containing event links: \").strip()\n",
    "\n",
    "    if not os.path.exists(input_csv):\n",
    "        print(f\"❌ File not found: {input_csv}\")\n",
    "        return\n",
    "\n",
    "    df_links = pd.read_csv(input_csv)\n",
    "    if column_name not in df_links.columns:\n",
    "        print(f\"❌ Column '{column_name}' not found in CSV\")\n",
    "        return\n",
    "\n",
    "    urls = df_links[column_name].dropna().unique()[:5]  # Limit to first 5 for test\n",
    "    SUMMARY[\"total\"] = len(urls)\n",
    "    print(f\"🚀 Starting to scrape {len(urls)} events...\\n\")\n",
    "\n",
    "    enriched_events = []\n",
    "    for url in urls:\n",
    "        event = await scrape_highape_event(url)\n",
    "        if event:\n",
    "            enriched_events.append(event)\n",
    "\n",
    "    timestamp = datetime.now().strftime(\"%Y%m%d_%H%M%S\")\n",
    "    output_csv = f\"highape_events_enriched_{timestamp}.csv\"\n",
    "    pd.DataFrame(enriched_events).to_csv(output_csv, index=False, quoting=1)\n",
    "\n",
    "    print(f\"\\n✅ Scraping completed. CSV saved as: {output_csv}\")\n",
    "    print(f\"📊 Summary: {SUMMARY['success']} succeeded, {SUMMARY['failed']} failed out of {SUMMARY['total']}\")\n",
    "    if SUMMARY['failed']:\n",
    "        print(\"❗ Failed links:\")\n",
    "        for link in SUMMARY['failed_links']:\n",
    "            print(f\"- {link}\")\n",
    "\n",
    "if __name__ == \"__main__\":\n",
    "    asyncio.get_event_loop().run_until_complete(main())\n"
   ]
  },
  {
   "cell_type": "code",
   "execution_count": null,
   "id": "805a5be6-8b95-4acf-a57e-73de4ee7d243",
   "metadata": {},
   "outputs": [],
   "source": []
  },
  {
   "cell_type": "code",
   "execution_count": 35,
   "id": "c0dbf8fc-d489-4aa9-8e59-8cbc7073db57",
   "metadata": {},
   "outputs": [
    {
     "name": "stdin",
     "output_type": "stream",
     "text": [
      "📄 Enter the input CSV file name:  /Users/shiv/Documents/Jupyter/HighApe/highape_all_events_bangalore_mumbai_hyderabad_ncr_pune_goa_20250607_143542.csv\n",
      "🔍 Enter the column name containing event links:  event_link\n"
     ]
    },
    {
     "name": "stdout",
     "output_type": "stream",
     "text": [
      "🚀 Starting to scrape 5 events...\n",
      "\n"
     ]
    }
   ],
   "source": [
    "import pandas as pd\n",
    "import uuid\n",
    "import asyncio\n",
    "import nest_asyncio\n",
    "import re\n",
    "import json\n",
    "import os\n",
    "from datetime import datetime, timedelta\n",
    "from pyppeteer import launch\n",
    "from bs4 import BeautifulSoup\n",
    "\n",
    "nest_asyncio.apply()\n",
    "\n",
    "OUTPUT_DIR = \"event_json_files\"\n",
    "os.makedirs(OUTPUT_DIR, exist_ok=True)\n",
    "\n",
    "SUMMARY = {\n",
    "    \"total\": 0,\n",
    "    \"success\": 0,\n",
    "    \"failed\": 0,\n",
    "    \"failed_links\": []\n",
    "}\n",
    "\n",
    "ALL_PLUR_JSONS = []\n",
    "\n",
    "def create_empty_event():\n",
    "    return {\n",
    "        'externalEventLink': '', 'eventId': str(uuid.uuid4()), 'plurEventLink': '',\n",
    "        'eventName': '', 'eventDescription': '', 'eventDateAndTime': '', 'eventDuration': '',\n",
    "        'venueName': '', 'locality': '', 'address': '', 'zipcode': '', 'lat': '', 'lon': '',\n",
    "        'ticketAmount': '', 'guestlistInfo': '', 'ticketLink': '', 'supportedLanguages': '',\n",
    "        'category': '', 'recurrence': '', 'attendeesCount': '', 'joinChatDetails': '',\n",
    "        'policyAndConditions': '', 'frequentlyAskedQuestions': '', 'city': '', 'state': '',\n",
    "        'geolocation': '', 'isRecurring': 'No', 'pattern': '', 'eventType': '', 'subCategory': '',\n",
    "        'venueId': '', 'foodAvailable': '', 'smokingAllowed': '', 'wheelchairAccess': '',\n",
    "        'parkingAvailable': '', 'supportAvailable': '', 'layout': '', 'petFriendly': False,\n",
    "        'alcoholServed': '', 'minimumAge': '', 'ticketsAtVenue': '', 'prohibitedItemList': '',\n",
    "        'washroomAvailable': '', 'onlineMenu': '', 'happyHours': '', 'danceFloorAvailable': '',\n",
    "        'poolAvailable': '', 'isActivityAvailable': '', 'artists': '', 'highlightImages': '',\n",
    "        'highlightVideos': '', 'galleryImages': '', 'galleryVideos': '', 'kidFriendly': False,\n",
    "        'seatingArrangement': '', 'entryAllowedFor': '', 'tags': '',\n",
    "        'Plur_json_format': '', 'jsonFilePath': ''\n",
    "    }\n",
    "\n",
    "def build_plur_json(event):\n",
    "    def to_int(val): return int(val) if str(val).isdigit() else 0\n",
    "    def to_float(val): return float(val) if re.match(r'^-?\\d+(?:\\.\\d+)?$', str(val)) else None\n",
    "\n",
    "    return {\n",
    "        \"eventName\": event[\"eventName\"],\n",
    "        \"eventDescription\": event[\"eventDescription\"],\n",
    "        \"eventDateAndTime\": event[\"eventDateAndTime\"],\n",
    "        \"eventDuration\": to_int(event[\"eventDuration\"]),\n",
    "        \"venue\": {\n",
    "            \"venueName\": event[\"venueName\"],\n",
    "            \"locality\": event[\"locality\"],\n",
    "            \"address\": event[\"address\"],\n",
    "            \"city\": event[\"city\"],\n",
    "            \"state\": event[\"state\"],\n",
    "            \"zipcode\": event[\"zipcode\"],\n",
    "            \"geolocation\": {\n",
    "                \"lat\": to_float(event[\"lat\"]),\n",
    "                \"lon\": to_float(event[\"lon\"]),\n",
    "            },\n",
    "            \"layout\": event.get(\"layout\", \"\")\n",
    "        },\n",
    "        \"highlightImageLinks\": [event[\"highlightImages\"]] if event[\"highlightImages\"] else [],\n",
    "        \"galleryImageLinks\": [event[\"highlightImages\"]] if event[\"highlightImages\"] else [],\n",
    "        \"ticketAmount\": to_int(event[\"ticketAmount\"]),\n",
    "        \"ticketLink\": event[\"ticketLink\"],\n",
    "        \"supportedLanguages\": [\"English\"],\n",
    "        \"category\": event[\"category\"],\n",
    "        \"subCategory\": event[\"subCategory\"],\n",
    "        \"eventType\": event[\"eventType\"],\n",
    "        \"eventFeatures\": {\n",
    "            \"foodAvailable\": event[\"foodAvailable\"] == \"Yes\",\n",
    "            \"smokingAllowed\": event[\"smokingAllowed\"] == \"Yes\",\n",
    "            \"wheelchairAccess\": event[\"wheelchairAccess\"] == \"Yes\",\n",
    "            \"parkingAvailable\": event[\"parkingAvailable\"] == \"Yes\",\n",
    "            \"supportAvailable\": event[\"supportAvailable\"] == \"Yes\",\n",
    "            \"petFriendly\": event[\"petFriendly\"],\n",
    "            \"alcoholServed\": event[\"alcoholServed\"] == \"Yes\",\n",
    "            \"minimumAge\": to_int(event[\"minimumAge\"]),\n",
    "            \"ticketsAtVenue\": event[\"ticketsAtVenue\"] == \"Yes\",\n",
    "            \"washroomAvailable\": event[\"washroomAvailable\"] == \"Yes\",\n",
    "            \"danceFloorAvailable\": event[\"danceFloorAvailable\"] == \"Yes\",\n",
    "            \"poolAvailable\": event[\"poolAvailable\"] == \"Yes\"\n",
    "        },\n",
    "        \"artists\": event[\"artists\"].split(\", \") if event[\"artists\"] else [],\n",
    "        \"sharableEventOgImageLink\": event[\"highlightImages\"],\n",
    "        \"attendeesCount\": to_int(event[\"attendeesCount\"]),\n",
    "        \"likesCount\": 0,\n",
    "        \"joinChatDetails\": {\n",
    "            \"joinChatLink\": \"\",\n",
    "            \"provider\": \"\",\n",
    "            \"isEnabled\": False\n",
    "        },\n",
    "        \"policyAndConditions\": event[\"policyAndConditions\"].split(\"\\n\") if event[\"policyAndConditions\"] else [],\n",
    "        \"frequentlyAskedQuestions\": []\n",
    "    }\n",
    "\n",
    "def parse_event_duration(text):\n",
    "    try:\n",
    "        date_time_match = re.search(r'(\\d{1,2} \\w+)(?: - (\\d{1,2} \\w+))?(?: \\| (\\d{1,2}:\\d{2} [APMapm]{2}))?', text)\n",
    "        if not date_time_match:\n",
    "            return text, ''\n",
    "\n",
    "        start_date = date_time_match.group(1)\n",
    "        end_date = date_time_match.group(2) or start_date\n",
    "        time_str = date_time_match.group(3) or \"6:00 PM\"\n",
    "\n",
    "        now_year = datetime.now().year\n",
    "        start = datetime.strptime(f\"{start_date} {now_year} {time_str}\", \"%d %B %Y %I:%M %p\")\n",
    "        end = datetime.strptime(f\"{end_date} {now_year} {time_str}\", \"%d %B %Y %I:%M %p\")\n",
    "        duration_ms = int((end - start).total_seconds() * 1000)\n",
    "        iso_str = start.isoformat() + \"Z\"\n",
    "        return iso_str, str(duration_ms)\n",
    "    except Exception:\n",
    "        return text, ''\n",
    "\n",
    "async def save_event_json_batch():\n",
    "    timestamp = datetime.now().strftime(\"%Y%m%d_%H%M%S\")\n",
    "    output_path = f\"highape_events_structured_{timestamp}.json\"\n",
    "    with open(output_path, \"w\", encoding=\"utf-8\") as f:\n",
    "        json.dump(ALL_PLUR_JSONS, f, ensure_ascii=False, indent=2)\n",
    "    print(f\"📦 Batch structured JSON saved as: {output_path}\")\n",
    "\n",
    "\n",
    "async def main():\n",
    "    input_csv = input(\"📄 Enter the input CSV file name: \").strip()\n",
    "    column_name = input(\"🔍 Enter the column name containing event links: \").strip()\n",
    "\n",
    "    if not os.path.exists(input_csv):\n",
    "        print(f\"❌ File not found: {input_csv}\")\n",
    "        return\n",
    "\n",
    "    df_links = pd.read_csv(input_csv)\n",
    "    if column_name not in df_links.columns:\n",
    "        print(f\"❌ Column '{column_name}' not found in CSV\")\n",
    "        return\n",
    "\n",
    "    urls = df_links[column_name].dropna().unique()[:5]\n",
    "    SUMMARY[\"total\"] = len(urls)\n",
    "    print(f\"🚀 Starting to scrape {len(urls)} events...\\n\")\n",
    "\n",
    "    # You would call your scraping function here, and store results into ALL_PLUR_JSONS\n",
    "    # Then call save_event_json_batch() at the end\n",
    "\n",
    "if __name__ == \"__main__\":\n",
    "    asyncio.get_event_loop().run_until_complete(main())\n"
   ]
  },
  {
   "cell_type": "code",
   "execution_count": 37,
   "id": "23351ff3-35b6-4cb2-80fb-de45d506ced7",
   "metadata": {},
   "outputs": [
    {
     "name": "stdin",
     "output_type": "stream",
     "text": [
      "📄 Enter the input CSV file name:  /Users/shiv/Documents/Jupyter/HighApe/highape_all_events_bangalore_mumbai_hyderabad_ncr_pune_goa_20250607_143542.csv\n",
      "🔍 Enter the column name containing event links:  event_link\n"
     ]
    },
    {
     "name": "stdout",
     "output_type": "stream",
     "text": [
      "🚀 Starting to scrape 5 events...\n",
      "\n",
      "📦 Batch structured JSON saved as: highape_events_structured_20250607_160657.json\n",
      "\n",
      "✅ Scraping completed.\n",
      "📊 Summary: 5 succeeded, 0 failed out of 5\n"
     ]
    }
   ],
   "source": [
    "import pandas as pd\n",
    "import uuid\n",
    "import asyncio\n",
    "import nest_asyncio\n",
    "import re\n",
    "import json\n",
    "import os\n",
    "from datetime import datetime, timedelta\n",
    "from pyppeteer import launch\n",
    "from bs4 import BeautifulSoup\n",
    "\n",
    "nest_asyncio.apply()\n",
    "\n",
    "OUTPUT_DIR = \"event_json_files\"\n",
    "os.makedirs(OUTPUT_DIR, exist_ok=True)\n",
    "\n",
    "SUMMARY = {\n",
    "    \"total\": 0,\n",
    "    \"success\": 0,\n",
    "    \"failed\": 0,\n",
    "    \"failed_links\": []\n",
    "}\n",
    "\n",
    "ALL_PLUR_JSONS = []\n",
    "\n",
    "def create_empty_event():\n",
    "    return {\n",
    "        'externalEventLink': '', 'eventId': str(uuid.uuid4()), 'plurEventLink': '',\n",
    "        'eventName': '', 'eventDescription': '', 'eventDateAndTime': '', 'eventDuration': '',\n",
    "        'venueName': '', 'locality': '', 'address': '', 'zipcode': '', 'lat': '', 'lon': '',\n",
    "        'ticketAmount': '', 'guestlistInfo': '', 'ticketLink': '', 'supportedLanguages': '',\n",
    "        'category': '', 'recurrence': '', 'attendeesCount': '', 'joinChatDetails': '',\n",
    "        'policyAndConditions': '', 'frequentlyAskedQuestions': '', 'city': '', 'state': '',\n",
    "        'geolocation': '', 'isRecurring': 'No', 'pattern': '', 'eventType': '', 'subCategory': '',\n",
    "        'venueId': '', 'foodAvailable': '', 'smokingAllowed': '', 'wheelchairAccess': '',\n",
    "        'parkingAvailable': '', 'supportAvailable': '', 'layout': '', 'petFriendly': False,\n",
    "        'alcoholServed': '', 'minimumAge': '', 'ticketsAtVenue': '', 'prohibitedItemList': '',\n",
    "        'washroomAvailable': '', 'onlineMenu': '', 'happyHours': '', 'danceFloorAvailable': '',\n",
    "        'poolAvailable': '', 'isActivityAvailable': '', 'artists': '', 'highlightImages': '',\n",
    "        'highlightVideos': '', 'galleryImages': '', 'galleryVideos': '', 'kidFriendly': False,\n",
    "        'seatingArrangement': '', 'entryAllowedFor': '', 'tags': '',\n",
    "        'Plur_json_format': '', 'jsonFilePath': ''\n",
    "    }\n",
    "\n",
    "def build_plur_json(event):\n",
    "    def to_int(val): return int(val) if str(val).isdigit() else 0\n",
    "    def to_float(val): return float(val) if re.match(r'^-?\\d+(?:\\.\\d+)?$', str(val)) else None\n",
    "\n",
    "    return {\n",
    "        \"eventName\": event[\"eventName\"],\n",
    "        \"eventDescription\": event[\"eventDescription\"],\n",
    "        \"eventDateAndTime\": event[\"eventDateAndTime\"],\n",
    "        \"eventDuration\": to_int(event[\"eventDuration\"]),\n",
    "        \"venue\": {\n",
    "            \"venueName\": event[\"venueName\"],\n",
    "            \"locality\": event[\"locality\"],\n",
    "            \"address\": event[\"address\"],\n",
    "            \"city\": event[\"city\"],\n",
    "            \"state\": event[\"state\"],\n",
    "            \"zipcode\": event[\"zipcode\"],\n",
    "            \"geolocation\": {\n",
    "                \"lat\": to_float(event[\"lat\"]),\n",
    "                \"lon\": to_float(event[\"lon\"]),\n",
    "            },\n",
    "            \"layout\": event.get(\"layout\", \"\")\n",
    "        },\n",
    "        \"highlightImageLinks\": [event[\"highlightImages\"]] if event[\"highlightImages\"] else [],\n",
    "        \"galleryImageLinks\": [event[\"highlightImages\"]] if event[\"highlightImages\"] else [],\n",
    "        \"ticketAmount\": to_int(event[\"ticketAmount\"]),\n",
    "        \"ticketLink\": event[\"ticketLink\"],\n",
    "        \"supportedLanguages\": [\"English\"],\n",
    "        \"category\": event[\"category\"],\n",
    "        \"subCategory\": event[\"subCategory\"],\n",
    "        \"eventType\": event[\"eventType\"],\n",
    "        \"eventFeatures\": {\n",
    "            \"foodAvailable\": event[\"foodAvailable\"] == \"Yes\",\n",
    "            \"smokingAllowed\": event[\"smokingAllowed\"] == \"Yes\",\n",
    "            \"wheelchairAccess\": event[\"wheelchairAccess\"] == \"Yes\",\n",
    "            \"parkingAvailable\": event[\"parkingAvailable\"] == \"Yes\",\n",
    "            \"supportAvailable\": event[\"supportAvailable\"] == \"Yes\",\n",
    "            \"petFriendly\": event[\"petFriendly\"],\n",
    "            \"alcoholServed\": event[\"alcoholServed\"] == \"Yes\",\n",
    "            \"minimumAge\": to_int(event[\"minimumAge\"]),\n",
    "            \"ticketsAtVenue\": event[\"ticketsAtVenue\"] == \"Yes\",\n",
    "            \"washroomAvailable\": event[\"washroomAvailable\"] == \"Yes\",\n",
    "            \"danceFloorAvailable\": event[\"danceFloorAvailable\"] == \"Yes\",\n",
    "            \"poolAvailable\": event[\"poolAvailable\"] == \"Yes\"\n",
    "        },\n",
    "        \"artists\": event[\"artists\"].split(\", \") if event[\"artists\"] else [],\n",
    "        \"sharableEventOgImageLink\": event[\"highlightImages\"],\n",
    "        \"attendeesCount\": to_int(event[\"attendeesCount\"]),\n",
    "        \"likesCount\": 0,\n",
    "        \"joinChatDetails\": {\n",
    "            \"joinChatLink\": \"\",\n",
    "            \"provider\": \"\",\n",
    "            \"isEnabled\": False\n",
    "        },\n",
    "        \"policyAndConditions\": event[\"policyAndConditions\"].split(\"\\n\") if event[\"policyAndConditions\"] else [],\n",
    "        \"frequentlyAskedQuestions\": []\n",
    "    }\n",
    "\n",
    "def parse_event_duration(text):\n",
    "    try:\n",
    "        date_time_match = re.search(r'(\\d{1,2} \\w+)(?: - (\\d{1,2} \\w+))?(?: \\| (\\d{1,2}:\\d{2} [APMapm]{2}))?', text)\n",
    "        if not date_time_match:\n",
    "            return text, ''\n",
    "\n",
    "        start_date = date_time_match.group(1)\n",
    "        end_date = date_time_match.group(2) or start_date\n",
    "        time_str = date_time_match.group(3) or \"6:00 PM\"\n",
    "\n",
    "        now_year = datetime.now().year\n",
    "        start = datetime.strptime(f\"{start_date} {now_year} {time_str}\", \"%d %B %Y %I:%M %p\")\n",
    "        end = datetime.strptime(f\"{end_date} {now_year} {time_str}\", \"%d %B %Y %I:%M %p\")\n",
    "        duration_ms = int((end - start).total_seconds() * 1000)\n",
    "        iso_str = start.isoformat() + \"Z\"\n",
    "        return iso_str, str(duration_ms)\n",
    "    except Exception:\n",
    "        return text, ''\n",
    "\n",
    "async def scrape_highape_event(url):\n",
    "    event = create_empty_event()\n",
    "    event['externalEventLink'] = url\n",
    "    try:\n",
    "        browser = await launch(headless=False, args=['--no-sandbox'])\n",
    "        page = await browser.newPage()\n",
    "        await page.setUserAgent('Mozilla/5.0')\n",
    "        await page.goto(url, {'waitUntil': 'domcontentloaded', 'timeout': 60000})\n",
    "        await asyncio.sleep(5)\n",
    "        raw_html = await page.content()\n",
    "        await browser.close()\n",
    "\n",
    "        # Place HTML parsing logic here and update event fields\n",
    "\n",
    "        iso_str, duration_ms = parse_event_duration(event.get(\"eventDateAndTime\", \"\"))\n",
    "        event[\"eventDateAndTime\"] = iso_str\n",
    "        event[\"eventDuration\"] = duration_ms\n",
    "\n",
    "        plur_json = build_plur_json(event)\n",
    "        event['Plur_json_format'] = json.dumps(plur_json, ensure_ascii=False, indent=2)\n",
    "        ALL_PLUR_JSONS.append(plur_json)\n",
    "\n",
    "        file_path = os.path.join(OUTPUT_DIR, f\"event_{event['eventId']}.json\")\n",
    "        event['jsonFilePath'] = file_path\n",
    "        with open(file_path, 'w', encoding='utf-8') as f:\n",
    "            json.dump({\"eventId\": event['eventId'], \"externalEventLink\": url, \"rawHtml\": raw_html}, f, indent=2)\n",
    "\n",
    "        SUMMARY[\"success\"] += 1\n",
    "        return event\n",
    "    except Exception as e:\n",
    "        SUMMARY[\"failed\"] += 1\n",
    "        SUMMARY[\"failed_links\"].append(url)\n",
    "        print(f\"❌ Failed to scrape: {url}\\n{e}\")\n",
    "        return None\n",
    "\n",
    "async def save_event_json_batch():\n",
    "    timestamp = datetime.now().strftime(\"%Y%m%d_%H%M%S\")\n",
    "    output_path = f\"highape_events_structured_{timestamp}.json\"\n",
    "    with open(output_path, \"w\", encoding=\"utf-8\") as f:\n",
    "        json.dump(ALL_PLUR_JSONS, f, ensure_ascii=False, indent=2)\n",
    "    print(f\"📦 Batch structured JSON saved as: {output_path}\")\n",
    "\n",
    "async def main():\n",
    "    input_csv = input(\"📄 Enter the input CSV file name: \").strip()\n",
    "    column_name = input(\"🔍 Enter the column name containing event links: \").strip()\n",
    "\n",
    "    if not os.path.exists(input_csv):\n",
    "        print(f\"❌ File not found: {input_csv}\")\n",
    "        return\n",
    "\n",
    "    df_links = pd.read_csv(input_csv)\n",
    "    if column_name not in df_links.columns:\n",
    "        print(f\"❌ Column '{column_name}' not found in CSV\")\n",
    "        return\n",
    "\n",
    "    urls = df_links[column_name].dropna().unique()[:5]\n",
    "    SUMMARY[\"total\"] = len(urls)\n",
    "    print(f\"🚀 Starting to scrape {len(urls)} events...\\n\")\n",
    "\n",
    "    for url in urls:\n",
    "        await scrape_highape_event(url)\n",
    "\n",
    "    await save_event_json_batch()\n",
    "\n",
    "    print(f\"\\n✅ Scraping completed.\")\n",
    "    print(f\"📊 Summary: {SUMMARY['success']} succeeded, {SUMMARY['failed']} failed out of {SUMMARY['total']}\")\n",
    "    if SUMMARY['failed']:\n",
    "        print(\"❗ Failed links:\")\n",
    "        for link in SUMMARY['failed_links']:\n",
    "            print(f\"- {link}\")\n",
    "\n",
    "if __name__ == \"__main__\":\n",
    "    asyncio.get_event_loop().run_until_complete(main())\n"
   ]
  },
  {
   "cell_type": "code",
   "execution_count": 39,
   "id": "6452476b-81e3-4986-8673-b2d0f2d4f185",
   "metadata": {},
   "outputs": [
    {
     "name": "stdin",
     "output_type": "stream",
     "text": [
      "📄 Enter the input CSV file name:  /Users/shiv/Documents/Jupyter/HighApe/highape_all_events_bangalore_mumbai_hyderabad_ncr_pune_goa_20250607_143542.csv\n",
      "🔍 Enter the column name containing event links:  event_link\n"
     ]
    },
    {
     "name": "stdout",
     "output_type": "stream",
     "text": [
      "🚀 Starting to scrape 356 events...\n",
      "\n",
      "❌ Failed to scrape: https://highape.com/bangalore/events/centigrade-club-nights-ft-axl-stace--7thjunepangeo-6nkPOpOVwL?utm_source=allevents_list\n",
      "Protocol Error (Runtime.callFunctionOn): Session closed. Most likely the page has been closed.\n",
      "\n",
      "✅ Scraping completed. CSV saved as: highape_events_enriched_20250607_171657.csv\n",
      "📊 Summary: 355 succeeded, 1 failed out of 356\n",
      "❗ Failed links:\n",
      "- https://highape.com/bangalore/events/centigrade-club-nights-ft-axl-stace--7thjunepangeo-6nkPOpOVwL?utm_source=allevents_list\n"
     ]
    }
   ],
   "source": [
    "import pandas as pd\n",
    "import uuid\n",
    "import asyncio\n",
    "import nest_asyncio\n",
    "import re\n",
    "import json\n",
    "import os\n",
    "from datetime import datetime, timedelta\n",
    "from pyppeteer import launch\n",
    "from bs4 import BeautifulSoup\n",
    "\n",
    "nest_asyncio.apply()\n",
    "\n",
    "RUN_TIMESTAMP = datetime.now().strftime(\"%Y%m%d_%H%M%S\")\n",
    "OUTPUT_DIR = f\"event_json_files/run_{RUN_TIMESTAMP}\"\n",
    "os.makedirs(OUTPUT_DIR, exist_ok=True)\n",
    "\n",
    "SUMMARY = {\n",
    "    \"total\": 0,\n",
    "    \"success\": 0,\n",
    "    \"failed\": 0,\n",
    "    \"failed_links\": []\n",
    "}\n",
    "\n",
    "ALL_PLUR_JSONS = []\n",
    "\n",
    "def create_empty_event():\n",
    "    return {\n",
    "        'externalEventLink': '', 'eventId': str(uuid.uuid4()), 'plurEventLink': '',\n",
    "        'eventName': '', 'eventDescription': '', 'eventDateAndTime': '', 'eventDuration': '',\n",
    "        'venueName': '', 'locality': '', 'address': '', 'zipcode': '', 'lat': '', 'lon': '',\n",
    "        'ticketAmount': '', 'guestlistInfo': '', 'ticketLink': '', 'supportedLanguages': '',\n",
    "        'category': '', 'recurrence': '', 'attendeesCount': '', 'joinChatDetails': '',\n",
    "        'policyAndConditions': '', 'frequentlyAskedQuestions': '', 'city': '', 'state': '',\n",
    "        'geolocation': '', 'isRecurring': 'No', 'pattern': '', 'eventType': '', 'subCategory': '',\n",
    "        'venueId': '', 'foodAvailable': '', 'smokingAllowed': '', 'wheelchairAccess': '',\n",
    "        'parkingAvailable': '', 'supportAvailable': '', 'layout': '', 'petFriendly': False,\n",
    "        'alcoholServed': '', 'minimumAge': '', 'ticketsAtVenue': '', 'prohibitedItemList': '',\n",
    "        'washroomAvailable': '', 'onlineMenu': '', 'happyHours': '', 'danceFloorAvailable': '',\n",
    "        'poolAvailable': '', 'isActivityAvailable': '', 'artists': '', 'highlightImages': '',\n",
    "        'highlightVideos': '', 'galleryImages': '', 'galleryVideos': '', 'kidFriendly': False,\n",
    "        'seatingArrangement': '', 'entryAllowedFor': '', 'tags': '',\n",
    "        'Plur_json_format': '', 'jsonFilePath': ''\n",
    "    }\n",
    "\n",
    "def build_plur_json(event):\n",
    "    def to_int(val): return int(val) if str(val).isdigit() else 0\n",
    "    def to_float(val): return float(val) if re.match(r'^-?\\d+(?:\\.\\d+)?$', str(val)) else None\n",
    "\n",
    "    return {\n",
    "        \"eventName\": event[\"eventName\"],\n",
    "        \"eventDescription\": event[\"eventDescription\"],\n",
    "        \"eventDateAndTime\": event[\"eventDateAndTime\"],\n",
    "        \"eventDuration\": to_int(event[\"eventDuration\"]),\n",
    "        \"venue\": {\n",
    "            \"venueName\": event[\"venueName\"],\n",
    "            \"locality\": event[\"locality\"],\n",
    "            \"address\": event[\"address\"],\n",
    "            \"city\": event[\"city\"],\n",
    "            \"state\": event[\"state\"],\n",
    "            \"zipcode\": event[\"zipcode\"],\n",
    "            \"geolocation\": {\n",
    "                \"lat\": to_float(event[\"lat\"]),\n",
    "                \"lon\": to_float(event[\"lon\"]),\n",
    "            },\n",
    "            \"layout\": event.get(\"layout\", \"\")\n",
    "        },\n",
    "        \"highlightImageLinks\": [event[\"highlightImages\"]] if event[\"highlightImages\"] else [],\n",
    "        \"galleryImageLinks\": [event[\"highlightImages\"]] if event[\"highlightImages\"] else [],\n",
    "        \"ticketAmount\": to_int(event[\"ticketAmount\"]),\n",
    "        \"ticketLink\": event[\"ticketLink\"],\n",
    "        \"supportedLanguages\": [\"English\"],\n",
    "        \"category\": event[\"category\"],\n",
    "        \"subCategory\": event[\"subCategory\"],\n",
    "        \"eventType\": event[\"eventType\"],\n",
    "        \"eventFeatures\": {\n",
    "            \"foodAvailable\": event[\"foodAvailable\"] == \"Yes\",\n",
    "            \"smokingAllowed\": event[\"smokingAllowed\"] == \"Yes\",\n",
    "            \"wheelchairAccess\": event[\"wheelchairAccess\"] == \"Yes\",\n",
    "            \"parkingAvailable\": event[\"parkingAvailable\"] == \"Yes\",\n",
    "            \"supportAvailable\": event[\"supportAvailable\"] == \"Yes\",\n",
    "            \"petFriendly\": event[\"petFriendly\"],\n",
    "            \"alcoholServed\": event[\"alcoholServed\"] == \"Yes\",\n",
    "            \"minimumAge\": to_int(event[\"minimumAge\"]),\n",
    "            \"ticketsAtVenue\": event[\"ticketsAtVenue\"] == \"Yes\",\n",
    "            \"washroomAvailable\": event[\"washroomAvailable\"] == \"Yes\",\n",
    "            \"danceFloorAvailable\": event[\"danceFloorAvailable\"] == \"Yes\",\n",
    "            \"poolAvailable\": event[\"poolAvailable\"] == \"Yes\"\n",
    "        },\n",
    "        \"artists\": event[\"artists\"].split(\", \") if event[\"artists\"] else [],\n",
    "        \"sharableEventOgImageLink\": event[\"highlightImages\"],\n",
    "        \"attendeesCount\": to_int(event[\"attendeesCount\"]),\n",
    "        \"likesCount\": 0,\n",
    "        \"joinChatDetails\": {\n",
    "            \"joinChatLink\": \"\",\n",
    "            \"provider\": \"\",\n",
    "            \"isEnabled\": False\n",
    "        },\n",
    "        \"policyAndConditions\": event[\"policyAndConditions\"].split(\"\\n\") if event[\"policyAndConditions\"] else [],\n",
    "        \"frequentlyAskedQuestions\": []\n",
    "    }\n",
    "\n",
    "async def scrape_highape_event(url):\n",
    "    event = create_empty_event()\n",
    "    event['externalEventLink'] = url\n",
    "    try:\n",
    "        browser = await launch(headless=False, args=['--no-sandbox'])\n",
    "        page = await browser.newPage()\n",
    "        await page.setUserAgent('Mozilla/5.0')\n",
    "        await page.goto(url, {'waitUntil': 'domcontentloaded', 'timeout': 60000})\n",
    "        await asyncio.sleep(5)\n",
    "        raw_html = await page.content()\n",
    "        await browser.close()\n",
    "\n",
    "        soup = BeautifulSoup(raw_html, 'html.parser')\n",
    "        event['rawHtml'] = raw_html\n",
    "\n",
    "        def sel(selector): return soup.select_one(selector)\n",
    "        def txt(selector): return sel(selector).get_text(strip=True) if sel(selector) else ''\n",
    "        def href(selector): return sel(selector)['href'] if sel(selector) else ''\n",
    "\n",
    "        event['eventName'] = txt('h1.mob-event-name-heading') or txt('h1.event-name-heading')\n",
    "        venue_full = txt('h2.mob-venue-name-details-event') or txt('h2.venue-name-details-event')\n",
    "        event['venueName'] = re.sub(r'^.*?-\\s*', '', venue_full)\n",
    "        event['eventDescription'] = txt('#desc .event-content-div')\n",
    "        event['eventDateAndTime'] = txt('div.quick_look_divs:nth-child(2) span.details')\n",
    "        event['ticketAmount'] = txt('div.quick_look_divs:nth-child(3) span.details') or 'Free Entry'\n",
    "        event['ticketLink'] = href('a#book_thru_me')\n",
    "        event['category'] = ', '.join([e.get_text(strip=True) for e in soup.select('div.quick_look_divs h4.category_text')])\n",
    "        event['artists'] = ', '.join([e.get_text(strip=True) for e in soup.select('#artist h3')])\n",
    "        event['highlightImages'] = sel('#image_carousel_web img.img-background-events')['src'] if sel('#image_carousel_web img.img-background-events') else ''\n",
    "\n",
    "        address = txt('#venue .address p')\n",
    "        event['address'] = address\n",
    "        zip_match = re.search(r'\\b(\\d{6})\\b', address)\n",
    "        if zip_match: event['zipcode'] = zip_match.group(1)\n",
    "        parts = re.findall(r'[A-Za-z]+', address)\n",
    "        if len(parts) >= 4:\n",
    "            event['locality'] = parts[-4]\n",
    "            event['city'] = parts[-3]\n",
    "            event['state'] = parts[-2]\n",
    "\n",
    "        event['lat'] = sel('#venue_lat')['value'] if sel('#venue_lat') else ''\n",
    "        event['lon'] = sel('#venue_lng')['value'] if sel('#venue_lng') else ''\n",
    "        event['geolocation'] = f\"{event['lat']},{event['lon']}\"\n",
    "\n",
    "        terms = soup.select('#tnc ul li')\n",
    "        event['policyAndConditions'] = '\\n'.join([f\"{i+1}. {t.get_text(strip=True)}\" for i, t in enumerate(terms)])\n",
    "        for t in terms:\n",
    "            txt_lower = t.get_text().lower()\n",
    "            if '21+' in txt_lower: event['minimumAge'] = \"21\"\n",
    "            if 'alcohol' in txt_lower: event['alcoholServed'] = 'Yes'\n",
    "            if 'smoking' in txt_lower: event['smokingAllowed'] = 'Yes'\n",
    "            if 'parking' in txt_lower: event['parkingAvailable'] = 'Yes'\n",
    "            if 'food' in txt_lower: event['foodAvailable'] = 'Yes'\n",
    "            if 'wheelchair' in txt_lower: event['wheelchairAccess'] = 'Yes'\n",
    "\n",
    "        json_file = os.path.join(OUTPUT_DIR, f\"event_{event['eventId']}.json\")\n",
    "        with open(json_file, 'w', encoding='utf-8') as f:\n",
    "            json.dump({\"eventId\": event['eventId'], \"externalEventLink\": url, \"rawHtml\": raw_html}, f, indent=2)\n",
    "        event['jsonFilePath'] = json_file\n",
    "\n",
    "        plur_json = build_plur_json(event)\n",
    "        event['Plur_json_format'] = json.dumps(plur_json, ensure_ascii=False, indent=2)\n",
    "        ALL_PLUR_JSONS.append(plur_json)\n",
    "\n",
    "        del event['rawHtml']\n",
    "        SUMMARY[\"success\"] += 1\n",
    "        return event\n",
    "    except Exception as e:\n",
    "        SUMMARY[\"failed\"] += 1\n",
    "        SUMMARY[\"failed_links\"].append(url)\n",
    "        print(f\"❌ Failed to scrape: {url}\\n{e}\")\n",
    "        return None\n",
    "\n",
    "async def main():\n",
    "    input_csv = input(\"📄 Enter the input CSV file name: \").strip()\n",
    "    column_name = input(\"🔍 Enter the column name containing event links: \").strip()\n",
    "\n",
    "    if not os.path.exists(input_csv):\n",
    "        print(f\"❌ File not found: {input_csv}\")\n",
    "        return\n",
    "\n",
    "    df_links = pd.read_csv(input_csv)\n",
    "    if column_name not in df_links.columns:\n",
    "        print(f\"❌ Column '{column_name}' not found in CSV\")\n",
    "        return\n",
    "\n",
    "    urls = df_links[column_name].dropna().unique()\n",
    "    SUMMARY[\"total\"] = len(urls)\n",
    "    print(f\"🚀 Starting to scrape {len(urls)} events...\\n\")\n",
    "\n",
    "    enriched_events = []\n",
    "    for url in urls:\n",
    "        event = await scrape_highape_event(url)\n",
    "        if event:\n",
    "            enriched_events.append(event)\n",
    "\n",
    "    timestamp = datetime.now().strftime(\"%Y%m%d_%H%M%S\")\n",
    "    output_csv = f\"highape_events_enriched_{timestamp}.csv\"\n",
    "    pd.DataFrame(enriched_events).to_csv(output_csv, index=False, quoting=1)\n",
    "\n",
    "    with open(f\"highape_events_structured_{timestamp}.json\", \"w\", encoding=\"utf-8\") as f:\n",
    "        json.dump(ALL_PLUR_JSONS, f, ensure_ascii=False, indent=2)\n",
    "\n",
    "    print(f\"\\n✅ Scraping completed. CSV saved as: {output_csv}\")\n",
    "    print(f\"📊 Summary: {SUMMARY['success']} succeeded, {SUMMARY['failed']} failed out of {SUMMARY['total']}\")\n",
    "    if SUMMARY['failed']:\n",
    "        print(\"❗ Failed links:\")\n",
    "        for link in SUMMARY['failed_links']:\n",
    "            print(f\"- {link}\")\n",
    "\n",
    "if __name__ == \"__main__\":\n",
    "    asyncio.get_event_loop().run_until_complete(main())\n"
   ]
  }
 ],
 "metadata": {
  "kernelspec": {
   "display_name": "Python 3 (ipykernel)",
   "language": "python",
   "name": "python3"
  },
  "language_info": {
   "codemirror_mode": {
    "name": "ipython",
    "version": 3
   },
   "file_extension": ".py",
   "mimetype": "text/x-python",
   "name": "python",
   "nbconvert_exporter": "python",
   "pygments_lexer": "ipython3",
   "version": "3.12.4"
  }
 },
 "nbformat": 4,
 "nbformat_minor": 5
}
